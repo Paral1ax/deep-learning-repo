{
  "cells": [
    {
      "cell_type": "markdown",
      "metadata": {
        "id": "w35Q6hOIy4sk"
      },
      "source": [
        "# Глубинное обучение 1 / Введение в глубинное обучение, ФКН ВШЭ\n",
        "\n",
        "## Домашнее задание 2: сверточный классификатор.\n",
        "\n",
        "### Общая информация\n",
        "\n",
        "Оценка после штрафа после мягкого дедлайна вычисляется по формуле $M_{\\text{penalty}} = M_{\\text{full}} \\cdot 0.85^{t/1440}$, где $M_{\\text{full}}$ — полная оценка за работу без учета штрафа, а $t$ — время в минутах, прошедшее после мягкого дедлайна (округление до двух цифр после запятой). Таким образом, спустя первые сутки после мягкого дедлайна вы не можете получить оценку выше 8.5, а если сдать через четыре дня после мягкого дедлайна, то ваш максимум — 5.22 балла.\n",
        "\n",
        "### Оценивание и штрафы\n",
        "\n",
        "Максимально допустимая оценка за работу — 10 баллов. Сдавать задание после указанного срока сдачи нельзя.\n",
        "\n",
        "Задание выполняется самостоятельно. «Похожие» решения считаются плагиатом и все задействованные студенты (в том числе те, у кого списали) не могут получить за него больше 0 баллов. Если вы нашли решение какого-то из заданий (или его часть) в открытом источнике, необходимо указать ссылку на этот источник в отдельном блоке в конце вашей работы (скорее всего вы будете не единственным, кто это нашел, поэтому чтобы исключить подозрение в плагиате, необходима ссылка на источник).\n",
        "\n",
        "Неэффективная реализация кода может негативно отразиться на оценке. Также оценка может быть снижена за плохо читаемый код и плохо оформленные графики. Все ответы должны сопровождаться кодом или комментариями о том, как они были получены.\n",
        "\n",
        "### О задании\n",
        "\n",
        "В этом задании вам предстоит познакомиться со сверточными сетями и их обучением для классификации изображений с использованием библиотеки PyTorch.\n"
      ]
    },
    {
      "cell_type": "code",
      "execution_count": 1,
      "metadata": {
        "id": "SaACifdX2QOo"
      },
      "outputs": [],
      "source": [
        "import torch\n",
        "import torch.nn as nn\n",
        "import torch.nn.functional as F\n",
        "import torch.optim as optim\n",
        "import torchvision\n",
        "import torchvision.transforms as transforms\n",
        "\n",
        "import matplotlib.pyplot as plt\n",
        "import numpy as np\n",
        "\n",
        "from sklearn.model_selection import train_test_split"
      ]
    },
    {
      "cell_type": "markdown",
      "metadata": {
        "id": "TIXaUYM-0JFl"
      },
      "source": [
        "## 0. Загрузка данных\n",
        "\n",
        "Работать мы будем с набором данных [CIFAR10](https://www.cs.toronto.edu/~kriz/cifar.html). CIFAR10 представляет собой набор изображений 32х32 пикселя, разделенных на 10 классов.\n",
        "\n",
        "![title](https://pytorch.org/tutorials/_images/cifar10.png)\n",
        "\n",
        "\n"
      ]
    },
    {
      "cell_type": "markdown",
      "metadata": {
        "id": "g-0EEjl_10vB"
      },
      "source": [
        "Набор данных уже определен в <code>torchvision.datasets</code>, так что возьмем его оттуда.\n",
        "\n"
      ]
    },
    {
      "cell_type": "code",
      "execution_count": 2,
      "metadata": {
        "id": "Cbwe92dT3aPZ"
      },
      "outputs": [],
      "source": [
        "def get_cifar10_data(batch_size, transform_train):\n",
        "    torch.manual_seed(0)\n",
        "    np.random.seed(0)\n",
        "\n",
        "    transform_test = transforms.Compose(\n",
        "        [transforms.ToTensor(),\n",
        "         # Переводим цвета пикселей в отрезок [-1, 1]\n",
        "         transforms.Normalize((0.5, 0.5, 0.5), (0.5, 0.5, 0.5))]\n",
        "    )\n",
        "\n",
        "    # Загружаем данные\n",
        "    trainvalset = torchvision.datasets.CIFAR10(root='./data', train=True,\n",
        "                                               download=True, transform=transform_train)\n",
        "    testset = torchvision.datasets.CIFAR10(root='./data', train=False,\n",
        "                                           download=True, transform=transform_test)\n",
        "\n",
        "    # В датасете определено разбиение только на train и test,\n",
        "    # так что валидацию дополнительно выделяем из обучающей выборки\n",
        "    train_idx, valid_idx = train_test_split(np.arange(len(trainvalset)), test_size=0.3,\n",
        "                                            shuffle=True, random_state=0)\n",
        "    trainset = torch.utils.data.Subset(trainvalset, train_idx)\n",
        "    valset = torch.utils.data.Subset(trainvalset, valid_idx)\n",
        "\n",
        "    train_loader = torch.utils.data.DataLoader(trainset, batch_size=batch_size,\n",
        "                                               shuffle=True, num_workers=2)\n",
        "    val_loader = torch.utils.data.DataLoader(valset, batch_size=batch_size,\n",
        "                                             shuffle=False, num_workers=2)\n",
        "    test_loader = torch.utils.data.DataLoader(testset, batch_size=batch_size,\n",
        "                                              shuffle=False, num_workers=2)\n",
        "\n",
        "    return train_loader, val_loader, test_loader\n"
      ]
    },
    {
      "cell_type": "code",
      "execution_count": 3,
      "metadata": {
        "colab": {
          "base_uri": "https://localhost:8080/"
        },
        "id": "2G2rLnN5y6Jj",
        "outputId": "2ba803ec-409e-44b8-b967-63998a978094"
      },
      "outputs": [
        {
          "output_type": "stream",
          "name": "stdout",
          "text": [
            "Downloading https://www.cs.toronto.edu/~kriz/cifar-10-python.tar.gz to ./data/cifar-10-python.tar.gz\n"
          ]
        },
        {
          "output_type": "stream",
          "name": "stderr",
          "text": [
            "100%|██████████| 170498071/170498071 [00:12<00:00, 13566641.07it/s]\n"
          ]
        },
        {
          "output_type": "stream",
          "name": "stdout",
          "text": [
            "Extracting ./data/cifar-10-python.tar.gz to ./data\n",
            "Files already downloaded and verified\n"
          ]
        }
      ],
      "source": [
        "transform = transforms.Compose(\n",
        "        [transforms.ToTensor(),\n",
        "         transforms.Normalize((0.5, 0.5, 0.5), (0.5, 0.5, 0.5))]\n",
        ")\n",
        "\n",
        "train_loader, val_loader, test_loader = get_cifar10_data(batch_size=64,\n",
        "                                                         transform_train=transform)"
      ]
    },
    {
      "cell_type": "markdown",
      "metadata": {
        "id": "-82HWgXs77W1"
      },
      "source": [
        "Посмотрим на изображения:"
      ]
    },
    {
      "cell_type": "code",
      "execution_count": 4,
      "metadata": {
        "colab": {
          "base_uri": "https://localhost:8080/",
          "height": 211
        },
        "id": "ACnwaC5iy6L2",
        "outputId": "e3bc104f-600f-4382-cccc-4f291b6147cb"
      },
      "outputs": [
        {
          "output_type": "display_data",
          "data": {
            "text/plain": [
              "<Figure size 640x480 with 1 Axes>"
            ],
            "image/png": "[encoded data removed]"
          },
          "metadata": {}
        },
        {
          "output_type": "stream",
          "name": "stdout",
          "text": [
            "ship frog horse horse\n"
          ]
        }
      ],
      "source": [
        "def imshow(img):\n",
        "    img = img / 2 + 0.5\n",
        "    npimg = img.numpy()\n",
        "    plt.imshow(np.transpose(npimg, (1, 2, 0)))\n",
        "    plt.show()\n",
        "\n",
        "\n",
        "dataiter = iter(train_loader)\n",
        "images, labels = next(dataiter)\n",
        "\n",
        "imshow(torchvision.utils.make_grid(images[:4]))\n",
        "\n",
        "classes = ('plane', 'car', 'bird', 'cat',\n",
        "           'deer', 'dog', 'frog', 'horse', 'ship', 'truck')\n",
        "print(*[classes[labels[i]] for i in range(4)])"
      ]
    },
    {
      "cell_type": "markdown",
      "metadata": {
        "id": "KFDilng29YZ_"
      },
      "source": [
        "## 1. Задание сверточной сети (3 балла)"
      ]
    },
    {
      "cell_type": "markdown",
      "metadata": {
        "id": "OX7Ul8YbYdQR"
      },
      "source": [
        "Теперь нам нужно задать сверточную нейронную сеть, которую мы будем обучать классифицировать изображения.\n",
        "\n",
        "Используем сеть, основанную на одном блоке архитектуры ResNet.\n",
        "\n",
        "<img src=\"https://i.ibb.co/2hg962h/basic-block.png\" width=\"500\"/>\n",
        "\n",
        "__Указания:__\n",
        "\n",
        "- Все сверточные слои должны иметь 32 выходных канала, а также не должны изменять ширину и высоту изображения.\n",
        "- Выход блока сократите до размерности 32х4х4, применив average pooling.\n",
        "- Для получения итоговых логитов, распрямите выход пулинга в вектор из 512 элементов, а затем пропустите его через линейный слой."
      ]
    },
    {
      "cell_type": "markdown",
      "metadata": {
        "id": "sbyIylT9O9Dr"
      },
      "source": [
        "**Задание 1.1 (3 балла).**\n",
        "\n",
        "Определите архитектуру сети соответственно схеме и указаниям выше.\n",
        "\n",
        "Ключевые слова: <code>Conv2d</code>, <code>BatchNorm2d</code>, <code>AvgPool2d</code>."
      ]
    },
    {
      "cell_type": "code",
      "execution_count": 5,
      "metadata": {
        "id": "s9ml1QGKy6N9"
      },
      "outputs": [],
      "source": [
        "n_classes = 10\n",
        "\n",
        "class BasicBlockNet(nn.Module):\n",
        "    def __init__(self):\n",
        "        super().__init__()\n",
        "        # Базовый блок модели\n",
        "        self.conv_block = nn.Sequential(\n",
        "            nn.Conv2d(in_channels=3, out_channels=32, kernel_size=3, padding=1),\n",
        "            nn.BatchNorm2d(32),\n",
        "            nn.ReLU(),\n",
        "            nn.Conv2d(in_channels=32, out_channels=32, kernel_size=3, padding=1),\n",
        "            nn.BatchNorm2d(32)\n",
        "        )\n",
        "        # Блок с пулингом\n",
        "        self.pooling_block = nn.Sequential(\n",
        "            nn.ReLU(),\n",
        "            nn.AvgPool2d(12, 6)\n",
        "        )\n",
        "        # Отдельная свертка на прокид старых градиентов\n",
        "        self.conv_1 = nn.Conv2d(in_channels=3, out_channels=32, kernel_size=1)\n",
        "        # Классификатор\n",
        "        self.classifier = nn.Linear(in_features=512, out_features=n_classes)\n",
        "\n",
        "    def forward(self, x):\n",
        "        conv_output = self.conv_1(x)\n",
        "        feature_map = self.conv_block(x)\n",
        "        feature_map+=conv_output\n",
        "        pooling = self.pooling_block(feature_map)\n",
        "        flat = torch.flatten(pooling, start_dim=1)\n",
        "        out = self.classifier(flat)\n",
        "        return out"
      ]
    },
    {
      "cell_type": "code",
      "execution_count": 6,
      "metadata": {
        "colab": {
          "base_uri": "https://localhost:8080/"
        },
        "id": "FI4BQg7Ky6Pw",
        "outputId": "6ff9f589-15aa-4fea-848e-0cc54a7b9ce5"
      },
      "outputs": [
        {
          "output_type": "execute_result",
          "data": {
            "text/plain": [
              "BasicBlockNet(\n",
              "  (conv_block): Sequential(\n",
              "    (0): Conv2d(3, 32, kernel_size=(3, 3), stride=(1, 1), padding=(1, 1))\n",
              "    (1): BatchNorm2d(32, eps=1e-05, momentum=0.1, affine=True, track_running_stats=True)\n",
              "    (2): ReLU()\n",
              "    (3): Conv2d(32, 32, kernel_size=(3, 3), stride=(1, 1), padding=(1, 1))\n",
              "    (4): BatchNorm2d(32, eps=1e-05, momentum=0.1, affine=True, track_running_stats=True)\n",
              "  )\n",
              "  (pooling_block): Sequential(\n",
              "    (0): ReLU()\n",
              "    (1): AvgPool2d(kernel_size=12, stride=6, padding=0)\n",
              "  )\n",
              "  (conv_1): Conv2d(3, 32, kernel_size=(1, 1), stride=(1, 1))\n",
              "  (classifier): Linear(in_features=512, out_features=10, bias=True)\n",
              ")"
            ]
          },
          "metadata": {},
          "execution_count": 6
        }
      ],
      "source": [
        "net = BasicBlockNet()\n",
        "net"
      ]
    },
    {
      "cell_type": "markdown",
      "metadata": {
        "id": "igPoGZEub8d3"
      },
      "source": [
        "Проверим, что выход сети имеет корректную размерность:"
      ]
    },
    {
      "cell_type": "code",
      "execution_count": 7,
      "metadata": {
        "id": "cCIzFUpJ_Agw"
      },
      "outputs": [],
      "source": [
        "assert net(torch.zeros((10, 3, 32, 32))).shape == (10, 10)"
      ]
    },
    {
      "cell_type": "markdown",
      "metadata": {
        "id": "08osX622cDGz"
      },
      "source": [
        "Чтобы проводить вычисления на GPU, в PyTorch необходимо руками перекладывать объекты, с которыми вы хотите проводить вычисления, на графический ускоритель. Это делается следующим образрм:"
      ]
    },
    {
      "cell_type": "code",
      "execution_count": 8,
      "metadata": {
        "colab": {
          "base_uri": "https://localhost:8080/"
        },
        "id": "56hDOMCFcDZX",
        "outputId": "3589b2f6-1453-441c-e137-6fb6c4a3ac9f"
      },
      "outputs": [
        {
          "output_type": "stream",
          "name": "stdout",
          "text": [
            "cuda:0\n"
          ]
        }
      ],
      "source": [
        "device = torch.device('cuda:0' if torch.cuda.is_available() else 'cpu')\n",
        "print(device)"
      ]
    },
    {
      "cell_type": "code",
      "execution_count": null,
      "metadata": {
        "id": "ohnDWbp0qbtC"
      },
      "outputs": [],
      "source": [
        "net = net.to(device)"
      ]
    },
    {
      "cell_type": "markdown",
      "metadata": {
        "id": "H_bOlTVUp5QF"
      },
      "source": [
        "Подключение GPU в google.colab:\n",
        "\n",
        "**Среда выполнения** -> **Сменить среду выполнения** -> **Аппаратный ускоритель** -> **GPU**"
      ]
    },
    {
      "cell_type": "markdown",
      "metadata": {
        "id": "AGi6XX_7_Bgg"
      },
      "source": [
        "## 2. Обучение и тестирование модели (3 балла)"
      ]
    },
    {
      "cell_type": "markdown",
      "metadata": {
        "id": "0agj_MQoO9Ds"
      },
      "source": [
        "**Задание 2.1 (2 балла).** Переходим к обучению модели. Заполните пропуски в функциях <code>test</code> и <code>train_epoch</code>. В качестве функции потерь будем использовать [кросс-энтропию](https://pytorch.org/docs/stable/generated/torch.nn.functional.cross_entropy.html), а в качестве метрики качества accuracy."
      ]
    },
    {
      "cell_type": "code",
      "execution_count": 12,
      "metadata": {
        "id": "g8gsPPRIevDS"
      },
      "outputs": [],
      "source": [
        "def test(model, loader):\n",
        "    loss_log = []\n",
        "    acc_log = []\n",
        "    model.eval()\n",
        "\n",
        "    for data, target in loader:\n",
        "        # Классическая работа с тестом модели\n",
        "        data = data.to(device)\n",
        "\n",
        "        target = target.to(device)\n",
        "\n",
        "        logits = model(data)\n",
        "\n",
        "        loss = F.cross_entropy(logits, target)\n",
        "\n",
        "        loss_log.append(loss.item())\n",
        "\n",
        "        acc = (logits.argmax(dim=1) == target).sum() / logits.shape[0]\n",
        "\n",
        "        acc_log.append(acc.item())\n",
        "\n",
        "    return np.mean(loss_log), np.mean(acc_log)\n",
        "\n",
        "def train_epoch(model, optimizer, train_loader):\n",
        "    loss_log = []\n",
        "    acc_log = []\n",
        "    model.train()\n",
        "\n",
        "    for data, target in train_loader:\n",
        "        # Классическое обучение модели, оно почти всегда одинаково\n",
        "        data = data.to(device)\n",
        "        target = target.to(device)\n",
        "\n",
        "        optimizer.zero_grad()\n",
        "\n",
        "        logits = model(data)\n",
        "\n",
        "        loss = F.cross_entropy(logits, target)\n",
        "\n",
        "        loss.backward()\n",
        "\n",
        "        optimizer.step()\n",
        "\n",
        "        loss_log.append(loss.item())\n",
        "        # Считаем accuracy по батчу\n",
        "        acc = (logits.argmax(dim=1) == target).sum() / logits.shape[0]\n",
        "\n",
        "        acc_log.append(acc.item())\n",
        "\n",
        "    return loss_log, acc_log\n",
        "\n",
        "def train(model, optimizer, n_epochs, train_loader, val_loader, scheduler=None):\n",
        "    train_loss_log, train_acc_log, val_loss_log, val_acc_log = [], [], [], []\n",
        "\n",
        "    for epoch in range(n_epochs):\n",
        "        train_loss, train_acc = train_epoch(model, optimizer, train_loader)\n",
        "        val_loss, val_acc = test(model, val_loader)\n",
        "\n",
        "        train_loss_log.extend(train_loss)\n",
        "        train_acc_log.extend(train_acc)\n",
        "\n",
        "        val_loss_log.append(val_loss)\n",
        "        val_acc_log.append(val_acc)\n",
        "\n",
        "        print(f\"Epoch {epoch}\")\n",
        "        print(f\" train loss: {np.mean(train_loss)}, train acc: {np.mean(train_acc)}\")\n",
        "        print(f\" val loss: {val_loss}, val acc: {val_acc}\\n\")\n",
        "\n",
        "        if scheduler is not None:\n",
        "            scheduler.step()\n",
        "\n",
        "    return train_loss_log, train_acc_log, val_loss_log, val_acc_log"
      ]
    },
    {
      "cell_type": "markdown",
      "metadata": {
        "id": "iSOqk_CAO9Dt"
      },
      "source": [
        "Запустим обучение модели. В качестве оптимизатора будем использовать стохастический градиентный спуск, который является де-факто стандартом в задачах компьютерного зрения (наравне с <code>Adam</code>).\n",
        "\n",
        "__Замечание:__ Для достижения наилучшего качества в нашем случае потребуется обучать модель несколько сотен эпох. Однако в целях экономии вашего времени и сил, во всех экспериментах мы ограничимся 20 эпохами."
      ]
    },
    {
      "cell_type": "code",
      "execution_count": null,
      "metadata": {
        "colab": {
          "base_uri": "https://localhost:8080/"
        },
        "id": "MKZBGhuAgMDu",
        "scrolled": true,
        "outputId": "d6b42b15-2445-40af-844f-55e9181ef0b7"
      },
      "outputs": [
        {
          "output_type": "stream",
          "name": "stdout",
          "text": [
            "Epoch 0\n",
            " train loss: 1.5242924204256243, train acc: 0.45497355709564097\n",
            " val loss: 1.4045334506542124, val acc: 0.5015957446808511\n",
            "\n",
            "Epoch 1\n",
            " train loss: 1.2168209880753889, train acc: 0.5751909768341664\n",
            " val loss: 1.1968613515508937, val acc: 0.5817154255319149\n",
            "\n",
            "Epoch 2\n",
            " train loss: 1.0922910401110675, train acc: 0.618952402793947\n",
            " val loss: 1.0487792912949907, val acc: 0.6354388297872341\n",
            "\n",
            "Epoch 3\n",
            " train loss: 1.0263214871913904, train acc: 0.6431591146824782\n",
            " val loss: 1.0125710332647282, val acc: 0.6564051420130628\n",
            "\n",
            "Epoch 4\n",
            " train loss: 0.9869257639923305, train acc: 0.6568988313186757\n",
            " val loss: 0.9814073641249474, val acc: 0.6626994680851064\n",
            "\n",
            "Epoch 5\n",
            " train loss: 0.9441776886936516, train acc: 0.6760413946355719\n",
            " val loss: 0.9609764050930104, val acc: 0.6673980497299357\n",
            "\n",
            "Epoch 6\n",
            " train loss: 0.9241868965804468, train acc: 0.6798078806788219\n",
            " val loss: 0.9441516379092602, val acc: 0.6753102837724888\n",
            "\n",
            "Epoch 7\n",
            " train loss: 0.8979601623589204, train acc: 0.6888874380200611\n",
            " val loss: 0.9951196399140865, val acc: 0.659906914893617\n",
            "\n",
            "Epoch 8\n",
            " train loss: 0.8753097082404812, train acc: 0.6969590625117859\n",
            " val loss: 0.9153534866393881, val acc: 0.6808510638297872\n",
            "\n",
            "Epoch 9\n",
            " train loss: 0.8598576777595924, train acc: 0.70183141815597\n",
            " val loss: 0.9315852657277534, val acc: 0.6730496454746165\n",
            "\n",
            "Epoch 10\n",
            " train loss: 0.8421610075115503, train acc: 0.7067649843923789\n",
            " val loss: 0.9145256559899513, val acc: 0.6874556739279565\n",
            "\n",
            "Epoch 11\n",
            " train loss: 0.8324058148499163, train acc: 0.7116903892600777\n",
            " val loss: 0.8743461763605158, val acc: 0.6975842199427016\n",
            "\n",
            "Epoch 12\n",
            " train loss: 0.813596391754133, train acc: 0.7186683860949667\n",
            " val loss: 0.9397675714594252, val acc: 0.6785460994598713\n",
            "\n",
            "Epoch 13\n",
            " train loss: 0.8081878691203416, train acc: 0.7218431706184443\n",
            " val loss: 0.8735006479506797, val acc: 0.6989804965384463\n",
            "\n",
            "Epoch 14\n",
            " train loss: 0.7968616191931137, train acc: 0.7251077305246315\n",
            " val loss: 0.9024879983130921, val acc: 0.6953900710065314\n",
            "\n",
            "Epoch 15\n",
            " train loss: 0.7915738501213151, train acc: 0.7260381301534677\n",
            " val loss: 0.8968201280908382, val acc: 0.7022384752618506\n",
            "\n",
            "Epoch 16\n",
            " train loss: 0.7786428636890007, train acc: 0.7289599112662363\n",
            " val loss: 1.007466190926572, val acc: 0.671254432708659\n",
            "\n",
            "Epoch 17\n",
            " train loss: 0.7705779482612226, train acc: 0.7325672499658421\n",
            " val loss: 0.8328535569475052, val acc: 0.7173537234042553\n",
            "\n",
            "Epoch 18\n",
            " train loss: 0.7679326831749632, train acc: 0.7323550536166161\n",
            " val loss: 0.8674098172086351, val acc: 0.7056072696726373\n",
            "\n",
            "Epoch 19\n",
            " train loss: 0.7580576517246324, train acc: 0.7378068687275079\n",
            " val loss: 0.8391391749077655, val acc: 0.713785461161999\n",
            "\n"
          ]
        }
      ],
      "source": [
        "optimizer = optim.SGD(net.parameters(), lr=0.1, momentum=0.9)\n",
        "train_loss_log, train_acc_log, val_loss_log, val_acc_log = train(net, optimizer, 20, train_loader, val_loader)"
      ]
    },
    {
      "cell_type": "markdown",
      "metadata": {
        "id": "gUb1jQW8O9Dt"
      },
      "source": [
        "Посчитайте точность на тестовой выборке:"
      ]
    },
    {
      "cell_type": "code",
      "execution_count": null,
      "metadata": {
        "colab": {
          "base_uri": "https://localhost:8080/"
        },
        "id": "Jyuc55B9_Amc",
        "outputId": "695205eb-dc45-4f9e-9bf2-47c2a273fa86"
      },
      "outputs": [
        {
          "output_type": "execute_result",
          "data": {
            "text/plain": [
              "(0.8476887926174577, 0.7146695859872612)"
            ]
          },
          "metadata": {},
          "execution_count": 51
        }
      ],
      "source": [
        "# Считаем тест\n",
        "loss_log, acc_log = test(net, test_loader)\n",
        "loss_log, acc_log"
      ]
    },
    {
      "cell_type": "markdown",
      "source": [
        "# Accuracy получилась 71% на тестовой"
      ],
      "metadata": {
        "id": "9LQ6prx1VuSs"
      }
    },
    {
      "cell_type": "markdown",
      "metadata": {
        "id": "zM38Q9fwO9Dt"
      },
      "source": [
        "Если вы все сделали правильно, у вас должна была получиться точность $\\ge 67\\%$."
      ]
    },
    {
      "cell_type": "markdown",
      "metadata": {
        "id": "DHFNSKcoO9Dt"
      },
      "source": [
        "**Задание 2.2 (1 балл).** Постройте графики зависимости функции потерь и точности классификации от номера шага оптимизатора. На каждом графике расположите данные и для обучающей и для валидационной выборки, итого у вас должно получиться два графика. Обратите внимание, что на обучающей выборке эти данные считаются по каждому батчу, на валидационной же они считаются по всей выборке раз в эпоху."
      ]
    },
    {
      "cell_type": "code",
      "execution_count": 9,
      "metadata": {
        "id": "LzIP0tGLO9Dt"
      },
      "outputs": [],
      "source": [
        "# Данный код взят из семинара по dl у продвинутой группы\n",
        "\n",
        "import seaborn as sns\n",
        "import matplotlib.pyplot as plt\n",
        "from IPython.display import clear_output\n",
        "from tqdm.notebook import tqdm\n",
        "\n",
        "\n",
        "sns.set_style('whitegrid')\n",
        "plt.rcParams.update({'font.size': 15})\n",
        "\n",
        "\n",
        "def plot_losses(train_losses, test_losses, train_accuracies, test_accuracies):\n",
        "    clear_output()\n",
        "    fig, axs = plt.subplots(1, 2, figsize=(13, 4))\n",
        "    axs[0].plot(range(1, len(train_losses) + 1), train_losses, label='train')\n",
        "    axs[0].plot(range(1, len(test_losses) + 1), test_losses, label='test')\n",
        "    axs[0].set_ylabel('loss')\n",
        "\n",
        "    axs[1].plot(range(1, len(train_accuracies) + 1), train_accuracies, label='train')\n",
        "    axs[1].plot(range(1, len(test_accuracies) + 1), test_accuracies, label='test')\n",
        "    axs[1].set_ylabel('accuracy')\n",
        "\n",
        "    for ax in axs:\n",
        "        ax.set_xlabel('epoch')\n",
        "        ax.legend()\n",
        "\n",
        "    plt.show()"
      ]
    },
    {
      "cell_type": "code",
      "source": [
        "#  Считаю количество бачей в одной эпохе\n",
        "skip_size = int(len(train_loss_log) / 20)\n",
        "#  Чтобы честно посчитать обучающий лосс и точность усредняю лоссы и точности по эпохам\n",
        "#  ПРеобразую массив в нумпаевский массив и делаю решейп чтобы группировать элементы по skip_size (по 547 элементов в эпоху)\n",
        "train_skip_loss = np.asarray(train_loss_log).reshape(-1, skip_size).mean(axis=1)\n",
        "train_skip_accuracy = np.asarray(train_acc_log).reshape(-1, skip_size).mean(axis=1)\n",
        "\n",
        "plot_losses(train_skip_loss, val_loss_log, train_skip_accuracy, val_acc_log)"
      ],
      "metadata": {
        "colab": {
          "base_uri": "https://localhost:8080/",
          "height": 406
        },
        "id": "DWbmfz8gYON4",
        "outputId": "b8a1b4a8-e868-46bc-fb39-87eea0fbfb7c"
      },
      "execution_count": null,
      "outputs": [
        {
          "output_type": "display_data",
          "data": {
            "text/plain": [
              "<Figure size 1300x400 with 2 Axes>"
            ],
            "image/png": "[encoded data removed]"
          },
          "metadata": {}
        }
      ]
    },
    {
      "cell_type": "markdown",
      "metadata": {
        "id": "_ttOJPj-O9Dt"
      },
      "source": [
        "## 3. Расписание длины шага (2 балла)"
      ]
    },
    {
      "cell_type": "markdown",
      "metadata": {
        "id": "qiz3JstuO9Dt"
      },
      "source": [
        "С курса \"Машинное обучение 1\" вы уже должны знать, что сходимость стохастического градиентного спуска мы можем теоретически гарантировать только если будем определенным образом со временем уменьшать длину шага. На практике при обучении нейронных сетей такая техника оказывается очень полезной, однако теоретически обоснованными способами уменьшения длины шага фантазия не ограничивается.\n",
        "\n",
        "Одним из простейших способов является кусочно постоянная функция: на нескольких фиксированных эпохах уменьшаем длину шага в константу раз."
      ]
    },
    {
      "cell_type": "code",
      "execution_count": null,
      "metadata": {
        "id": "V2Z0OT3nO9Du",
        "colab": {
          "base_uri": "https://localhost:8080/"
        },
        "outputId": "9c948658-5d53-490f-972c-db80e2f4ea52"
      },
      "outputs": [
        {
          "output_type": "stream",
          "name": "stdout",
          "text": [
            "Epoch 0\n",
            " train loss: 1.4708442405765192, train acc: 0.47430791333998795\n",
            " val loss: 1.257772068267173, val acc: 0.5557624114320633\n",
            "\n",
            "Epoch 1\n",
            " train loss: 1.1683921590583635, train acc: 0.5903058893283935\n",
            " val loss: 1.1067726442154417, val acc: 0.6182624114320633\n",
            "\n",
            "Epoch 2\n",
            " train loss: 1.06038768156355, train acc: 0.6344713045648509\n",
            " val loss: 1.085573505848012, val acc: 0.6264184397585848\n",
            "\n",
            "Epoch 3\n",
            " train loss: 1.0030565606174784, train acc: 0.6530752154765225\n",
            " val loss: 1.0018424467837557, val acc: 0.6507978723404255\n",
            "\n",
            "Epoch 4\n",
            " train loss: 0.9683677315494043, train acc: 0.6628933795191471\n",
            " val loss: 0.9717195751819204, val acc: 0.6692597518575952\n",
            "\n",
            "Epoch 5\n",
            " train loss: 0.9396720988440993, train acc: 0.6726136067013854\n",
            " val loss: 1.0255708793376355, val acc: 0.6497783688788719\n",
            "\n",
            "Epoch 6\n",
            " train loss: 0.9101861148146432, train acc: 0.6846883978006827\n",
            " val loss: 0.9686667520949181, val acc: 0.6645390071767442\n",
            "\n",
            "Epoch 7\n",
            " train loss: 0.8942978765672478, train acc: 0.6904911530737031\n",
            " val loss: 0.9652137758884024, val acc: 0.6791001773895101\n",
            "\n",
            "Epoch 8\n",
            " train loss: 0.8754035099332904, train acc: 0.6966693327239488\n",
            " val loss: 1.0290164435163458, val acc: 0.6448581561129144\n",
            "\n",
            "Epoch 9\n",
            " train loss: 0.8716839550835995, train acc: 0.6977507182187529\n",
            " val loss: 0.9372698613937865, val acc: 0.6805407803109351\n",
            "\n",
            "Epoch 10\n",
            " train loss: 0.7647544376048135, train acc: 0.7365010447214465\n",
            " val loss: 0.8256630326839204, val acc: 0.7205230497299356\n",
            "\n",
            "Epoch 11\n",
            " train loss: 0.7446197884283292, train acc: 0.7432790872601748\n",
            " val loss: 0.8213416441958001, val acc: 0.7191489361702128\n",
            "\n",
            "Epoch 12\n",
            " train loss: 0.7376700238183386, train acc: 0.7463926613003942\n",
            " val loss: 0.8144429428780332, val acc: 0.7226063829787234\n",
            "\n",
            "Epoch 13\n",
            " train loss: 0.7327349701899715, train acc: 0.7493552494746457\n",
            " val loss: 0.8074753152563217, val acc: 0.7254210994598713\n",
            "\n",
            "Epoch 14\n",
            " train loss: 0.7298328738107978, train acc: 0.7480739096836808\n",
            " val loss: 0.8140879879606531, val acc: 0.7209219859001484\n",
            "\n",
            "Epoch 15\n",
            " train loss: 0.7154008998404473, train acc: 0.7554844608036648\n",
            " val loss: 0.8016729310471961, val acc: 0.7255984042553192\n",
            "\n",
            "Epoch 16\n",
            " train loss: 0.7135882132994845, train acc: 0.7547540154709894\n",
            " val loss: 0.7990711450576782, val acc: 0.7257313829787234\n",
            "\n",
            "Epoch 17\n",
            " train loss: 0.7132596960342344, train acc: 0.7571126600724034\n",
            " val loss: 0.8003469424044832, val acc: 0.7269946808510638\n",
            "\n",
            "Epoch 18\n",
            " train loss: 0.7124105821035026, train acc: 0.7567372355862118\n",
            " val loss: 0.7998057938636618, val acc: 0.7265070922831272\n",
            "\n",
            "Epoch 19\n",
            " train loss: 0.7117683025557119, train acc: 0.7559292570328582\n",
            " val loss: 0.7991430727725334, val acc: 0.7259751773895101\n",
            "\n"
          ]
        }
      ],
      "source": [
        "net = BasicBlockNet().to(device)\n",
        "optimizer = optim.SGD(net.parameters(), lr=0.1, momentum=0.9)\n",
        "scheduler = optim.lr_scheduler.MultiStepLR(optimizer, milestones=[10, 15], gamma=0.1)\n",
        "tr_loss_log, tr_acc_log, val_loss_log, val_acc_log = train(net, optimizer, 20, train_loader, val_loader, scheduler)"
      ]
    },
    {
      "cell_type": "markdown",
      "metadata": {
        "id": "5Xc76KvzO9Du"
      },
      "source": [
        "Посчитайте точность на тестовой выборке:"
      ]
    },
    {
      "cell_type": "code",
      "execution_count": null,
      "metadata": {
        "id": "1AjiYhKqO9Du",
        "colab": {
          "base_uri": "https://localhost:8080/"
        },
        "outputId": "d1549b42-29ef-4c73-87f3-3cc69b132d6a"
      },
      "outputs": [
        {
          "output_type": "execute_result",
          "data": {
            "text/plain": [
              "(0.8048488678066594, 0.7221337579617835)"
            ]
          },
          "metadata": {},
          "execution_count": 81
        }
      ],
      "source": [
        "loss_log, acc_log = test(net, test_loader)\n",
        "loss_log, acc_log"
      ]
    },
    {
      "cell_type": "code",
      "source": [
        "skip_size = int(len(train_loss_log) / 20)\n",
        "#  Чтобы честно посчитать обучающий лосс и точность усредняю лоссы и точности по эпохам\n",
        "#  ПРеобразую массив в нумпаевский массив и делаю решейп чтобы группировать элементы по skip_size (по 547 элементов в эпоху)\n",
        "train_skip_loss = np.asarray(train_loss_log).reshape(-1, skip_size).mean(axis=1)\n",
        "train_skip_accuracy = np.asarray(train_acc_log).reshape(-1, skip_size).mean(axis=1)\n",
        "\n",
        "plot_losses(train_skip_loss, val_loss_log, train_skip_accuracy, val_acc_log)"
      ],
      "metadata": {
        "colab": {
          "base_uri": "https://localhost:8080/",
          "height": 406
        },
        "id": "eIz9jpxglyni",
        "outputId": "2057f6f2-8fb2-4141-d0f1-fc21a71455ac"
      },
      "execution_count": null,
      "outputs": [
        {
          "output_type": "display_data",
          "data": {
            "text/plain": [
              "<Figure size 1300x400 with 2 Axes>"
            ],
            "image/png": "[encoded data removed]"
          },
          "metadata": {}
        }
      ]
    },
    {
      "cell_type": "markdown",
      "metadata": {
        "id": "yE0dgLYrO9Du"
      },
      "source": [
        "**Задание 3.0 (0.5 баллов).** Здесь может возникнуть вопрос: а что будет, если мы не будем уменьшать длину шага в процессе обучения, а сразу возьмем констатную, равную значению нашей кусочно-постоянной функции на последних эпохах, то есть $0.001$ в нашем случае. Запустите обучение и проверьте, что в таком случае мы получим худшее качество на тестовой выборке."
      ]
    },
    {
      "cell_type": "code",
      "execution_count": null,
      "metadata": {
        "id": "qZ2iB-LBO9Du",
        "colab": {
          "base_uri": "https://localhost:8080/"
        },
        "outputId": "b2629649-9a06-4a4b-b2c7-c1ba40cb9243"
      },
      "outputs": [
        {
          "output_type": "stream",
          "name": "stdout",
          "text": [
            "Epoch 0\n",
            " train loss: 1.8310784574400572, train acc: 0.3545638548390739\n",
            " val loss: 1.6046280876119086, val acc: 0.43045212765957447\n",
            "\n",
            "Epoch 1\n",
            " train loss: 1.5282654690350213, train acc: 0.4567568230236688\n",
            " val loss: 1.4463038921356202, val acc: 0.4797207446808511\n",
            "\n",
            "Epoch 2\n",
            " train loss: 1.4256570524445835, train acc: 0.49150806349417847\n",
            " val loss: 1.4448196456787434, val acc: 0.47819148936170214\n",
            "\n",
            "Epoch 3\n",
            " train loss: 1.363210798181607, train acc: 0.5189222055989602\n",
            " val loss: 1.3451874859789585, val acc: 0.5248448582405739\n",
            "\n",
            "Epoch 4\n",
            " train loss: 1.3120702719775588, train acc: 0.5346451423503799\n",
            " val loss: 1.276243876903615, val acc: 0.5520611702127659\n",
            "\n",
            "Epoch 5\n",
            " train loss: 1.2640408784205561, train acc: 0.5544120527708553\n",
            " val loss: 1.249450724936546, val acc: 0.5633865248649679\n",
            "\n",
            "Epoch 6\n",
            " train loss: 1.2174725855072412, train acc: 0.5728853813473006\n",
            " val loss: 1.2066391736903088, val acc: 0.5778147163543296\n",
            "\n",
            "Epoch 7\n",
            " train loss: 1.1842210958601134, train acc: 0.5850458671449525\n",
            " val loss: 1.1560970722360815, val acc: 0.5914671986661059\n",
            "\n",
            "Epoch 8\n",
            " train loss: 1.1459173024027614, train acc: 0.6011442282735975\n",
            " val loss: 1.1513822943606276, val acc: 0.5936835106382978\n",
            "\n",
            "Epoch 9\n",
            " train loss: 1.1239064083020909, train acc: 0.6089220424020966\n",
            " val loss: 1.0954578034421232, val acc: 0.6194592199427016\n",
            "\n",
            "Epoch 10\n",
            " train loss: 1.0933706010717361, train acc: 0.6214253068842007\n",
            " val loss: 1.091227459653895, val acc: 0.6205008865670955\n",
            "\n",
            "Epoch 11\n",
            " train loss: 1.0717107993593165, train acc: 0.6286155001772823\n",
            " val loss: 1.0639218322774198, val acc: 0.628878546268382\n",
            "\n",
            "Epoch 12\n",
            " train loss: 1.0528524339308032, train acc: 0.6347691956124314\n",
            " val loss: 1.070030801854235, val acc: 0.6269503547790203\n",
            "\n",
            "Epoch 13\n",
            " train loss: 1.039568983113744, train acc: 0.6410453121230633\n",
            " val loss: 1.0210491773930002, val acc: 0.650288120736467\n",
            "\n",
            "Epoch 14\n",
            " train loss: 1.0204493140825623, train acc: 0.6493046487489174\n",
            " val loss: 1.0165430025851472, val acc: 0.6433510638297872\n",
            "\n",
            "Epoch 15\n",
            " train loss: 1.0108157613159752, train acc: 0.6497045573412391\n",
            " val loss: 1.0029259123700731, val acc: 0.6496232271194458\n",
            "\n",
            "Epoch 16\n",
            " train loss: 0.9979864228142244, train acc: 0.6567927330895795\n",
            " val loss: 0.9982141167559522, val acc: 0.6537455675449777\n",
            "\n",
            "Epoch 17\n",
            " train loss: 0.9871995131973811, train acc: 0.6593798968866059\n",
            " val loss: 0.9793796554524847, val acc: 0.6608377659574468\n",
            "\n",
            "Epoch 18\n",
            " train loss: 0.9764134164702086, train acc: 0.6623955341754055\n",
            " val loss: 0.983361733213384, val acc: 0.6570700356300841\n",
            "\n",
            "Epoch 19\n",
            " train loss: 0.9659102736704964, train acc: 0.6680962719036848\n",
            " val loss: 0.977220530966495, val acc: 0.6612588654173182\n",
            "\n"
          ]
        }
      ],
      "source": [
        "net = BasicBlockNet().to(device)\n",
        "optimizer = optim.SGD(net.parameters(), lr=0.001, momentum=0.9)\n",
        "train_loss_log, train_acc_log, val_loss_log, val_acc_log = train(net, optimizer, 20, train_loader, val_loader)"
      ]
    },
    {
      "cell_type": "markdown",
      "source": [
        "# Видно что качество стало намного хуже, на целых 6% на валидационной выборке"
      ],
      "metadata": {
        "id": "HuoA-xuknjZD"
      }
    },
    {
      "cell_type": "markdown",
      "metadata": {
        "id": "xVotU378O9Du"
      },
      "source": [
        "**Задание 3.1 (1.5 балла).** Изучите, какие еще способы уменьшения длины шага представлены в <code>torch.optim.lr_scheduler</code>. Выберите несколько из них, объясните, как они устроены, и обучите модель с ними. Удалось ли добиться улучшения качества на тестовой выборке?"
      ]
    },
    {
      "cell_type": "code",
      "execution_count": null,
      "metadata": {
        "id": "nkGlzocOO9Du",
        "colab": {
          "base_uri": "https://localhost:8080/"
        },
        "outputId": "94140ae8-178d-4a80-a79b-cb5eb00d7203"
      },
      "outputs": [
        {
          "output_type": "stream",
          "name": "stdout",
          "text": [
            "Epoch 0\n",
            " train loss: 1.5275623615306735, train acc: 0.4539003330785134\n",
            " val loss: 1.3326089914808883, val acc: 0.5275044327086591\n",
            "\n",
            "Epoch 1\n",
            " train loss: 1.2073852231341262, train acc: 0.5741136720237174\n",
            " val loss: 1.1646360209647646, val acc: 0.5939273050490846\n",
            "\n",
            "Epoch 2\n",
            " train loss: 1.089852541848554, train acc: 0.6207315879286535\n",
            " val loss: 1.12345030764316, val acc: 0.608843085106383\n",
            "\n",
            "Epoch 3\n",
            " train loss: 1.018856568027022, train acc: 0.6456116153509569\n",
            " val loss: 1.0191152915041497, val acc: 0.6477171986661059\n",
            "\n",
            "Epoch 4\n",
            " train loss: 0.9708839507817786, train acc: 0.6625220358262768\n",
            " val loss: 0.9799289188486464, val acc: 0.6570921986661059\n",
            "\n",
            "Epoch 5\n",
            " train loss: 0.9404874518105055, train acc: 0.6749396057189927\n",
            " val loss: 1.024170766739135, val acc: 0.6520833335024245\n",
            "\n",
            "Epoch 6\n",
            " train loss: 0.9142316064407446, train acc: 0.6844394750743287\n",
            " val loss: 0.9720837045223155, val acc: 0.660815602921425\n",
            "\n",
            "Epoch 7\n",
            " train loss: 0.8853758024341227, train acc: 0.6943066075471463\n",
            " val loss: 0.9222820713164959, val acc: 0.6829565603682335\n",
            "\n",
            "Epoch 8\n",
            " train loss: 0.8620519537812396, train acc: 0.7016314638598091\n",
            " val loss: 0.9072150560135537, val acc: 0.6863918441407224\n",
            "\n",
            "Epoch 9\n",
            " train loss: 0.842687689680504, train acc: 0.7068506790907335\n",
            " val loss: 0.9013606578745741, val acc: 0.6860593973322118\n",
            "\n",
            "Epoch 10\n",
            " train loss: 0.8310989411156182, train acc: 0.7150977736635226\n",
            " val loss: 0.8960056370877205, val acc: 0.6908687944107867\n",
            "\n",
            "Epoch 11\n",
            " train loss: 0.8200441830990737, train acc: 0.7173462392425188\n",
            " val loss: 0.9026727247745433, val acc: 0.6896498228641267\n",
            "\n",
            "Epoch 12\n",
            " train loss: 0.8048689835032335, train acc: 0.7220104793307986\n",
            " val loss: 0.8447298574954906, val acc: 0.7077127659574468\n",
            "\n",
            "Epoch 13\n",
            " train loss: 0.7927067191008023, train acc: 0.725401540887857\n",
            " val loss: 0.8569074321300425, val acc: 0.706626773134191\n",
            "\n",
            "Epoch 14\n",
            " train loss: 0.7776768652133139, train acc: 0.7308533559987488\n",
            " val loss: 0.8522877010893315, val acc: 0.7062721632896586\n",
            "\n",
            "Epoch 15\n",
            " train loss: 0.7701101054657093, train acc: 0.7348606033996429\n",
            " val loss: 0.8602462649345398, val acc: 0.7074024824385947\n",
            "\n",
            "Epoch 16\n",
            " train loss: 0.7639497468414864, train acc: 0.738080275559992\n",
            " val loss: 0.8392385579170065, val acc: 0.711812943346957\n",
            "\n",
            "Epoch 17\n",
            " train loss: 0.7531922978282629, train acc: 0.741789631804339\n",
            " val loss: 0.8230837723042103, val acc: 0.718129432708659\n",
            "\n",
            "Epoch 18\n",
            " train loss: 0.7441285249302113, train acc: 0.74447881303714\n",
            " val loss: 0.8285691045700235, val acc: 0.7193705675449777\n",
            "\n",
            "Epoch 19\n",
            " train loss: 0.7396615331743928, train acc: 0.7456662967610402\n",
            " val loss: 0.8113678612607591, val acc: 0.7230939718002969\n",
            "\n"
          ]
        }
      ],
      "source": [
        "net = BasicBlockNet().to(device)\n",
        "optimizer = optim.SGD(net.parameters(), lr=0.1, momentum=0.9)\n",
        "scheduler = optim.lr_scheduler.ExponentialLR(optimizer, gamma=0.9, last_epoch=-1)\n",
        "tr_loss_log, tr_acc_log, val_loss_log, val_acc_log = train(net, optimizer, 20, train_loader, val_loader, scheduler)"
      ]
    },
    {
      "cell_type": "code",
      "source": [
        "net = BasicBlockNet().to(device)\n",
        "optimizer = optim.SGD(net.parameters(), lr=0.1, momentum=0.9)\n",
        "scheduler = optim.lr_scheduler.CosineAnnealingLR(optimizer, T_max=20)\n",
        "tr_loss_log, tr_acc_log, val_loss_log, val_acc_log = train(net, optimizer, 20, train_loader, val_loader, scheduler)"
      ],
      "metadata": {
        "colab": {
          "base_uri": "https://localhost:8080/"
        },
        "id": "cQfb3F-sGQzi",
        "outputId": "0272a3bc-5767-44ac-8b74-8ef2727a7e6f"
      },
      "execution_count": null,
      "outputs": [
        {
          "output_type": "stream",
          "name": "stdout",
          "text": [
            "Epoch 0\n",
            " train loss: 1.4977602434550605, train acc: 0.4683174458238717\n",
            " val loss: 1.3338945094575274, val acc: 0.5314494680851064\n",
            "\n",
            "Epoch 1\n",
            " train loss: 1.1888201064557873, train acc: 0.5856375685557587\n",
            " val loss: 1.1791477188150934, val acc: 0.601063829787234\n",
            "\n",
            "Epoch 2\n",
            " train loss: 1.0835293168559588, train acc: 0.6247061896367744\n",
            " val loss: 1.0336588915358198, val acc: 0.6426640071767442\n",
            "\n",
            "Epoch 3\n",
            " train loss: 1.0234347673395217, train acc: 0.6435427005373799\n",
            " val loss: 1.0328148329511602, val acc: 0.6464317377577437\n",
            "\n",
            "Epoch 4\n",
            " train loss: 0.983477040880123, train acc: 0.6582781078610603\n",
            " val loss: 0.9819334446115696, val acc: 0.6668882978723404\n",
            "\n",
            "Epoch 5\n",
            " train loss: 0.9502260196797373, train acc: 0.6702100744630999\n",
            " val loss: 0.9682738276238138, val acc: 0.6701462765957447\n",
            "\n",
            "Epoch 6\n",
            " train loss: 0.917564378142139, train acc: 0.6822848655623971\n",
            " val loss: 0.9585867904602213, val acc: 0.6700132978723404\n",
            "\n",
            "Epoch 7\n",
            " train loss: 0.898326343984447, train acc: 0.6877815683101606\n",
            " val loss: 1.0354106274056942, val acc: 0.6499335106382979\n",
            "\n",
            "Epoch 8\n",
            " train loss: 0.8689010595490771, train acc: 0.6997176155965551\n",
            " val loss: 0.9403088780159646, val acc: 0.6777925531914893\n",
            "\n",
            "Epoch 9\n",
            " train loss: 0.8418370231413972, train acc: 0.7082381170018281\n",
            " val loss: 0.8931834385750141, val acc: 0.6982934398854033\n",
            "\n",
            "Epoch 10\n",
            " train loss: 0.8208693689249551, train acc: 0.7173952076727119\n",
            " val loss: 0.8469476212846472, val acc: 0.7095744680851064\n",
            "\n",
            "Epoch 11\n",
            " train loss: 0.8003867892395208, train acc: 0.7247894359463094\n",
            " val loss: 0.8715715732980281, val acc: 0.7049867021276596\n",
            "\n",
            "Epoch 12\n",
            " train loss: 0.7841600711973319, train acc: 0.7293190129060414\n",
            " val loss: 0.8447304229787056, val acc: 0.7155585106382979\n",
            "\n",
            "Epoch 13\n",
            " train loss: 0.7629320697766989, train acc: 0.7378721598951211\n",
            " val loss: 0.8616552995874527, val acc: 0.707690602921425\n",
            "\n",
            "Epoch 14\n",
            " train loss: 0.7473355800294789, train acc: 0.7453316793363317\n",
            " val loss: 0.8314965404094534, val acc: 0.723470744680851\n",
            "\n",
            "Epoch 15\n",
            " train loss: 0.7304324302311571, train acc: 0.7514364064502542\n",
            " val loss: 0.8179641518187015, val acc: 0.7222739361702127\n",
            "\n",
            "Epoch 16\n",
            " train loss: 0.7191668959160827, train acc: 0.7525912444813814\n",
            " val loss: 0.8152699121769439, val acc: 0.7269946808510638\n",
            "\n",
            "Epoch 17\n",
            " train loss: 0.7063513794808327, train acc: 0.7582919823186272\n",
            " val loss: 0.7963006535743146, val acc: 0.733067376055616\n",
            "\n",
            "Epoch 18\n",
            " train loss: 0.7009610769626645, train acc: 0.7605404480065898\n",
            " val loss: 0.7905541737028893, val acc: 0.7337765957446809\n",
            "\n",
            "Epoch 19\n",
            " train loss: 0.6971484934281169, train acc: 0.7607281601407192\n",
            " val loss: 0.7894577758109316, val acc: 0.7336436170212766\n",
            "\n"
          ]
        }
      ]
    },
    {
      "cell_type": "markdown",
      "metadata": {
        "id": "5a_zMNNVO9Du"
      },
      "source": [
        "# Выводы:\n",
        "> 1. При использовании экспоненциального изменения lr мы достигаем результатов, сопоставимых с MultiStep scheduler. Если поизменять и подобрать грамотный lr и грамотное gamma, можно добиться хороших результатов.\n",
        "Данный scheduler изменяет lr по экспоненте:\n",
        "$$\n",
        "lr_{new} = lr_{old}^{gamma}\n",
        "$$\n",
        "> 2. Изменение lr методом косинусоного отжига показало результаты лучше, чем наш бейзлайн с scheduler\n",
        "Данный scheduler использует формулу косинусного обжига внутри:\n",
        "$$\n",
        "η_t = η_{min} + \\frac{1}{2}*(η_{max} - η_{min})*(1 + \\cos(\\frac{T_{cur}}{T_{max}} * π))\n",
        "$$"
      ]
    },
    {
      "cell_type": "markdown",
      "metadata": {
        "id": "7xFXgl_3_E--"
      },
      "source": [
        "## 4. Аугментации данных (2 балла)"
      ]
    },
    {
      "cell_type": "markdown",
      "metadata": {
        "id": "5G0Easo9O9Du"
      },
      "source": [
        "Еще одной стандартной техникой, применяющейся в глубинном обучении, а особенно часто в компьютерном зрении, являются аугментации данных. Суть аугментаций состоит в том, что мы можем некоторым синтетическим образом видоизменять объекты обучающей выборки, тем самым расширяя ее, а также делая итоговую модель более устойчивой к таким изменениям.\n",
        "\n",
        "Простейшая аугментация, которую можно применить к картинкам — разворот картинки по горизонтальной оси. То есть при обучении модели с вероятностью $0.5$ мы будем разворачивать картинку из обучающей выборки."
      ]
    },
    {
      "cell_type": "code",
      "execution_count": 10,
      "metadata": {
        "id": "SzeFpgtfO9Du",
        "colab": {
          "base_uri": "https://localhost:8080/",
          "height": 387
        },
        "outputId": "4ee65318-32f6-4759-d22a-113b69ea2fc8"
      },
      "outputs": [
        {
          "output_type": "display_data",
          "data": {
            "text/plain": [
              "<Figure size 640x480 with 1 Axes>"
            ],
            "image/png": "[encoded data removed]"
          },
          "metadata": {}
        },
        {
          "output_type": "display_data",
          "data": {
            "text/plain": [
              "<Figure size 640x480 with 1 Axes>"
            ],
            "image/png": "[encoded data removed]"
          },
          "metadata": {}
        }
      ],
      "source": [
        "dataiter = iter(train_loader)\n",
        "images, labels = next(dataiter)\n",
        "\n",
        "imshow(torchvision.utils.make_grid(images[:4]))\n",
        "\n",
        "imshow(torchvision.utils.make_grid(transforms.functional.hflip(images[:4])))"
      ]
    },
    {
      "cell_type": "markdown",
      "metadata": {
        "id": "BR4a-XJQO9Du"
      },
      "source": [
        "Наиболее удобным способом работы с аугментациями в PyTorch является их задание в списке <code>transforms</code>, который затем передается в загрузчик данных. Обучим нашу сеть, применяя горизонтальные повороты:"
      ]
    },
    {
      "cell_type": "code",
      "execution_count": 13,
      "metadata": {
        "id": "na0ScBf-_AqX",
        "scrolled": true,
        "colab": {
          "base_uri": "https://localhost:8080/"
        },
        "outputId": "7db86b9f-75d2-4e8c-e8ea-467a024c2050"
      },
      "outputs": [
        {
          "output_type": "stream",
          "name": "stdout",
          "text": [
            "Files already downloaded and verified\n",
            "Files already downloaded and verified\n",
            "Epoch 0\n",
            " train loss: 1.4988964337317556, train acc: 0.46300029384152763\n",
            " val loss: 1.2408282589405142, val acc: 0.5599512412192974\n",
            "\n",
            "Epoch 1\n",
            " train loss: 1.1672688540636513, train acc: 0.592407449725777\n",
            " val loss: 1.1149138564759113, val acc: 0.6143617021276596\n",
            "\n",
            "Epoch 2\n",
            " train loss: 1.0602942731306366, train acc: 0.6304436537421818\n",
            " val loss: 1.0091118845533817, val acc: 0.6573138297872341\n",
            "\n",
            "Epoch 3\n",
            " train loss: 1.0148449208880255, train acc: 0.6497739293021737\n",
            " val loss: 0.9944011842950862, val acc: 0.6574024823117763\n",
            "\n",
            "Epoch 4\n",
            " train loss: 0.9739019398933355, train acc: 0.6609632084095064\n",
            " val loss: 1.026145239332889, val acc: 0.646187943346957\n",
            "\n",
            "Epoch 5\n",
            " train loss: 0.9509497064777005, train acc: 0.6726462522851919\n",
            " val loss: 0.9659860750462147, val acc: 0.6652482271194458\n",
            "\n",
            "Epoch 6\n",
            " train loss: 0.930634792369724, train acc: 0.6785632672649851\n",
            " val loss: 0.9388938277325731, val acc: 0.6763741135597229\n",
            "\n",
            "Epoch 7\n",
            " train loss: 0.9220285317579615, train acc: 0.6810361713552388\n",
            " val loss: 0.884402456943025, val acc: 0.6996010638297873\n",
            "\n",
            "Epoch 8\n",
            " train loss: 0.9016743085502053, train acc: 0.6892342974978347\n",
            " val loss: 0.9283167362213135, val acc: 0.68125\n",
            "\n",
            "Epoch 9\n",
            " train loss: 0.876897686087889, train acc: 0.6954859297933701\n",
            " val loss: 0.8859681514983482, val acc: 0.7002881207364671\n",
            "\n",
            "Epoch 10\n",
            " train loss: 0.7900321707538103, train acc: 0.7280050275312699\n",
            " val loss: 0.8117224018624488, val acc: 0.723160461161999\n",
            "\n",
            "Epoch 11\n",
            " train loss: 0.7737616771317923, train acc: 0.7332487268683243\n",
            " val loss: 0.8132425880178492, val acc: 0.7240248228641266\n",
            "\n",
            "Epoch 12\n",
            " train loss: 0.7683039529885844, train acc: 0.7362317185733175\n",
            " val loss: 0.8048829033019694, val acc: 0.724844858240574\n",
            "\n",
            "Epoch 13\n",
            " train loss: 0.7602587563464149, train acc: 0.7378966441102176\n",
            " val loss: 0.7958564385454705, val acc: 0.7296764186088075\n",
            "\n",
            "Epoch 14\n",
            " train loss: 0.7591896251089176, train acc: 0.73942690651857\n",
            " val loss: 0.7953517453467592, val acc: 0.7298315603682335\n",
            "\n",
            "Epoch 15\n",
            " train loss: 0.7454970617398919, train acc: 0.7434586381345606\n",
            " val loss: 0.7888818184111981, val acc: 0.7320700356300841\n",
            "\n",
            "Epoch 16\n",
            " train loss: 0.7451535572299574, train acc: 0.7422589122486288\n",
            " val loss: 0.7857219824131499, val acc: 0.7339095744680851\n",
            "\n",
            "Epoch 17\n",
            " train loss: 0.7433794964602051, train acc: 0.7437483678134311\n",
            " val loss: 0.7864392732052092, val acc: 0.7335771276595745\n",
            "\n",
            "Epoch 18\n",
            " train loss: 0.7417630079241514, train acc: 0.743650430953045\n",
            " val loss: 0.7867891773264459, val acc: 0.734375\n",
            "\n",
            "Epoch 19\n",
            " train loss: 0.7399372986400368, train acc: 0.7464905981607803\n",
            " val loss: 0.7850283002599757, val acc: 0.7341090425531915\n",
            "\n"
          ]
        }
      ],
      "source": [
        "transform = transforms.Compose(\n",
        "        [transforms.RandomHorizontalFlip(),\n",
        "         transforms.ToTensor(),\n",
        "         transforms.Normalize((0.5, 0.5, 0.5), (0.5, 0.5, 0.5))]\n",
        ")\n",
        "\n",
        "train_loader, val_loader, test_loader = get_cifar10_data(batch_size=64, transform_train=transform)\n",
        "\n",
        "net = BasicBlockNet().to(device)\n",
        "optimizer = optim.SGD(net.parameters(), lr=0.1, momentum=0.9)\n",
        "scheduler = optim.lr_scheduler.MultiStepLR(optimizer, milestones=[10, 15], gamma=0.1)\n",
        "tr_loss_log, tr_acc_log, val_loss_log, val_acc_log = train(net, optimizer, 20, train_loader, val_loader, scheduler)"
      ]
    },
    {
      "cell_type": "markdown",
      "metadata": {
        "id": "v3ZIqDQqO9Dv"
      },
      "source": [
        "Посчитайте точность на тестовой выборке:"
      ]
    },
    {
      "cell_type": "code",
      "execution_count": null,
      "metadata": {
        "id": "nNJizMkM_Auh",
        "colab": {
          "base_uri": "https://localhost:8080/"
        },
        "outputId": "7193290c-7959-4a06-d88c-7e46a4c1f25b"
      },
      "outputs": [
        {
          "output_type": "execute_result",
          "data": {
            "text/plain": [
              "(0.7882424657511863, 0.732484076433121)"
            ]
          },
          "metadata": {},
          "execution_count": 17
        }
      ],
      "source": [
        "loss_log, acc_log = test(net, test_loader)\n",
        "loss_log, acc_log"
      ]
    },
    {
      "cell_type": "markdown",
      "metadata": {
        "id": "KndehSCHO9Dv"
      },
      "source": [
        "**Задание 4.1 (2 балла).** Изучите, какие еще способы аугментаций изображений представлены в <code>torchvision.transforms</code>. Выберите несколько из них, объясните, как они устроены, и обучите модель с ними (по отдельности и вместе). Удалось ли добиться улучшения качества на тестовой выборке?"
      ]
    },
    {
      "cell_type": "code",
      "execution_count": null,
      "metadata": {
        "id": "Np4rgvdZ_QRF",
        "colab": {
          "base_uri": "https://localhost:8080/"
        },
        "outputId": "4a1b9eef-1e90-4589-9089-115dda6293be"
      },
      "outputs": [
        {
          "output_type": "stream",
          "name": "stdout",
          "text": [
            "Files already downloaded and verified\n",
            "Files already downloaded and verified\n",
            "Epoch 0\n",
            " train loss: 1.5052863448803777, train acc: 0.46058451955017704\n",
            " val loss: 1.2728043748977336, val acc: 0.5487367021276596\n",
            "\n",
            "Epoch 1\n",
            " train loss: 1.1913380628312091, train acc: 0.5822342648366687\n",
            " val loss: 1.126155790876835, val acc: 0.6055186170212766\n",
            "\n",
            "Epoch 2\n",
            " train loss: 1.0535268189702216, train acc: 0.6346549360146252\n",
            " val loss: 1.0379536425813716, val acc: 0.6459884752618505\n",
            "\n",
            "Epoch 3\n",
            " train loss: 0.9956498448983843, train acc: 0.657845553684932\n",
            " val loss: 1.0403143504832653, val acc: 0.6478501773895101\n",
            "\n",
            "Epoch 4\n",
            " train loss: 0.9542871907598576, train acc: 0.668985864471038\n",
            " val loss: 0.9803426496526029, val acc: 0.6668661348363186\n",
            "\n",
            "Epoch 5\n",
            " train loss: 0.9247948933780956, train acc: 0.6790121441785335\n",
            " val loss: 0.9415404119390123, val acc: 0.6721852837724889\n",
            "\n",
            "Epoch 6\n",
            " train loss: 0.900103830332294, train acc: 0.6889364064502542\n",
            " val loss: 0.9325931381671987, val acc: 0.6798093973322118\n",
            "\n",
            "Epoch 7\n",
            " train loss: 0.8901276646192157, train acc: 0.6912379211437986\n",
            " val loss: 0.946788806610919, val acc: 0.6814273050490846\n",
            "\n",
            "Epoch 8\n",
            " train loss: 0.8700757373185655, train acc: 0.6987749739146538\n",
            " val loss: 0.9045911771185855, val acc: 0.6880984042553191\n",
            "\n",
            "Epoch 9\n",
            " train loss: 0.8497803778382499, train acc: 0.7061936864033478\n",
            " val loss: 0.8947790374147131, val acc: 0.694813829787234\n",
            "\n",
            "Epoch 10\n",
            " train loss: 0.749905292905009, train acc: 0.7429159050449811\n",
            " val loss: 0.8067343274329571, val acc: 0.7248005319148936\n",
            "\n",
            "Epoch 11\n",
            " train loss: 0.7336953847892106, train acc: 0.7500204035307415\n",
            " val loss: 0.8056226231950394, val acc: 0.7283023050490846\n",
            "\n",
            "Epoch 12\n",
            " train loss: 0.7275791844894507, train acc: 0.7511589188244486\n",
            " val loss: 0.8034258558395061, val acc: 0.7250886526513607\n",
            "\n",
            "Epoch 13\n",
            " train loss: 0.721093533734299, train acc: 0.752162770989608\n",
            " val loss: 0.7945795187290678, val acc: 0.73100620584285\n",
            "\n",
            "Epoch 14\n",
            " train loss: 0.7191016467550337, train acc: 0.753440030096218\n",
            " val loss: 0.8027351537917523, val acc: 0.7291223404255319\n",
            "\n",
            "Epoch 15\n",
            " train loss: 0.7047887756685016, train acc: 0.7594957887799474\n",
            " val loss: 0.7874280180068727, val acc: 0.7321365249917863\n",
            "\n",
            "Epoch 16\n",
            " train loss: 0.702376793572846, train acc: 0.7594427396653993\n",
            " val loss: 0.7875906386273972, val acc: 0.7311835106382979\n",
            "\n",
            "Epoch 17\n",
            " train loss: 0.7020630645250707, train acc: 0.7598059219895594\n",
            " val loss: 0.7881511167008826, val acc: 0.7315824468085106\n",
            "\n",
            "Epoch 18\n",
            " train loss: 0.7000277851464761, train acc: 0.7609607600206867\n",
            " val loss: 0.7870726813661292, val acc: 0.7321808510638298\n",
            "\n",
            "Epoch 19\n",
            " train loss: 0.6996350058471916, train acc: 0.762209454227845\n",
            " val loss: 0.7867593928854516, val acc: 0.7322916667512123\n",
            "\n"
          ]
        }
      ],
      "source": [
        "transform = transforms.Compose(\n",
        "        [transforms.ColorJitter(),\n",
        "         transforms.ToTensor(),\n",
        "         transforms.Normalize((0.5, 0.5, 0.5), (0.5, 0.5, 0.5))]\n",
        ")\n",
        "\n",
        "train_loader, val_loader, test_loader = get_cifar10_data(batch_size=64, transform_train=transform)\n",
        "\n",
        "net = BasicBlockNet().to(device)\n",
        "optimizer = optim.SGD(net.parameters(), lr=0.1, momentum=0.9)\n",
        "scheduler = optim.lr_scheduler.MultiStepLR(optimizer, milestones=[10, 15], gamma=0.1)\n",
        "tr_loss_log, tr_acc_log, val_loss_log, val_acc_log = train(net, optimizer, 20, train_loader, val_loader, scheduler)"
      ]
    },
    {
      "cell_type": "code",
      "source": [
        "transform = transforms.Compose(\n",
        "        [transforms.RandomRotation([-20, 20]),\n",
        "         transforms.ToTensor(),\n",
        "         transforms.Normalize((0.5, 0.5, 0.5), (0.5, 0.5, 0.5))]\n",
        ")\n",
        "\n",
        "train_loader, val_loader, test_loader = get_cifar10_data(batch_size=64, transform_train=transform)\n",
        "\n",
        "net = BasicBlockNet().to(device)\n",
        "optimizer = optim.SGD(net.parameters(), lr=0.1, momentum=0.9)\n",
        "scheduler = optim.lr_scheduler.MultiStepLR(optimizer, milestones=[10, 15], gamma=0.1)\n",
        "tr_loss_log, tr_acc_log, val_loss_log, val_acc_log = train(net, optimizer, 20, train_loader, val_loader, scheduler)"
      ],
      "metadata": {
        "colab": {
          "base_uri": "https://localhost:8080/"
        },
        "id": "qUVw79uAvRyx",
        "outputId": "94f728cf-0d17-46a3-f32e-68f648f16ce9"
      },
      "execution_count": null,
      "outputs": [
        {
          "output_type": "stream",
          "name": "stdout",
          "text": [
            "Files already downloaded and verified\n",
            "Files already downloaded and verified\n",
            "Epoch 0\n",
            " train loss: 1.5578206638095584, train acc: 0.440421781221735\n",
            " val loss: 1.3628128893831943, val acc: 0.5127437944107868\n",
            "\n",
            "Epoch 1\n",
            " train loss: 1.3136728630423329, train acc: 0.5328781992687386\n",
            " val loss: 1.234466571757134, val acc: 0.5619902482692232\n",
            "\n",
            "Epoch 2\n",
            " train loss: 1.196931722395163, train acc: 0.5750563137056187\n",
            " val loss: 1.1578149605304637, val acc: 0.6004432624958931\n",
            "\n",
            "Epoch 3\n",
            " train loss: 1.1342998751774567, train acc: 0.6012911334552102\n",
            " val loss: 1.1226093094399634, val acc: 0.6083333333756061\n",
            "\n",
            "Epoch 4\n",
            " train loss: 1.086503388785793, train acc: 0.6200868372943327\n",
            " val loss: 1.1302273636168623, val acc: 0.6105053191489361\n",
            "\n",
            "Epoch 5\n",
            " train loss: 1.0487197390204155, train acc: 0.6345569992632055\n",
            " val loss: 1.1127875848019377, val acc: 0.6086436170212766\n",
            "\n",
            "Epoch 6\n",
            " train loss: 1.0264146630899127, train acc: 0.6405229825642252\n",
            " val loss: 1.0566490584231438, val acc: 0.6338209220703612\n",
            "\n",
            "Epoch 7\n",
            " train loss: 1.0173208302728, train acc: 0.6436569601351861\n",
            " val loss: 1.0121603707049756, val acc: 0.6556959220703612\n",
            "\n",
            "Epoch 8\n",
            " train loss: 0.9967910920898047, train acc: 0.6536301907281336\n",
            " val loss: 1.0214879375823, val acc: 0.6493572696726373\n",
            "\n",
            "Epoch 9\n",
            " train loss: 0.9787691352136392, train acc: 0.6582168973778022\n",
            " val loss: 1.0151557047316369, val acc: 0.651817376055616\n",
            "\n",
            "Epoch 10\n",
            " train loss: 0.8798668378014015, train acc: 0.6929069274740202\n",
            " val loss: 0.9051013406286849, val acc: 0.6878767731341909\n",
            "\n",
            "Epoch 11\n",
            " train loss: 0.8642139028369618, train acc: 0.7013050079127771\n",
            " val loss: 0.9091004232142834, val acc: 0.6856826241980207\n",
            "\n",
            "Epoch 12\n",
            " train loss: 0.8630601324590512, train acc: 0.7005541591583266\n",
            " val loss: 0.9075748524767288, val acc: 0.6887632978723405\n",
            "\n",
            "Epoch 13\n",
            " train loss: 0.8574566236361725, train acc: 0.7030311439329353\n",
            " val loss: 0.8941677641361317, val acc: 0.6874113476022761\n",
            "\n",
            "Epoch 14\n",
            " train loss: 0.8491899225132121, train acc: 0.705544855084672\n",
            " val loss: 0.9024826498741799, val acc: 0.6894060284533399\n",
            "\n",
            "Epoch 15\n",
            " train loss: 0.8397795222359122, train acc: 0.7070424720181844\n",
            " val loss: 0.8896371719685007, val acc: 0.6917553191489362\n",
            "\n",
            "Epoch 16\n",
            " train loss: 0.8402964832359956, train acc: 0.7098295900024052\n",
            " val loss: 0.8893283415347972, val acc: 0.6933510638297873\n",
            "\n",
            "Epoch 17\n",
            " train loss: 0.8394081297260751, train acc: 0.708487039728182\n",
            " val loss: 0.8858531977267976, val acc: 0.6913120569066799\n",
            "\n",
            "Epoch 18\n",
            " train loss: 0.8351824018266563, train acc: 0.7111803017543047\n",
            " val loss: 0.8857004482695396, val acc: 0.6932180851063829\n",
            "\n",
            "Epoch 19\n",
            " train loss: 0.8335574339033263, train acc: 0.7107191825697583\n",
            " val loss: 0.8854303532458366, val acc: 0.6943705675449777\n",
            "\n"
          ]
        }
      ]
    },
    {
      "cell_type": "code",
      "source": [
        "#  Совместный\n",
        "transform = transforms.Compose(\n",
        "        [transforms.ColorJitter(),\n",
        "         transforms.RandomRotation([-20, 20]),\n",
        "         transforms.ToTensor(),\n",
        "         transforms.Normalize((0.5, 0.5, 0.5), (0.5, 0.5, 0.5))]\n",
        ")\n",
        "\n",
        "train_loader, val_loader, test_loader = get_cifar10_data(batch_size=64, transform_train=transform)\n",
        "\n",
        "net = BasicBlockNet().to(device)\n",
        "optimizer = optim.SGD(net.parameters(), lr=0.1, momentum=0.9)\n",
        "scheduler = optim.lr_scheduler.MultiStepLR(optimizer, milestones=[10, 15], gamma=0.1)\n",
        "tr_loss_log, tr_acc_log, val_loss_log, val_acc_log = train(net, optimizer, 20, train_loader, val_loader, scheduler)"
      ],
      "metadata": {
        "colab": {
          "base_uri": "https://localhost:8080/"
        },
        "id": "3uXZsz7j3DFX",
        "outputId": "b9849784-8bd5-4e4a-b2c7-84e42441e0f6"
      },
      "execution_count": null,
      "outputs": [
        {
          "output_type": "stream",
          "name": "stdout",
          "text": [
            "Files already downloaded and verified\n",
            "Files already downloaded and verified\n",
            "Epoch 0\n",
            " train loss: 1.563281850579452, train acc: 0.4367409898768395\n",
            " val loss: 1.3847727866882973, val acc: 0.5032801418862445\n",
            "\n",
            "Epoch 1\n",
            " train loss: 1.311164121305267, train acc: 0.5351837947556044\n",
            " val loss: 1.2514888900391599, val acc: 0.5585549646235527\n",
            "\n",
            "Epoch 2\n",
            " train loss: 1.2028862382855667, train acc: 0.5739830895795247\n",
            " val loss: 1.1442476868629456, val acc: 0.6035239361702127\n",
            "\n",
            "Epoch 3\n",
            " train loss: 1.1406977884948144, train acc: 0.5998016779993744\n",
            " val loss: 1.1197221976645448, val acc: 0.6114804965384463\n",
            "\n",
            "Epoch 4\n",
            " train loss: 1.0933359400445843, train acc: 0.6153409833010197\n",
            " val loss: 1.0995373416454235, val acc: 0.6210549646235527\n",
            "\n",
            "Epoch 5\n",
            " train loss: 1.0655916529338145, train acc: 0.6293377840322811\n",
            " val loss: 1.0746749292028712, val acc: 0.6217641845662543\n",
            "\n",
            "Epoch 6\n",
            " train loss: 1.0413160528953593, train acc: 0.6337898276623686\n",
            " val loss: 1.0538664193863565, val acc: 0.632690602921425\n",
            "\n",
            "Epoch 7\n",
            " train loss: 1.0287008978549044, train acc: 0.6412697506343207\n",
            " val loss: 1.0584188780886061, val acc: 0.6355939718002969\n",
            "\n",
            "Epoch 8\n",
            " train loss: 1.0110777564196962, train acc: 0.645411661054796\n",
            " val loss: 1.0459832457785911, val acc: 0.6403368795171697\n",
            "\n",
            "Epoch 9\n",
            " train loss: 0.9928025338505914, train acc: 0.6540627449042619\n",
            " val loss: 1.0087509348037396, val acc: 0.6511081561129144\n",
            "\n",
            "Epoch 10\n",
            " train loss: 0.8885547670193521, train acc: 0.6899647428305101\n",
            " val loss: 0.9091669376860274, val acc: 0.6848847518575952\n",
            "\n",
            "Epoch 11\n",
            " train loss: 0.879931251571209, train acc: 0.6932619483205039\n",
            " val loss: 0.90978268105933, val acc: 0.6812721632896586\n",
            "\n",
            "Epoch 12\n",
            " train loss: 0.874095309369089, train acc: 0.6943066075471463\n",
            " val loss: 0.9104990748648948, val acc: 0.6851728723404256\n",
            "\n",
            "Epoch 13\n",
            " train loss: 0.8705461663236566, train acc: 0.6978894620316556\n",
            " val loss: 0.9027043890445791, val acc: 0.688253546268382\n",
            "\n",
            "Epoch 14\n",
            " train loss: 0.8640025477631654, train acc: 0.6977752024338494\n",
            " val loss: 0.903548637095918, val acc: 0.6878102837724889\n",
            "\n",
            "Epoch 15\n",
            " train loss: 0.8503355611612854, train acc: 0.7052918516739631\n",
            " val loss: 0.8934060946423956, val acc: 0.6905363476022761\n",
            "\n",
            "Epoch 16\n",
            " train loss: 0.8505603018364915, train acc: 0.7055162901852206\n",
            " val loss: 0.8913810466198211, val acc: 0.6922650710065315\n",
            "\n",
            "Epoch 17\n",
            " train loss: 0.8487829554560415, train acc: 0.7058223427104776\n",
            " val loss: 0.8958081618268439, val acc: 0.691001773134191\n",
            "\n",
            "Epoch 18\n",
            " train loss: 0.8482294150200796, train acc: 0.7052388026683815\n",
            " val loss: 0.8913421914932576, val acc: 0.6900709220703612\n",
            "\n",
            "Epoch 19\n",
            " train loss: 0.8449038116761928, train acc: 0.706054942590445\n",
            " val loss: 0.8869695678670355, val acc: 0.6944592199427017\n",
            "\n"
          ]
        }
      ]
    },
    {
      "cell_type": "markdown",
      "metadata": {
        "id": "4K-MptLiO9Dv"
      },
      "source": [
        "# Выводы\n",
        "> Было решено попробовать 2 метода аугментации:\n",
        "1. ColorJitter - произвольное изменение яркости, контрастности, насыщенности и оттенка изображения. Использование данной аугментации по результатам примерно эквивалентно результатам бэйслайна. 73% accuracy при данной аугментации, против 73% при аугментации - горизонтальном отображении\n",
        "2. RandomRotation - вращение картинки на определенный градус. В примере была выбрана ротация от -20 до 20 градусов. Использование данной аугментации при обучении сильно снизило качество модели. 69% accuracy при использовании данной аугментации, против 73% при аугментации - горизонтальном отображении\n",
        "3. Теперь попробуем эти 2 метода аугментации вместе: \\\n",
        "Как видно, лучше не стало. Ротация + изменение яркости изображения привело к качеству 69% accuracy на валидации, против 73% при горизонтальном отображении\n"
      ]
    },
    {
      "cell_type": "markdown",
      "metadata": {
        "id": "HCENjLw5O9Dv"
      },
      "source": [
        "## Бонус. Логирование в wandb (2 балла)"
      ]
    },
    {
      "cell_type": "markdown",
      "metadata": {
        "id": "xOyzc1mnO9Dv"
      },
      "source": [
        "На практике специалиста по глубинному обучению часто встречаются ситуации, когда нейросеть учится на каком-то удаленном сервере. И обычно вам хочется отслеживать прогресс обучения, особенно когда время обучения модели исчисляется днями или неделями. Для таких целей существует несколько инструментов. Вероятно, самый популярный из них — [wandb](https://wandb.ai/site).\n",
        "\n",
        "Ваша задача состоит в том, чтобы разобраться как им пользоваться, и повторить задания 2.1 и 2.2 с его использованием. Обучение вы можете запускать в этом же ноутбуке, но теперь вам необходимо через wandb логировать значения функции потерь и точности на обучающей выборке и на валидационной. Результатом работы должны быть ваш код и публичная ссылка на страничку с графиками, идентичными графикам в задании 2.2."
      ]
    },
    {
      "cell_type": "code",
      "execution_count": 14,
      "metadata": {
        "id": "m5gSTLAr_QS4",
        "colab": {
          "base_uri": "https://localhost:8080/"
        },
        "outputId": "fba65372-783e-42c7-9eb2-3a1c251b0e1d"
      },
      "outputs": [
        {
          "output_type": "stream",
          "name": "stdout",
          "text": [
            "\u001b[2K     \u001b[90m━━━━━━━━━━━━━━━━━━━━━━━━━━━━━━━━━━━━━━━━\u001b[0m \u001b[32m6.7/6.7 MB\u001b[0m \u001b[31m54.7 MB/s\u001b[0m eta \u001b[36m0:00:00\u001b[0m\n",
            "\u001b[2K     \u001b[90m━━━━━━━━━━━━━━━━━━━━━━━━━━━━━━━━━━━━━━━━\u001b[0m \u001b[32m207.3/207.3 kB\u001b[0m \u001b[31m28.5 MB/s\u001b[0m eta \u001b[36m0:00:00\u001b[0m\n",
            "\u001b[2K     \u001b[90m━━━━━━━━━━━━━━━━━━━━━━━━━━━━━━━━━━━━━━━━\u001b[0m \u001b[32m289.0/289.0 kB\u001b[0m \u001b[31m35.1 MB/s\u001b[0m eta \u001b[36m0:00:00\u001b[0m\n",
            "\u001b[2K     \u001b[90m━━━━━━━━━━━━━━━━━━━━━━━━━━━━━━━━━━━━━━━━\u001b[0m \u001b[32m62.7/62.7 kB\u001b[0m \u001b[31m9.0 MB/s\u001b[0m eta \u001b[36m0:00:00\u001b[0m\n",
            "\u001b[?25h"
          ]
        }
      ],
      "source": [
        "!pip install wandb -qU"
      ]
    },
    {
      "cell_type": "code",
      "source": [
        "import wandb"
      ],
      "metadata": {
        "id": "iQWQKL6tcioe"
      },
      "execution_count": 15,
      "outputs": []
    },
    {
      "cell_type": "code",
      "source": [
        "wandb.login()"
      ],
      "metadata": {
        "colab": {
          "base_uri": "https://localhost:8080/",
          "height": 71
        },
        "id": "izSuKvJmcl5X",
        "outputId": "05ef8b01-a7f0-42eb-919c-7ba74d1f0d07"
      },
      "execution_count": 16,
      "outputs": [
        {
          "output_type": "display_data",
          "data": {
            "text/plain": [
              "<IPython.core.display.Javascript object>"
            ],
            "application/javascript": [
              "\n",
              "        window._wandbApiKey = new Promise((resolve, reject) => {\n",
              "            function loadScript(url) {\n",
              "            return new Promise(function(resolve, reject) {\n",
              "                let newScript = document.createElement(\"script\");\n",
              "                newScript.onerror = reject;\n",
              "                newScript.onload = resolve;\n",
              "                document.body.appendChild(newScript);\n",
              "                newScript.src = url;\n",
              "            });\n",
              "            }\n",
              "            loadScript(\"https://cdn.jsdelivr.net/npm/postmate/build/postmate.min.js\").then(() => {\n",
              "            const iframe = document.createElement('iframe')\n",
              "            iframe.style.cssText = \"width:0;height:0;border:none\"\n",
              "            document.body.appendChild(iframe)\n",
              "            const handshake = new Postmate({\n",
              "                container: iframe,\n",
              "                url: 'https://wandb.ai/authorize'\n",
              "            });\n",
              "            const timeout = setTimeout(() => reject(\"Couldn't auto authenticate\"), 5000)\n",
              "            handshake.then(function(child) {\n",
              "                child.on('authorize', data => {\n",
              "                    clearTimeout(timeout)\n",
              "                    resolve(data)\n",
              "                });\n",
              "            });\n",
              "            })\n",
              "        });\n",
              "    "
            ]
          },
          "metadata": {}
        },
        {
          "output_type": "stream",
          "name": "stderr",
          "text": [
            "\u001b[34m\u001b[1mwandb\u001b[0m: Appending key for api.wandb.ai to your netrc file: /root/.netrc\n"
          ]
        },
        {
          "output_type": "execute_result",
          "data": {
            "text/plain": [
              "True"
            ]
          },
          "metadata": {},
          "execution_count": 16
        }
      ]
    },
    {
      "cell_type": "markdown",
      "source": [
        "# Предупреждение:\n",
        "## Далее я решил много поэкспериментировать и там куча разных моделей с разными lr\n",
        "# P.S. Я же не зря купил колаб про"
      ],
      "metadata": {
        "id": "ktBrq05Z_u1r"
      }
    },
    {
      "cell_type": "code",
      "source": [
        "def test(model, loader):\n",
        "    loss_log = []\n",
        "    acc_log = []\n",
        "    model.eval()\n",
        "\n",
        "    for data, target in loader:\n",
        "\n",
        "        data = data.to(device)\n",
        "\n",
        "        target = target.to(device)\n",
        "\n",
        "        logits = model(data)\n",
        "\n",
        "        loss = F.cross_entropy(logits, target)\n",
        "\n",
        "        loss_log.append(loss.item())\n",
        "\n",
        "        acc = (logits.argmax(dim=1) == target).sum() / logits.shape[0]\n",
        "\n",
        "        acc_log.append(acc.item())\n",
        "\n",
        "    return np.mean(loss_log), np.mean(acc_log)\n",
        "\n",
        "def train_epoch(model, optimizer, train_loader):\n",
        "    loss_log = []\n",
        "    acc_log = []\n",
        "    model.train()\n",
        "\n",
        "    for data, target in train_loader:\n",
        "\n",
        "        data = data.to(device)\n",
        "        target = target.to(device)\n",
        "\n",
        "        optimizer.zero_grad()\n",
        "\n",
        "        logits = model(data)\n",
        "\n",
        "        loss = F.cross_entropy(logits, target)\n",
        "\n",
        "        loss.backward()\n",
        "\n",
        "        optimizer.step()\n",
        "\n",
        "        loss_log.append(loss.item())\n",
        "\n",
        "        acc = (logits.argmax(dim=1) == target).sum() / logits.shape[0]\n",
        "\n",
        "        acc_log.append(acc.item())\n",
        "\n",
        "    return loss_log, acc_log\n",
        "\n",
        "def train(model, optimizer, n_epochs, train_loader, val_loader, scheduler=None, run_name='run_1'):\n",
        "    train_loss_log, train_acc_log, val_loss_log, val_acc_log = [], [], [], []\n",
        "    # Инициализация wandb. Формально я неверно делал, потому что не передавал параметры в инит\n",
        "    wandb.init(\n",
        "        # Set the project where this run will be logged\n",
        "        project=\"dl_hw2_wandb_log_2\",\n",
        "        # We pass a run name (otherwise it’ll be randomly assigned, like sunshine-lollypop-10)\n",
        "        name=run_name,\n",
        "        # Track hyperparameters and run metadata\n",
        "        config={\n",
        "          \"learning_rate\": 0.0005,\n",
        "          \"architecture\": \"ResNet_double\",\n",
        "          \"batch_size\": 128,\n",
        "          \"dataset\": \"CIFAR-10\",\n",
        "          \"epochs\": 50,\n",
        "        })\n",
        "\n",
        "    for epoch in range(n_epochs):\n",
        "        train_loss, train_acc = train_epoch(model, optimizer, train_loader)\n",
        "        val_loss, val_acc = test(model, val_loader)\n",
        "\n",
        "        train_loss_log.extend(train_loss)\n",
        "        train_acc_log.extend(train_acc)\n",
        "\n",
        "        val_loss_log.append(val_loss)\n",
        "        val_acc_log.append(val_acc)\n",
        "\n",
        "        # Логируем данные\n",
        "        wandb.log({\"train_acc\": np.mean(train_acc), \"train_loss\": np.mean(train_loss),\n",
        "                   \"val_acc\": val_acc, \"val_loss\": val_loss},\n",
        "                  )\n",
        "\n",
        "        print(f\"Epoch {epoch}\")\n",
        "        print(f\" train loss: {np.mean(train_loss)}, train acc: {np.mean(train_acc)}\")\n",
        "        print(f\" val loss: {val_loss}, val acc: {val_acc}\\n\")\n",
        "\n",
        "        if scheduler is not None:\n",
        "            scheduler.step()\n",
        "\n",
        "    #  Здесь покоится отрисовка графиков\n",
        "\n",
        "    #skip_size = int(len(train_loss_log) / n_epochs)\n",
        "\n",
        "    #train_skip_loss = np.asarray(train_loss_log).reshape(-1, skip_size).mean(axis=1)\n",
        "    #train_skip_accuracy = np.asarray(train_acc_log).reshape(-1, skip_size).mean(axis=1)\n",
        "\n",
        "    #train_skip_loss_table = wandb.Table(data=train_skip_loss)\n",
        "    #train_skip_accuracy_table = wandb.Table(data=train_skip_accuracy)\n",
        "\n",
        "    #val_loss_log_data = [[i, loss] for loss, i in enumerate(val_loss_log)]\n",
        "    #val_acc_log_data = [[i, acc] for acc, i in enumerate(val_acc_log)]\n",
        "\n",
        "    #val_loss_log_table = wandb.Table(data=val_loss_log_data, columns=[\"epoch\", \"loss\"])\n",
        "    #val_acc_log_table = wandb.Table(data=val_acc_log_data, columns=[\"epoch\", \"acc\"])\n",
        "\n",
        "    #wandb.log({\n",
        "    #    \"final_model_plot_vall_loss\": wandb.plot.line(\n",
        "    #        val_loss_log_table, \"epoch\", \"loss\", title=\"Vall loss\"\n",
        "    #    ),\n",
        "    #            \"final_model_plot_vall_acc\": wandb.plot.line(\n",
        "    #        val_acc_log_table, \"epoch\", \"acc\", title=\"Vall acc\"\n",
        "    #    )\n",
        "    #})\n",
        "\n",
        "    wandb.finish()\n",
        "\n",
        "    return train_loss_log, train_acc_log, val_loss_log, val_acc_log"
      ],
      "metadata": {
        "id": "13MwzNBZdbJL"
      },
      "execution_count": 22,
      "outputs": []
    },
    {
      "cell_type": "code",
      "source": [
        "# Здесь я обучал базовую модель, которую мы сделали выше. Только взял 50 эпох\n",
        "# Использовал 2 вида аугментаций - отзеркаливание и изменения яркости\n",
        "transform = transforms.Compose(\n",
        "        [transforms.RandomHorizontalFlip(),\n",
        "         transforms.ColorJitter(),\n",
        "         transforms.ToTensor(),\n",
        "         transforms.Normalize((0.5, 0.5, 0.5), (0.5, 0.5, 0.5))]\n",
        ")\n",
        "\n",
        "train_loader, val_loader, test_loader = get_cifar10_data(batch_size=128, transform_train=transform)\n",
        "\n",
        "net = BasicBlockNet().to(device)\n",
        "optimizer = optim.SGD(net.parameters(), lr=0.5, momentum=0.8)\n",
        "scheduler = optim.lr_scheduler.CosineAnnealingLR(optimizer, T_max=50)\n",
        "tr_loss_log, tr_acc_log, val_loss_log, val_acc_log = train(net, optimizer, 50, train_loader, val_loader, scheduler)"
      ],
      "metadata": {
        "colab": {
          "base_uri": "https://localhost:8080/",
          "height": 1000,
          "referenced_widgets": [
            "26adec3450c54d1da70f51bff33cd296",
            "eb7bad2491a64f548e559575ff6c7478",
            "bcc760f424914cfba3ac239c55af620c",
            "e78ad34588e04b4a9c68d3a5949225c9",
            "830452e7a0ce4b359e37ed89c318a53d",
            "0440601ca19343759dbf2c53b4c84294",
            "4a67d4420db64f418d5c18ed3bd1f987",
            "83c78bcf71bb47e4945b522874154e66"
          ]
        },
        "id": "mi5vHlT1e4TN",
        "outputId": "225889fa-cab0-48f9-b3fe-0060dc9e3333"
      },
      "execution_count": null,
      "outputs": [
        {
          "output_type": "stream",
          "name": "stdout",
          "text": [
            "Files already downloaded and verified\n",
            "Files already downloaded and verified\n"
          ]
        },
        {
          "output_type": "stream",
          "name": "stderr",
          "text": [
            "\u001b[34m\u001b[1mwandb\u001b[0m: Currently logged in as: \u001b[33munderwaterfall228\u001b[0m (\u001b[33mparallax_inc\u001b[0m). Use \u001b[1m`wandb login --relogin`\u001b[0m to force relogin\n"
          ]
        },
        {
          "output_type": "display_data",
          "data": {
            "text/plain": [
              "<IPython.core.display.HTML object>"
            ],
            "text/html": [
              "Tracking run with wandb version 0.17.0"
            ]
          },
          "metadata": {}
        },
        {
          "output_type": "display_data",
          "data": {
            "text/plain": [
              "<IPython.core.display.HTML object>"
            ],
            "text/html": [
              "Run data is saved locally in <code>/content/wandb/run-20240524_111332-z7xlhnv5</code>"
            ]
          },
          "metadata": {}
        },
        {
          "output_type": "display_data",
          "data": {
            "text/plain": [
              "<IPython.core.display.HTML object>"
            ],
            "text/html": [
              "Syncing run <strong><a href='https://wandb.ai/parallax_inc/dl_hw2_wandb_log_2/runs/z7xlhnv5' target=\"_blank\">no_plot_new_run</a></strong> to <a href='https://wandb.ai/parallax_inc/dl_hw2_wandb_log_2' target=\"_blank\">Weights & Biases</a> (<a href='https://wandb.me/run' target=\"_blank\">docs</a>)<br/>"
            ]
          },
          "metadata": {}
        },
        {
          "output_type": "display_data",
          "data": {
            "text/plain": [
              "<IPython.core.display.HTML object>"
            ],
            "text/html": [
              " View project at <a href='https://wandb.ai/parallax_inc/dl_hw2_wandb_log_2' target=\"_blank\">https://wandb.ai/parallax_inc/dl_hw2_wandb_log_2</a>"
            ]
          },
          "metadata": {}
        },
        {
          "output_type": "display_data",
          "data": {
            "text/plain": [
              "<IPython.core.display.HTML object>"
            ],
            "text/html": [
              " View run at <a href='https://wandb.ai/parallax_inc/dl_hw2_wandb_log_2/runs/z7xlhnv5' target=\"_blank\">https://wandb.ai/parallax_inc/dl_hw2_wandb_log_2/runs/z7xlhnv5</a>"
            ]
          },
          "metadata": {}
        },
        {
          "output_type": "stream",
          "name": "stdout",
          "text": [
            "Epoch 0\n",
            " train loss: 1.6567171059385704, train acc: 0.4075697342844775\n",
            " val loss: 1.4062832745455078, val acc: 0.4955640889830508\n",
            "\n",
            "Epoch 1\n",
            " train loss: 1.3033567819282086, train acc: 0.539583876620244\n",
            " val loss: 1.2396406379796692, val acc: 0.5681276483050848\n",
            "\n",
            "Epoch 2\n",
            " train loss: 1.1659593566925857, train acc: 0.592242896339319\n",
            " val loss: 1.1663377098107741, val acc: 0.5934189618644068\n",
            "\n",
            "Epoch 3\n",
            " train loss: 1.0968993206093782, train acc: 0.6184950144621577\n",
            " val loss: 1.2184965964091026, val acc: 0.58079537446216\n",
            "\n",
            "Epoch 4\n",
            " train loss: 1.0603116565812243, train acc: 0.6304663060790431\n",
            " val loss: 1.1157864236225516, val acc: 0.6083598167209302\n",
            "\n",
            "Epoch 5\n",
            " train loss: 1.0236989981936713, train acc: 0.6467470998746635\n",
            " val loss: 1.119998084791636, val acc: 0.6111626059322034\n",
            "\n",
            "Epoch 6\n",
            " train loss: 1.0075346636076044, train acc: 0.650991430030252\n",
            " val loss: 1.040021967584804, val acc: 0.6387049788135594\n",
            "\n",
            "Epoch 7\n",
            " train loss: 0.9953215890122156, train acc: 0.6552031740654994\n",
            " val loss: 1.0621111958713856, val acc: 0.6341807912972014\n",
            "\n",
            "Epoch 8\n",
            " train loss: 0.9759956200192444, train acc: 0.6641398918454664\n",
            " val loss: 1.0013257012528889, val acc: 0.6554775778519906\n",
            "\n",
            "Epoch 9\n",
            " train loss: 0.9553631892169479, train acc: 0.6718505605728957\n",
            " val loss: 1.0800693570557287, val acc: 0.6371380651401262\n",
            "\n",
            "Epoch 10\n",
            " train loss: 0.9411410341297624, train acc: 0.672661138059449\n",
            " val loss: 0.9540360797259767, val acc: 0.6714115466101694\n",
            "\n",
            "Epoch 11\n",
            " train loss: 0.9313660477199693, train acc: 0.6774431375691491\n",
            " val loss: 1.0103203750262826, val acc: 0.6528513418920969\n",
            "\n",
            "Epoch 12\n",
            " train loss: 0.9220955123866561, train acc: 0.6806732274755074\n",
            " val loss: 1.0681323141364727, val acc: 0.6413974226531336\n",
            "\n",
            "Epoch 13\n",
            " train loss: 0.9115997085171025, train acc: 0.6864328077674782\n",
            " val loss: 1.0038010680069358, val acc: 0.6515271896022862\n",
            "\n",
            "Epoch 14\n",
            " train loss: 0.9055259804220965, train acc: 0.6869786235972912\n",
            " val loss: 0.9227580837274002, val acc: 0.682247528585337\n",
            "\n",
            "Epoch 15\n",
            " train loss: 0.8908658538856645, train acc: 0.6915854733355724\n",
            " val loss: 0.9823640645560572, val acc: 0.659935558246354\n",
            "\n",
            "Epoch 16\n",
            " train loss: 0.8786837458610535, train acc: 0.6942330879451585\n",
            " val loss: 1.031467775167045, val acc: 0.6523878887548284\n",
            "\n",
            "Epoch 17\n",
            " train loss: 0.8712096505791601, train acc: 0.6987218132419307\n",
            " val loss: 0.9077246886188701, val acc: 0.6887800142926684\n",
            "\n",
            "Epoch 18\n",
            " train loss: 0.8663438458512299, train acc: 0.700530337808776\n",
            " val loss: 0.9466298848895703, val acc: 0.6771936795469058\n",
            "\n",
            "Epoch 19\n",
            " train loss: 0.8508600607840684, train acc: 0.7048479862456775\n",
            " val loss: 0.8878824155209428, val acc: 0.6965263066655498\n",
            "\n",
            "Epoch 20\n",
            " train loss: 0.8377801971713992, train acc: 0.7106605189560103\n",
            " val loss: 0.8982512026520099, val acc: 0.6887138066655498\n",
            "\n",
            "Epoch 21\n",
            " train loss: 0.8367936613350889, train acc: 0.7127012188417198\n",
            " val loss: 0.8774806003449327, val acc: 0.6989759888689396\n",
            "\n",
            "Epoch 22\n",
            " train loss: 0.8340082816833997, train acc: 0.7100902634815578\n",
            " val loss: 0.8489869504661883, val acc: 0.7055084745762712\n",
            "\n",
            "Epoch 23\n",
            " train loss: 0.8180013255481302, train acc: 0.7182041841701869\n",
            " val loss: 0.8794040604163025, val acc: 0.698181497343516\n",
            "\n",
            "Epoch 24\n",
            " train loss: 0.8137787536983072, train acc: 0.7182815760156535\n",
            " val loss: 0.8825804545717725, val acc: 0.6982256355932204\n",
            "\n",
            "Epoch 25\n",
            " train loss: 0.8070084728898793, train acc: 0.7199679027943715\n",
            " val loss: 0.8749295897403006, val acc: 0.695930438021482\n",
            "\n",
            "Epoch 26\n",
            " train loss: 0.8012948403828335, train acc: 0.7248150743272183\n",
            " val loss: 0.8472477632053828, val acc: 0.7089292023141506\n",
            "\n",
            "Epoch 27\n",
            " train loss: 0.7985622476052193, train acc: 0.7241959397810219\n",
            " val loss: 0.8198894974538835, val acc: 0.7238038490384312\n",
            "\n",
            "Epoch 28\n",
            " train loss: 0.7888611050417823, train acc: 0.728680591948711\n",
            " val loss: 0.8247637193081743, val acc: 0.7198313914113126\n",
            "\n",
            "Epoch 29\n",
            " train loss: 0.7859459251817995, train acc: 0.7298496156713389\n",
            " val loss: 0.825404279312845, val acc: 0.7174479168350414\n",
            "\n",
            "Epoch 30\n",
            " train loss: 0.7739868737267752, train acc: 0.7328353104365133\n",
            " val loss: 0.805841671713328, val acc: 0.7236052261570752\n",
            "\n",
            "Epoch 31\n",
            " train loss: 0.7711009555054407, train acc: 0.7350430136179402\n",
            " val loss: 0.8174907398425927, val acc: 0.7233183262711864\n",
            "\n",
            "Epoch 32\n",
            " train loss: 0.7648753937143479, train acc: 0.7348556440242016\n",
            " val loss: 0.7998312994585199, val acc: 0.7275114761570752\n",
            "\n",
            "Epoch 33\n",
            " train loss: 0.7518405792486929, train acc: 0.7408799857553774\n",
            " val loss: 0.8028468312853474, val acc: 0.7268493998858888\n",
            "\n",
            "Epoch 34\n",
            " train loss: 0.7509905057449411, train acc: 0.7419145920850935\n",
            " val loss: 0.8428361138044778, val acc: 0.7113788845175404\n",
            "\n",
            "Epoch 35\n",
            " train loss: 0.7466181520998043, train acc: 0.7436294318550695\n",
            " val loss: 0.7909889433343532, val acc: 0.7325653251955064\n",
            "\n",
            "Epoch 36\n",
            " train loss: 0.744470018431218, train acc: 0.744391130269879\n",
            " val loss: 0.7873511955899707, val acc: 0.7321680794327946\n",
            "\n",
            "Epoch 37\n",
            " train loss: 0.7385549842223634, train acc: 0.7454461028976161\n",
            " val loss: 0.7958868908680091, val acc: 0.7239141949152542\n",
            "\n",
            "Epoch 38\n",
            " train loss: 0.7318957815640164, train acc: 0.7498167037528797\n",
            " val loss: 0.787643985728086, val acc: 0.7327418786994482\n",
            "\n",
            "Epoch 39\n",
            " train loss: 0.7242312486806926, train acc: 0.7529164496129447\n",
            " val loss: 0.7798852430561841, val acc: 0.7335143008474576\n",
            "\n",
            "Epoch 40\n",
            " train loss: 0.7243714798105895, train acc: 0.7493116203015738\n",
            " val loss: 0.7782782881946887, val acc: 0.7330067092079228\n",
            "\n",
            "Epoch 41\n",
            " train loss: 0.7160072159158052, train acc: 0.7553522549841526\n",
            " val loss: 0.776523853257551, val acc: 0.7327198093220338\n",
            "\n",
            "Epoch 42\n",
            " train loss: 0.7178340006048662, train acc: 0.753922543168938\n",
            " val loss: 0.7810282757726766, val acc: 0.7326756710723296\n",
            "\n",
            "Epoch 43\n",
            " train loss: 0.7132393222873228, train acc: 0.7558858512091811\n",
            " val loss: 0.766516714277914, val acc: 0.7404881710723296\n",
            "\n",
            "Epoch 44\n",
            " train loss: 0.7110810956380663, train acc: 0.7557473606871863\n",
            " val loss: 0.763926667177071, val acc: 0.7393185031616082\n",
            "\n",
            "Epoch 45\n",
            " train loss: 0.7074454383258402, train acc: 0.758248338299076\n",
            " val loss: 0.766972093763998, val acc: 0.7393847107887268\n",
            "\n",
            "Epoch 46\n",
            " train loss: 0.7064794403140562, train acc: 0.7600813022930256\n",
            " val loss: 0.7573602537987596, val acc: 0.7406205863265668\n",
            "\n",
            "Epoch 47\n",
            " train loss: 0.7017224436476283, train acc: 0.7622156869756044\n",
            " val loss: 0.7662316141492229, val acc: 0.738590219263303\n",
            "\n",
            "Epoch 48\n",
            " train loss: 0.699765796426439, train acc: 0.761506940979157\n",
            " val loss: 0.7646998348882643, val acc: 0.7401792023141506\n",
            "\n",
            "Epoch 49\n",
            " train loss: 0.7036025785181644, train acc: 0.7606678507188811\n",
            " val loss: 0.766671817181474, val acc: 0.7394950566655498\n",
            "\n"
          ]
        },
        {
          "output_type": "display_data",
          "data": {
            "text/plain": [
              "VBox(children=(Label(value='0.003 MB of 0.009 MB uploaded\\r'), FloatProgress(value=0.2900305410122164, max=1.0…"
            ],
            "application/vnd.jupyter.widget-view+json": {
              "version_major": 2,
              "version_minor": 0,
              "model_id": "26adec3450c54d1da70f51bff33cd296"
            }
          },
          "metadata": {}
        },
        {
          "output_type": "display_data",
          "data": {
            "text/plain": [
              "<IPython.core.display.HTML object>"
            ],
            "text/html": [
              "<style>\n",
              "    table.wandb td:nth-child(1) { padding: 0 10px; text-align: left ; width: auto;} td:nth-child(2) {text-align: left ; width: 100%}\n",
              "    .wandb-row { display: flex; flex-direction: row; flex-wrap: wrap; justify-content: flex-start; width: 100% }\n",
              "    .wandb-col { display: flex; flex-direction: column; flex-basis: 100%; flex: 1; padding: 10px; }\n",
              "    </style>\n",
              "<div class=\"wandb-row\"><div class=\"wandb-col\"><h3>Run history:</h3><br/><table class=\"wandb\"><tr><td>train_acc</td><td>▁▄▅▅▆▆▆▆▆▆▆▇▇▇▇▇▇▇▇▇▇▇▇▇▇▇▇█████████████</td></tr><tr><td>train_loss</td><td>█▅▄▄▃▃▃▃▃▃▃▃▂▂▂▂▂▂▂▂▂▂▂▂▂▂▁▁▁▁▁▁▁▁▁▁▁▁▁▁</td></tr><tr><td>val_acc</td><td>▁▃▄▃▄▅▅▆▆▅▅▅▆▅▇▆▇▇▇▇▇▇█▇████████████████</td></tr><tr><td>val_loss</td><td>█▆▅▆▅▄▄▄▃▄▄▄▃▄▃▃▃▂▂▂▂▂▂▂▂▂▁▁▁▁▁▁▁▁▁▁▁▁▁▁</td></tr></table><br/></div><div class=\"wandb-col\"><h3>Run summary:</h3><br/><table class=\"wandb\"><tr><td>train_acc</td><td>0.76067</td></tr><tr><td>train_loss</td><td>0.7036</td></tr><tr><td>val_acc</td><td>0.7395</td></tr><tr><td>val_loss</td><td>0.76667</td></tr></table><br/></div></div>"
            ]
          },
          "metadata": {}
        },
        {
          "output_type": "display_data",
          "data": {
            "text/plain": [
              "<IPython.core.display.HTML object>"
            ],
            "text/html": [
              " View run <strong style=\"color:#cdcd00\">no_plot_new_run</strong> at: <a href='https://wandb.ai/parallax_inc/dl_hw2_wandb_log_2/runs/z7xlhnv5' target=\"_blank\">https://wandb.ai/parallax_inc/dl_hw2_wandb_log_2/runs/z7xlhnv5</a><br/> View project at: <a href='https://wandb.ai/parallax_inc/dl_hw2_wandb_log_2' target=\"_blank\">https://wandb.ai/parallax_inc/dl_hw2_wandb_log_2</a><br/>Synced 5 W&B file(s), 0 media file(s), 0 artifact file(s) and 0 other file(s)"
            ]
          },
          "metadata": {}
        },
        {
          "output_type": "display_data",
          "data": {
            "text/plain": [
              "<IPython.core.display.HTML object>"
            ],
            "text/html": [
              "Find logs at: <code>./wandb/run-20240524_111332-z7xlhnv5/logs</code>"
            ]
          },
          "metadata": {}
        }
      ]
    },
    {
      "cell_type": "code",
      "source": [
        "# Здесь я решил добавить параметров, каналов свертки и еще один блок из реснета\n",
        "\n",
        "n_classes = 10\n",
        "\n",
        "class TunedBlockNet(nn.Module):\n",
        "    def __init__(self):\n",
        "        super().__init__()\n",
        "        self.conv_block = nn.Sequential(\n",
        "            nn.Conv2d(in_channels=3, out_channels=32, kernel_size=3, padding=1),\n",
        "            nn.BatchNorm2d(32),\n",
        "            nn.ReLU(),\n",
        "            nn.Conv2d(in_channels=32, out_channels=64, kernel_size=3, padding=1),\n",
        "            nn.BatchNorm2d(64),\n",
        "            nn.ReLU()\n",
        "        )\n",
        "\n",
        "        self.conv_block_2 = nn.Sequential(\n",
        "            nn.Conv2d(in_channels=64, out_channels=128, kernel_size=3, padding=1),\n",
        "            nn.BatchNorm2d(128),\n",
        "            nn.ReLU(),\n",
        "            nn.Conv2d(in_channels=128, out_channels=128, kernel_size=3, padding=1),\n",
        "            nn.BatchNorm2d(128),\n",
        "            nn.ReLU()\n",
        "        )\n",
        "\n",
        "        self.pooling_block = nn.Sequential(\n",
        "            nn.ReLU(),\n",
        "            nn.AvgPool2d(4)\n",
        "        )\n",
        "        self.conv_1 = nn.Conv2d(in_channels=3, out_channels=64, kernel_size=1)\n",
        "\n",
        "        self.conv_2 = nn.Conv2d(in_channels=64, out_channels=128, kernel_size=1)\n",
        "        self.classifier = nn.Linear(in_features=8192, out_features=n_classes)\n",
        "\n",
        "    def forward(self, x):\n",
        "        # Обучение первого блока\n",
        "        conv_output = self.conv_1(x)\n",
        "        feature_map_1 = self.conv_block(x)\n",
        "        block_1_out = feature_map_1 + conv_output\n",
        "        # Обучение второго блока\n",
        "        conv_2_output = self.conv_2(block_1_out)\n",
        "        feature_map_2 = self.conv_block_2(block_1_out)\n",
        "        block_2_out = feature_map_2 + conv_2_output\n",
        "        # Релу + Пулинг\n",
        "        pooling = self.pooling_block(block_2_out)\n",
        "        # Флэттенинг\n",
        "        flat = torch.flatten(pooling, start_dim=1)\n",
        "\n",
        "        out = self.classifier(flat)\n",
        "        return out"
      ],
      "metadata": {
        "id": "_bpeuhJm1h3V"
      },
      "execution_count": 18,
      "outputs": []
    },
    {
      "cell_type": "code",
      "source": [
        "# Тестируем данную модель\n",
        "# Я делал много запусков и подобрал почти оптимальный lr\n",
        "transform = transforms.Compose(\n",
        "        [transforms.RandomHorizontalFlip(),\n",
        "         transforms.ColorJitter(),\n",
        "         transforms.ToTensor(),\n",
        "         transforms.Normalize((0.5, 0.5, 0.5), (0.5, 0.5, 0.5))]\n",
        ")\n",
        "\n",
        "train_loader, val_loader, test_loader = get_cifar10_data(batch_size=128, transform_train=transform)\n",
        "\n",
        "net = TunedBlockNet().to(device)\n",
        "optimizer = optim.SGD(net.parameters(), lr=0.005, momentum=0.9)\n",
        "scheduler = optim.lr_scheduler.MultiStepLR(optimizer, milestones=[5, 20, 35, 45], gamma=0.5)\n",
        "tr_loss_log, tr_acc_log, val_loss_log, val_acc_log = train(net, optimizer, 50, train_loader, val_loader, scheduler)"
      ],
      "metadata": {
        "colab": {
          "base_uri": "https://localhost:8080/",
          "height": 1000,
          "referenced_widgets": [
            "af6a41bab09f4e169ee864147faafa16",
            "87adffdcf87e42fab7a96b4634d8fa8b",
            "3f0a42e5ee8f4e058b021aab511e9f20",
            "76b3a0d3ab0d49588c06a3c54a1ff2d8",
            "48c03f64904649c0a64002dff987a1f9",
            "c5d4f1f172484421bea064486aa5544f",
            "216673439f0949829eccb9c276d5e3bc",
            "d18b002c6de44b76b281494239de4197",
            "f54fb082a0f142db84ef915a2381a11f",
            "d94a598d63114bdfac3295d1298e2d2b",
            "978e649dfeb0496f82947b6ffef43a0e",
            "3b80190283384d29a07d4df0a914c4f8",
            "dd37ce796bea4ec18edbfa9c1dfb17db",
            "d56ae2475d9741ddaa06346dd2d2bd87",
            "6fb68e5ae0ea4f4f98b724ba812e7932",
            "13b2714a171b481a9b2f729ebc08d1c9"
          ]
        },
        "id": "XE5XIS4eyB_Q",
        "outputId": "70112506-c4ad-4c62-886d-7d779560ca1f"
      },
      "execution_count": null,
      "outputs": [
        {
          "output_type": "stream",
          "name": "stdout",
          "text": [
            "Files already downloaded and verified\n",
            "Files already downloaded and verified\n"
          ]
        },
        {
          "output_type": "display_data",
          "data": {
            "text/plain": [
              "<IPython.core.display.HTML object>"
            ],
            "text/html": [
              "Finishing last run (ID:7p2ibbfl) before initializing another..."
            ]
          },
          "metadata": {}
        },
        {
          "output_type": "display_data",
          "data": {
            "text/plain": [
              "VBox(children=(Label(value='0.003 MB of 0.005 MB uploaded\\r'), FloatProgress(value=0.5522326064382139, max=1.0…"
            ],
            "application/vnd.jupyter.widget-view+json": {
              "version_major": 2,
              "version_minor": 0,
              "model_id": "af6a41bab09f4e169ee864147faafa16"
            }
          },
          "metadata": {}
        },
        {
          "output_type": "display_data",
          "data": {
            "text/plain": [
              "<IPython.core.display.HTML object>"
            ],
            "text/html": [
              "<style>\n",
              "    table.wandb td:nth-child(1) { padding: 0 10px; text-align: left ; width: auto;} td:nth-child(2) {text-align: left ; width: 100%}\n",
              "    .wandb-row { display: flex; flex-direction: row; flex-wrap: wrap; justify-content: flex-start; width: 100% }\n",
              "    .wandb-col { display: flex; flex-direction: column; flex-basis: 100%; flex: 1; padding: 10px; }\n",
              "    </style>\n",
              "<div class=\"wandb-row\"><div class=\"wandb-col\"><h3>Run history:</h3><br/><table class=\"wandb\"><tr><td>train_acc</td><td>▃▆▁█▃▃</td></tr><tr><td>train_loss</td><td>█▁▁▁▁▁</td></tr><tr><td>val_acc</td><td>▇▄▁▆█▆</td></tr><tr><td>val_loss</td><td>▄▅▅█▂▁</td></tr></table><br/></div><div class=\"wandb-col\"><h3>Run summary:</h3><br/><table class=\"wandb\"><tr><td>train_acc</td><td>0.09907</td></tr><tr><td>train_loss</td><td>2.30365</td></tr><tr><td>val_acc</td><td>0.10024</td></tr><tr><td>val_loss</td><td>2.3032</td></tr></table><br/></div></div>"
            ]
          },
          "metadata": {}
        },
        {
          "output_type": "display_data",
          "data": {
            "text/plain": [
              "<IPython.core.display.HTML object>"
            ],
            "text/html": [
              " View run <strong style=\"color:#cdcd00\">tuned_model_run_1</strong> at: <a href='https://wandb.ai/parallax_inc/dl_hw2_wandb_log_2/runs/7p2ibbfl' target=\"_blank\">https://wandb.ai/parallax_inc/dl_hw2_wandb_log_2/runs/7p2ibbfl</a><br/> View project at: <a href='https://wandb.ai/parallax_inc/dl_hw2_wandb_log_2' target=\"_blank\">https://wandb.ai/parallax_inc/dl_hw2_wandb_log_2</a><br/>Synced 5 W&B file(s), 0 media file(s), 0 artifact file(s) and 0 other file(s)"
            ]
          },
          "metadata": {}
        },
        {
          "output_type": "display_data",
          "data": {
            "text/plain": [
              "<IPython.core.display.HTML object>"
            ],
            "text/html": [
              "Find logs at: <code>./wandb/run-20240524_112351-7p2ibbfl/logs</code>"
            ]
          },
          "metadata": {}
        },
        {
          "output_type": "display_data",
          "data": {
            "text/plain": [
              "<IPython.core.display.HTML object>"
            ],
            "text/html": [
              "Successfully finished last run (ID:7p2ibbfl). Initializing new run:<br/>"
            ]
          },
          "metadata": {}
        },
        {
          "output_type": "display_data",
          "data": {
            "text/plain": [
              "<IPython.core.display.HTML object>"
            ],
            "text/html": [
              "Tracking run with wandb version 0.17.0"
            ]
          },
          "metadata": {}
        },
        {
          "output_type": "display_data",
          "data": {
            "text/plain": [
              "<IPython.core.display.HTML object>"
            ],
            "text/html": [
              "Run data is saved locally in <code>/content/wandb/run-20240524_112825-ejbzjwlr</code>"
            ]
          },
          "metadata": {}
        },
        {
          "output_type": "display_data",
          "data": {
            "text/plain": [
              "<IPython.core.display.HTML object>"
            ],
            "text/html": [
              "Syncing run <strong><a href='https://wandb.ai/parallax_inc/dl_hw2_wandb_log_2/runs/ejbzjwlr' target=\"_blank\">tuned_model_run_2</a></strong> to <a href='https://wandb.ai/parallax_inc/dl_hw2_wandb_log_2' target=\"_blank\">Weights & Biases</a> (<a href='https://wandb.me/run' target=\"_blank\">docs</a>)<br/>"
            ]
          },
          "metadata": {}
        },
        {
          "output_type": "display_data",
          "data": {
            "text/plain": [
              "<IPython.core.display.HTML object>"
            ],
            "text/html": [
              " View project at <a href='https://wandb.ai/parallax_inc/dl_hw2_wandb_log_2' target=\"_blank\">https://wandb.ai/parallax_inc/dl_hw2_wandb_log_2</a>"
            ]
          },
          "metadata": {}
        },
        {
          "output_type": "display_data",
          "data": {
            "text/plain": [
              "<IPython.core.display.HTML object>"
            ],
            "text/html": [
              " View run at <a href='https://wandb.ai/parallax_inc/dl_hw2_wandb_log_2/runs/ejbzjwlr' target=\"_blank\">https://wandb.ai/parallax_inc/dl_hw2_wandb_log_2/runs/ejbzjwlr</a>"
            ]
          },
          "metadata": {}
        },
        {
          "output_type": "stream",
          "name": "stdout",
          "text": [
            "Epoch 0\n",
            " train loss: 1.3329059468568676, train acc: 0.5282602321057424\n",
            " val loss: 1.098699974306559, val acc: 0.6132591811277098\n",
            "\n",
            "Epoch 1\n",
            " train loss: 0.9175360402921691, train acc: 0.678567355349116\n",
            " val loss: 0.9819574406591512, val acc: 0.6545065328226252\n",
            "\n",
            "Epoch 2\n",
            " train loss: 0.7953999298114847, train acc: 0.7220289691956374\n",
            " val loss: 0.7924391475774474, val acc: 0.7251942092079228\n",
            "\n",
            "Epoch 3\n",
            " train loss: 0.7184466278030924, train acc: 0.7517637188417198\n",
            " val loss: 0.7858964563426325, val acc: 0.7250838633310996\n",
            "\n",
            "Epoch 4\n",
            " train loss: 0.6618711341471568, train acc: 0.7713397745668453\n",
            " val loss: 0.7264904935481185, val acc: 0.749779308246354\n",
            "\n",
            "Epoch 5\n",
            " train loss: 0.572734060840015, train acc: 0.8055713962029366\n",
            " val loss: 0.6607837265325804, val acc: 0.7705243644067796\n",
            "\n",
            "Epoch 6\n",
            " train loss: 0.5480520495750608, train acc: 0.813795294639838\n",
            " val loss: 0.6323735559895888, val acc: 0.7826403601694916\n",
            "\n",
            "Epoch 7\n",
            " train loss: 0.5202539996074064, train acc: 0.823428539029003\n",
            " val loss: 0.6437107286715912, val acc: 0.7771892658734726\n",
            "\n",
            "Epoch 8\n",
            " train loss: 0.5045532484124177, train acc: 0.8294651005824987\n",
            " val loss: 0.6532913072634552, val acc: 0.7745188914113126\n",
            "\n",
            "Epoch 9\n",
            " train loss: 0.4795786689450271, train acc: 0.8375016294256614\n",
            " val loss: 0.6034549429255017, val acc: 0.7946239406779662\n",
            "\n",
            "Epoch 10\n",
            " train loss: 0.4633397570926778, train acc: 0.8429149833038776\n",
            " val loss: 0.657062249668574, val acc: 0.7749161371740244\n",
            "\n",
            "Epoch 11\n",
            " train loss: 0.4491444728235259, train acc: 0.848984130760179\n",
            " val loss: 0.6040385355383663, val acc: 0.7943370412972014\n",
            "\n",
            "Epoch 12\n",
            " train loss: 0.42862840170842886, train acc: 0.8584422251603899\n",
            " val loss: 0.6078777419308484, val acc: 0.7908721753096176\n",
            "\n",
            "Epoch 13\n",
            " train loss: 0.4144947663710935, train acc: 0.8589798945145015\n",
            " val loss: 0.5974345338546624, val acc: 0.7986846753096176\n",
            "\n",
            "Epoch 14\n",
            " train loss: 0.40085243444590674, train acc: 0.8654400745447535\n",
            " val loss: 0.6113798832994396, val acc: 0.7927259888689396\n",
            "\n",
            "Epoch 15\n",
            " train loss: 0.3859247939973852, train acc: 0.872930787340568\n",
            " val loss: 0.5909702196969824, val acc: 0.7993026133310996\n",
            "\n",
            "Epoch 16\n",
            " train loss: 0.3755052539445188, train acc: 0.8730041060569512\n",
            " val loss: 0.5885906636209811, val acc: 0.7997660667209302\n",
            "\n",
            "Epoch 17\n",
            " train loss: 0.3649972242704273, train acc: 0.8771140186020928\n",
            " val loss: 0.6058007284241208, val acc: 0.7916445974576272\n",
            "\n",
            "Epoch 18\n",
            " train loss: 0.34879450597902284, train acc: 0.8848450536275432\n",
            " val loss: 0.5627066222792965, val acc: 0.8090351345175404\n",
            "\n",
            "Epoch 19\n",
            " train loss: 0.3381626669072757, train acc: 0.8891952881847855\n",
            " val loss: 0.5585497812194339, val acc: 0.809829626042964\n",
            "\n",
            "Epoch 20\n",
            " train loss: 0.2941034560764793, train acc: 0.9077285911044936\n",
            " val loss: 0.5392127683607199, val acc: 0.8177083336700828\n",
            "\n",
            "Epoch 21\n",
            " train loss: 0.2846992603183663, train acc: 0.9115818889036665\n",
            " val loss: 0.5396088821403051, val acc: 0.8188117939536854\n",
            "\n",
            "Epoch 22\n",
            " train loss: 0.2778735016710567, train acc: 0.9143150418344206\n",
            " val loss: 0.5190111557810994, val acc: 0.8254766949152542\n",
            "\n",
            "Epoch 23\n",
            " train loss: 0.2675563457564716, train acc: 0.918526785869668\n",
            " val loss: 0.5305659627005205, val acc: 0.8217249295469058\n",
            "\n",
            "Epoch 24\n",
            " train loss: 0.2675570544317691, train acc: 0.9167101148271213\n",
            " val loss: 0.533463534157155, val acc: 0.8194076625977532\n",
            "\n",
            "Epoch 25\n",
            " train loss: 0.259763189149599, train acc: 0.9200542558283702\n",
            " val loss: 0.5283535463830172, val acc: 0.8224532134452108\n",
            "\n",
            "Epoch 26\n",
            " train loss: 0.25355310438975803, train acc: 0.9210807156823847\n",
            " val loss: 0.5197607051518004, val acc: 0.8254325566655498\n",
            "\n",
            "Epoch 27\n",
            " train loss: 0.24741973907408052, train acc: 0.9245307613028227\n",
            " val loss: 0.5584105432538663, val acc: 0.8144641599412692\n",
            "\n",
            "Epoch 28\n",
            " train loss: 0.2420360962078519, train acc: 0.925622393179984\n",
            " val loss: 0.5301920084630029, val acc: 0.8253222107887268\n",
            "\n",
            "Epoch 29\n",
            " train loss: 0.23671603061421945, train acc: 0.9288687762552804\n",
            " val loss: 0.5419397866826946, val acc: 0.8215925142926684\n",
            "\n",
            "Epoch 30\n",
            " train loss: 0.23520944909240207, train acc: 0.9283066672565293\n",
            " val loss: 0.55118468252279, val acc: 0.8201800847457628\n",
            "\n",
            "Epoch 31\n",
            " train loss: 0.2284538348334549, train acc: 0.9312638492479811\n",
            " val loss: 0.5465413237274703, val acc: 0.8197387007333464\n",
            "\n",
            "Epoch 32\n",
            " train loss: 0.22402582404604793, train acc: 0.9325428507188811\n",
            " val loss: 0.5287684457281888, val acc: 0.8248146186440678\n",
            "\n",
            "Epoch 33\n",
            " train loss: 0.21993773319099072, train acc: 0.9340092220010549\n",
            " val loss: 0.5693673100006782, val acc: 0.814861405703981\n",
            "\n",
            "Epoch 34\n",
            " train loss: 0.21275317008151626, train acc: 0.9373981687274292\n",
            " val loss: 0.5329325355715671, val acc: 0.8273525778519906\n",
            "\n",
            "Epoch 35\n",
            " train loss: 0.19110695892659418, train acc: 0.9482248762663263\n",
            " val loss: 0.5200778614666502, val acc: 0.831302966101695\n",
            "\n",
            "Epoch 36\n",
            " train loss: 0.18413683924361737, train acc: 0.9508969305205519\n",
            " val loss: 0.5173952352192442, val acc: 0.8314574507333464\n",
            "\n",
            "Epoch 37\n",
            " train loss: 0.18370666860663978, train acc: 0.9509050769962534\n",
            " val loss: 0.5192310974254446, val acc: 0.828831215026015\n",
            "\n",
            "Epoch 38\n",
            " train loss: 0.18084651283430356, train acc: 0.9523673749318088\n",
            " val loss: 0.5139608989327641, val acc: 0.8325609110169492\n",
            "\n",
            "Epoch 39\n",
            " train loss: 0.17804337872097092, train acc: 0.9522044449827097\n",
            " val loss: 0.5167197405786838, val acc: 0.8300008829367362\n",
            "\n",
            "Epoch 40\n",
            " train loss: 0.17340283305214269, train acc: 0.9556870765059534\n",
            " val loss: 0.5238719759351116, val acc: 0.8303319210723296\n",
            "\n",
            "Epoch 41\n",
            " train loss: 0.17431061630592729, train acc: 0.9543795620437956\n",
            " val loss: 0.5359970124091132, val acc: 0.8261167023141506\n",
            "\n",
            "Epoch 42\n",
            " train loss: 0.1708778099693956, train acc: 0.9537685741908359\n",
            " val loss: 0.5259794926239272, val acc: 0.8300891599412692\n",
            "\n",
            "Epoch 43\n",
            " train loss: 0.16757650621724826, train acc: 0.957328597559546\n",
            " val loss: 0.519883132713326, val acc: 0.832737465026015\n",
            "\n",
            "Epoch 44\n",
            " train loss: 0.16688775967289932, train acc: 0.957328597559546\n",
            " val loss: 0.5324100892422563, val acc: 0.8294712219197872\n",
            "\n",
            "Epoch 45\n",
            " train loss: 0.1567019837888053, train acc: 0.9625830946177462\n",
            " val loss: 0.5200823330778187, val acc: 0.8315677966101694\n",
            "\n",
            "Epoch 46\n",
            " train loss: 0.15404859775283042, train acc: 0.9622694541067973\n",
            " val loss: 0.5165536002082339, val acc: 0.8332229872881356\n",
            "\n",
            "Epoch 47\n",
            " train loss: 0.15247433809359578, train acc: 0.9634995765059534\n",
            " val loss: 0.5203353780305991, val acc: 0.8327816032757194\n",
            "\n",
            "Epoch 48\n",
            " train loss: 0.15128391372026317, train acc: 0.9640779784561073\n",
            " val loss: 0.5144334485975363, val acc: 0.8333554025423728\n",
            "\n",
            "Epoch 49\n",
            " train loss: 0.15028898687149486, train acc: 0.9646400874548585\n",
            " val loss: 0.5138651781668098, val acc: 0.8349443855932204\n",
            "\n"
          ]
        },
        {
          "output_type": "display_data",
          "data": {
            "text/plain": [
              "VBox(children=(Label(value='0.003 MB of 0.018 MB uploaded\\r'), FloatProgress(value=0.13741602067183462, max=1.…"
            ],
            "application/vnd.jupyter.widget-view+json": {
              "version_major": 2,
              "version_minor": 0,
              "model_id": "f54fb082a0f142db84ef915a2381a11f"
            }
          },
          "metadata": {}
        },
        {
          "output_type": "display_data",
          "data": {
            "text/plain": [
              "<IPython.core.display.HTML object>"
            ],
            "text/html": [
              "<style>\n",
              "    table.wandb td:nth-child(1) { padding: 0 10px; text-align: left ; width: auto;} td:nth-child(2) {text-align: left ; width: 100%}\n",
              "    .wandb-row { display: flex; flex-direction: row; flex-wrap: wrap; justify-content: flex-start; width: 100% }\n",
              "    .wandb-col { display: flex; flex-direction: column; flex-basis: 100%; flex: 1; padding: 10px; }\n",
              "    </style>\n",
              "<div class=\"wandb-row\"><div class=\"wandb-col\"><h3>Run history:</h3><br/><table class=\"wandb\"><tr><td>train_acc</td><td>▁▃▄▅▅▆▆▆▆▆▆▆▇▇▇▇▇▇▇▇▇▇▇▇▇▇▇█████████████</td></tr><tr><td>train_loss</td><td>█▆▅▄▄▃▃▃▃▃▃▃▂▂▂▂▂▂▂▂▂▂▂▂▂▁▁▁▁▁▁▁▁▁▁▁▁▁▁▁</td></tr><tr><td>val_acc</td><td>▁▂▅▅▆▆▆▆▆▇▇▇▇▇▇▇▇▇████▇████▇████████████</td></tr><tr><td>val_loss</td><td>█▇▄▄▃▂▃▃▃▂▂▂▂▂▂▂▁▁▁▁▁▁▂▁▁▁▁▂▁▁▁▁▁▁▁▁▁▁▁▁</td></tr></table><br/></div><div class=\"wandb-col\"><h3>Run summary:</h3><br/><table class=\"wandb\"><tr><td>train_acc</td><td>0.96464</td></tr><tr><td>train_loss</td><td>0.15029</td></tr><tr><td>val_acc</td><td>0.83494</td></tr><tr><td>val_loss</td><td>0.51387</td></tr></table><br/></div></div>"
            ]
          },
          "metadata": {}
        },
        {
          "output_type": "display_data",
          "data": {
            "text/plain": [
              "<IPython.core.display.HTML object>"
            ],
            "text/html": [
              " View run <strong style=\"color:#cdcd00\">tuned_model_run_2</strong> at: <a href='https://wandb.ai/parallax_inc/dl_hw2_wandb_log_2/runs/ejbzjwlr' target=\"_blank\">https://wandb.ai/parallax_inc/dl_hw2_wandb_log_2/runs/ejbzjwlr</a><br/> View project at: <a href='https://wandb.ai/parallax_inc/dl_hw2_wandb_log_2' target=\"_blank\">https://wandb.ai/parallax_inc/dl_hw2_wandb_log_2</a><br/>Synced 5 W&B file(s), 0 media file(s), 0 artifact file(s) and 0 other file(s)"
            ]
          },
          "metadata": {}
        },
        {
          "output_type": "display_data",
          "data": {
            "text/plain": [
              "<IPython.core.display.HTML object>"
            ],
            "text/html": [
              "Find logs at: <code>./wandb/run-20240524_112825-ejbzjwlr/logs</code>"
            ]
          },
          "metadata": {}
        }
      ]
    },
    {
      "cell_type": "code",
      "source": [
        "# Тут другой lr_scheduler\n",
        "net = TunedBlockNet().to(device)\n",
        "optimizer = optim.SGD(net.parameters(), lr=0.005, momentum=0.9)\n",
        "scheduler = optim.lr_scheduler.CosineAnnealingLR(optimizer, T_max=50)\n",
        "tr_loss_log, tr_acc_log, val_loss_log, val_acc_log = train(net, optimizer, 50, train_loader, val_loader, scheduler)"
      ],
      "metadata": {
        "colab": {
          "base_uri": "https://localhost:8080/",
          "height": 1000,
          "referenced_widgets": [
            "c0ebd6d70d1f4a68af7bc784cf084ddf",
            "cc920e38a0da491bb4d28d6df3784427",
            "bc93f839c11d4b268e958f2fd090bb94",
            "1f8e5d64eac34d1ea596bfc74fe8e8b1",
            "4e2cbba5242d43a8a463b0d9f12db1f4",
            "02a9ddaddd8641d1ae80287a50abe270",
            "79afaf99c8874df5a968d2453aa95944",
            "80de7d9688124c95b4977fd18434c0a2"
          ]
        },
        "id": "VeBmnk24Yn4m",
        "outputId": "cdef121e-e81a-4c60-df83-e027685df83c"
      },
      "execution_count": null,
      "outputs": [
        {
          "output_type": "display_data",
          "data": {
            "text/plain": [
              "<IPython.core.display.HTML object>"
            ],
            "text/html": [
              "Tracking run with wandb version 0.17.0"
            ]
          },
          "metadata": {}
        },
        {
          "output_type": "display_data",
          "data": {
            "text/plain": [
              "<IPython.core.display.HTML object>"
            ],
            "text/html": [
              "Run data is saved locally in <code>/content/wandb/run-20240524_113911-vcepc4ro</code>"
            ]
          },
          "metadata": {}
        },
        {
          "output_type": "display_data",
          "data": {
            "text/plain": [
              "<IPython.core.display.HTML object>"
            ],
            "text/html": [
              "Syncing run <strong><a href='https://wandb.ai/parallax_inc/dl_hw2_wandb_log_2/runs/vcepc4ro' target=\"_blank\">tuned_model_run_2</a></strong> to <a href='https://wandb.ai/parallax_inc/dl_hw2_wandb_log_2' target=\"_blank\">Weights & Biases</a> (<a href='https://wandb.me/run' target=\"_blank\">docs</a>)<br/>"
            ]
          },
          "metadata": {}
        },
        {
          "output_type": "display_data",
          "data": {
            "text/plain": [
              "<IPython.core.display.HTML object>"
            ],
            "text/html": [
              " View project at <a href='https://wandb.ai/parallax_inc/dl_hw2_wandb_log_2' target=\"_blank\">https://wandb.ai/parallax_inc/dl_hw2_wandb_log_2</a>"
            ]
          },
          "metadata": {}
        },
        {
          "output_type": "display_data",
          "data": {
            "text/plain": [
              "<IPython.core.display.HTML object>"
            ],
            "text/html": [
              " View run at <a href='https://wandb.ai/parallax_inc/dl_hw2_wandb_log_2/runs/vcepc4ro' target=\"_blank\">https://wandb.ai/parallax_inc/dl_hw2_wandb_log_2/runs/vcepc4ro</a>"
            ]
          },
          "metadata": {}
        },
        {
          "output_type": "stream",
          "name": "stdout",
          "text": [
            "Epoch 0\n",
            " train loss: 1.3443576626098939, train acc: 0.5240077554744526\n",
            " val loss: 1.1038046509532604, val acc: 0.611317090563855\n",
            "\n",
            "Epoch 1\n",
            " train loss: 0.9352378999664835, train acc: 0.6747425705412008\n",
            " val loss: 1.0226548748501276, val acc: 0.6483050847457628\n",
            "\n",
            "Epoch 2\n",
            " train loss: 0.8107942703866611, train acc: 0.7187744396446395\n",
            " val loss: 0.8629676260180392, val acc: 0.7014698093220338\n",
            "\n",
            "Epoch 3\n",
            " train loss: 0.7319516112117002, train acc: 0.7485458487576812\n",
            " val loss: 0.868744918350446, val acc: 0.7092823093220338\n",
            "\n",
            "Epoch 4\n",
            " train loss: 0.6695429316184817, train acc: 0.7691850235862453\n",
            " val loss: 0.7866205300314951, val acc: 0.7319694565514386\n",
            "\n",
            "Epoch 5\n",
            " train loss: 0.6268395475880073, train acc: 0.7832255280800979\n",
            " val loss: 0.7950446666297266, val acc: 0.7268052616361844\n",
            "\n",
            "Epoch 6\n",
            " train loss: 0.5851599661103131, train acc: 0.7996122264949075\n",
            " val loss: 0.7010306034047725, val acc: 0.7576580158734726\n",
            "\n",
            "Epoch 7\n",
            " train loss: 0.5485434905238395, train acc: 0.8097016750460994\n",
            " val loss: 0.6636172626483239, val acc: 0.7729519777378794\n",
            "\n",
            "Epoch 8\n",
            " train loss: 0.5157739009952893, train acc: 0.822972334649441\n",
            " val loss: 0.708510155647488, val acc: 0.7581435381355932\n",
            "\n",
            "Epoch 9\n",
            " train loss: 0.48152435500256335, train acc: 0.836251140728484\n",
            " val loss: 0.652960838655294, val acc: 0.7796168786994482\n",
            "\n",
            "Epoch 10\n",
            " train loss: 0.4538601939260525, train acc: 0.8468130866106409\n",
            " val loss: 0.6624316095800723, val acc: 0.7730402542372882\n",
            "\n",
            "Epoch 11\n",
            " train loss: 0.42840394747518273, train acc: 0.8535339547334796\n",
            " val loss: 0.6561568018238423, val acc: 0.778160310902838\n",
            "\n",
            "Epoch 12\n",
            " train loss: 0.40540142651021915, train acc: 0.8642384647017848\n",
            " val loss: 0.6112567827863208, val acc: 0.7930349576271186\n",
            "\n",
            "Epoch 13\n",
            " train loss: 0.39063501662581507, train acc: 0.8690286106871863\n",
            " val loss: 0.5964940708067458, val acc: 0.8017302261570752\n",
            "\n",
            "Epoch 14\n",
            " train loss: 0.3676883757223178, train acc: 0.8771140186020928\n",
            " val loss: 0.6045004781019889, val acc: 0.7980446684158454\n",
            "\n",
            "Epoch 15\n",
            " train loss: 0.3486964188679291, train acc: 0.8836108578817687\n",
            " val loss: 0.647387939742056, val acc: 0.7800582627118644\n",
            "\n",
            "Epoch 16\n",
            " train loss: 0.32944506629757636, train acc: 0.8910893510727986\n",
            " val loss: 0.5693326521727998, val acc: 0.8108227404497438\n",
            "\n",
            "Epoch 17\n",
            " train loss: 0.3107652803407098, train acc: 0.8974680659109658\n",
            " val loss: 0.5922950569350841, val acc: 0.8025026483050848\n",
            "\n",
            "Epoch 18\n",
            " train loss: 0.29955295739817794, train acc: 0.902323383919514\n",
            " val loss: 0.5693855358887527, val acc: 0.8094985879073708\n",
            "\n",
            "Epoch 19\n",
            " train loss: 0.2840331930422435, train acc: 0.9071990682260833\n",
            " val loss: 0.5797889217481775, val acc: 0.8076006355932204\n",
            "\n",
            "Epoch 20\n",
            " train loss: 0.2660316294670975, train acc: 0.9147834660363023\n",
            " val loss: 0.5811842902232025, val acc: 0.8059675142926684\n",
            "\n",
            "Epoch 21\n",
            " train loss: 0.2514365836434121, train acc: 0.9202294058173243\n",
            " val loss: 0.5829415897191581, val acc: 0.8072254592079228\n",
            "\n",
            "Epoch 22\n",
            " train loss: 0.24005988601894274, train acc: 0.9236427921883381\n",
            " val loss: 0.5504447128308021, val acc: 0.821239406779661\n",
            "\n",
            "Epoch 23\n",
            " train loss: 0.2296871897512979, train acc: 0.9277608512091811\n",
            " val loss: 0.5683793733685704, val acc: 0.8133606991525424\n",
            "\n",
            "Epoch 24\n",
            " train loss: 0.21437423260216296, train acc: 0.9335611640971943\n",
            " val loss: 0.5707711302122828, val acc: 0.8128751768904218\n",
            "\n",
            "Epoch 25\n",
            " train loss: 0.2045770325310474, train acc: 0.937532586120341\n",
            " val loss: 0.5723884305206396, val acc: 0.8149276133310996\n",
            "\n",
            "Epoch 26\n",
            " train loss: 0.19440006225431053, train acc: 0.9411903676325387\n",
            " val loss: 0.5543631618305788, val acc: 0.817222810902838\n",
            "\n",
            "Epoch 27\n",
            " train loss: 0.1849445149193715, train acc: 0.9443878716360914\n",
            " val loss: 0.5471966660628884, val acc: 0.8268008474576272\n",
            "\n",
            "Epoch 28\n",
            " train loss: 0.1729755740694321, train acc: 0.9497971521676892\n",
            " val loss: 0.558351009073904, val acc: 0.8247704803943634\n",
            "\n",
            "Epoch 29\n",
            " train loss: 0.16399336929847724, train acc: 0.9544447342844775\n",
            " val loss: 0.5567461876040798, val acc: 0.8228063209582184\n",
            "\n",
            "Epoch 30\n",
            " train loss: 0.15815797733673215, train acc: 0.9569497850254505\n",
            " val loss: 0.5495305745783499, val acc: 0.8242628887548284\n",
            "\n",
            "Epoch 31\n",
            " train loss: 0.1481562523293669, train acc: 0.9603794643478673\n",
            " val loss: 0.5498429289308645, val acc: 0.8229608050847458\n",
            "\n",
            "Epoch 32\n",
            " train loss: 0.14106820314361232, train acc: 0.9634629172565293\n",
            " val loss: 0.5333595988103899, val acc: 0.831920904123177\n",
            "\n",
            "Epoch 33\n",
            " train loss: 0.1341389143146085, train acc: 0.9670025745447535\n",
            " val loss: 0.5414683818817139, val acc: 0.82688912446216\n",
            "\n",
            "Epoch 34\n",
            " train loss: 0.12849556907576365, train acc: 0.9706033302919708\n",
            " val loss: 0.5400979493634176, val acc: 0.8291181144067796\n",
            "\n",
            "Epoch 35\n",
            " train loss: 0.12430129107767648, train acc: 0.9716990355157504\n",
            " val loss: 0.549130870124041, val acc: 0.8294050142926684\n",
            "\n",
            "Epoch 36\n",
            " train loss: 0.1182324925342398, train acc: 0.9736012448794651\n",
            " val loss: 0.5289060092073375, val acc: 0.8312588278519906\n",
            "\n",
            "Epoch 37\n",
            " train loss: 0.11318431458823437, train acc: 0.976790602189781\n",
            " val loss: 0.5369892567396164, val acc: 0.831413312483642\n",
            "\n",
            "Epoch 38\n",
            " train loss: 0.10815191166951274, train acc: 0.9775034215328468\n",
            " val loss: 0.5417365969742759, val acc: 0.8311705508474576\n",
            "\n",
            "Epoch 39\n",
            " train loss: 0.1055215251271742, train acc: 0.9796826121580862\n",
            " val loss: 0.539197633832188, val acc: 0.8310381355932204\n",
            "\n",
            "Epoch 40\n",
            " train loss: 0.10317801561777609, train acc: 0.98046875\n",
            " val loss: 0.5342803827281726, val acc: 0.8349223167209302\n",
            "\n",
            "Epoch 41\n",
            " train loss: 0.10120203109444494, train acc: 0.9815929679975023\n",
            " val loss: 0.5335195688372951, val acc: 0.833156779661017\n",
            "\n",
            "Epoch 42\n",
            " train loss: 0.09794381967861288, train acc: 0.9833607599683052\n",
            " val loss: 0.5286357819528903, val acc: 0.8343485169491526\n",
            "\n",
            "Epoch 43\n",
            " train loss: 0.0974317335244948, train acc: 0.9830919251824818\n",
            " val loss: 0.5300882726402606, val acc: 0.8346574862124556\n",
            "\n",
            "Epoch 44\n",
            " train loss: 0.0959337952607957, train acc: 0.9833974194352644\n",
            " val loss: 0.5357451317674022, val acc: 0.833576094801143\n",
            "\n",
            "Epoch 45\n",
            " train loss: 0.09380746034592607, train acc: 0.9848597171532847\n",
            " val loss: 0.5287114520699291, val acc: 0.8344367939536854\n",
            "\n",
            "Epoch 46\n",
            " train loss: 0.09224830246972342, train acc: 0.9855562435449475\n",
            " val loss: 0.5342556318994296, val acc: 0.8357609464960584\n",
            "\n",
            "Epoch 47\n",
            " train loss: 0.09231657362169157, train acc: 0.9851529915837476\n",
            " val loss: 0.5316558861631459, val acc: 0.8368423379073708\n",
            "\n",
            "Epoch 48\n",
            " train loss: 0.09126003915919875, train acc: 0.9859635690703009\n",
            " val loss: 0.5301782067044306, val acc: 0.8342602404497438\n",
            "\n",
            "Epoch 49\n",
            " train loss: 0.09190255538118582, train acc: 0.986057253649635\n",
            " val loss: 0.5367167198051841, val acc: 0.8332009184158454\n",
            "\n"
          ]
        },
        {
          "output_type": "display_data",
          "data": {
            "text/plain": [
              "VBox(children=(Label(value='0.003 MB of 0.003 MB uploaded\\r'), FloatProgress(value=1.0, max=1.0)))"
            ],
            "application/vnd.jupyter.widget-view+json": {
              "version_major": 2,
              "version_minor": 0,
              "model_id": "c0ebd6d70d1f4a68af7bc784cf084ddf"
            }
          },
          "metadata": {}
        },
        {
          "output_type": "display_data",
          "data": {
            "text/plain": [
              "<IPython.core.display.HTML object>"
            ],
            "text/html": [
              "<style>\n",
              "    table.wandb td:nth-child(1) { padding: 0 10px; text-align: left ; width: auto;} td:nth-child(2) {text-align: left ; width: 100%}\n",
              "    .wandb-row { display: flex; flex-direction: row; flex-wrap: wrap; justify-content: flex-start; width: 100% }\n",
              "    .wandb-col { display: flex; flex-direction: column; flex-basis: 100%; flex: 1; padding: 10px; }\n",
              "    </style>\n",
              "<div class=\"wandb-row\"><div class=\"wandb-col\"><h3>Run history:</h3><br/><table class=\"wandb\"><tr><td>train_acc</td><td>▁▃▄▄▅▅▅▆▆▆▆▆▆▇▇▇▇▇▇▇▇▇▇▇████████████████</td></tr><tr><td>train_loss</td><td>█▆▅▅▄▄▄▃▃▃▃▃▂▂▂▂▂▂▂▂▂▂▂▁▁▁▁▁▁▁▁▁▁▁▁▁▁▁▁▁</td></tr><tr><td>val_acc</td><td>▁▂▄▄▅▆▆▆▆▆▇▇▆▇▇▇▇▇█▇▇▇██████████████████</td></tr><tr><td>val_loss</td><td>█▇▅▅▄▃▃▃▃▃▂▂▂▁▂▁▂▂▁▁▂▁▁▁▁▁▁▁▁▁▁▁▁▁▁▁▁▁▁▁</td></tr></table><br/></div><div class=\"wandb-col\"><h3>Run summary:</h3><br/><table class=\"wandb\"><tr><td>train_acc</td><td>0.98606</td></tr><tr><td>train_loss</td><td>0.0919</td></tr><tr><td>val_acc</td><td>0.8332</td></tr><tr><td>val_loss</td><td>0.53672</td></tr></table><br/></div></div>"
            ]
          },
          "metadata": {}
        },
        {
          "output_type": "display_data",
          "data": {
            "text/plain": [
              "<IPython.core.display.HTML object>"
            ],
            "text/html": [
              " View run <strong style=\"color:#cdcd00\">tuned_model_run_2</strong> at: <a href='https://wandb.ai/parallax_inc/dl_hw2_wandb_log_2/runs/vcepc4ro' target=\"_blank\">https://wandb.ai/parallax_inc/dl_hw2_wandb_log_2/runs/vcepc4ro</a><br/> View project at: <a href='https://wandb.ai/parallax_inc/dl_hw2_wandb_log_2' target=\"_blank\">https://wandb.ai/parallax_inc/dl_hw2_wandb_log_2</a><br/>Synced 5 W&B file(s), 0 media file(s), 0 artifact file(s) and 0 other file(s)"
            ]
          },
          "metadata": {}
        },
        {
          "output_type": "display_data",
          "data": {
            "text/plain": [
              "<IPython.core.display.HTML object>"
            ],
            "text/html": [
              "Find logs at: <code>./wandb/run-20240524_113911-vcepc4ro/logs</code>"
            ]
          },
          "metadata": {}
        }
      ]
    },
    {
      "cell_type": "code",
      "source": [
        "net = TunedBlockNet().to(device)\n",
        "optimizer = optim.SGD(net.parameters(), lr=0.01, momentum=0.9)\n",
        "scheduler = optim.lr_scheduler.CosineAnnealingLR(optimizer, T_max=50)\n",
        "tr_loss_log, tr_acc_log, val_loss_log, val_acc_log = train(net, optimizer, 50, train_loader, val_loader, scheduler, \"tuned_model_run_4\")"
      ],
      "metadata": {
        "colab": {
          "base_uri": "https://localhost:8080/",
          "height": 1000,
          "referenced_widgets": [
            "0af79d18a06e49eba5d0141ff885023a",
            "f7bea210df0f4771afc44a4fa60f627c",
            "7036743326764aae9730e0f7e47a0c29",
            "5fea8f02d32e4559b9315960a6cef678",
            "e6b0472566754e45b2425968bf391a1c",
            "b39f672f044b42a391754445956524d4",
            "c7a551f1ab9a4a468286f00fb782a7f6",
            "123c9c8963a04686a99c91d6bf224ffb",
            "149f0bb59ee44ccb93242205a9c43049",
            "ef4380307971495d9b8826ba927df480",
            "7f0d94c5630d4863985dc1b59c5d7ec9",
            "889d9382579d4361b8fdb151c8270ef2",
            "2b511ddf19b34991a76ef12c4519c035",
            "bdf95bc5724a44d4b3df61563aa6de6c",
            "2c5c38278af3408eae1271f5d9852055",
            "04f31d3827334668bf19218af97a9f9b"
          ]
        },
        "id": "b3jMAlWLdPGK",
        "outputId": "8b25f1a2-c194-4ce8-d089-7802842e84f9"
      },
      "execution_count": null,
      "outputs": [
        {
          "output_type": "display_data",
          "data": {
            "text/plain": [
              "<IPython.core.display.HTML object>"
            ],
            "text/html": [
              "Finishing last run (ID:x17wg6ud) before initializing another..."
            ]
          },
          "metadata": {}
        },
        {
          "output_type": "display_data",
          "data": {
            "text/plain": [
              "VBox(children=(Label(value='0.012 MB of 0.012 MB uploaded\\r'), FloatProgress(value=1.0, max=1.0)))"
            ],
            "application/vnd.jupyter.widget-view+json": {
              "version_major": 2,
              "version_minor": 0,
              "model_id": "0af79d18a06e49eba5d0141ff885023a"
            }
          },
          "metadata": {}
        },
        {
          "output_type": "display_data",
          "data": {
            "text/plain": [
              "<IPython.core.display.HTML object>"
            ],
            "text/html": [
              " View run <strong style=\"color:#cdcd00\">tuned_model_run_3</strong> at: <a href='https://wandb.ai/parallax_inc/dl_hw2_wandb_log_2/runs/x17wg6ud' target=\"_blank\">https://wandb.ai/parallax_inc/dl_hw2_wandb_log_2/runs/x17wg6ud</a><br/> View project at: <a href='https://wandb.ai/parallax_inc/dl_hw2_wandb_log_2' target=\"_blank\">https://wandb.ai/parallax_inc/dl_hw2_wandb_log_2</a><br/>Synced 4 W&B file(s), 0 media file(s), 0 artifact file(s) and 0 other file(s)"
            ]
          },
          "metadata": {}
        },
        {
          "output_type": "display_data",
          "data": {
            "text/plain": [
              "<IPython.core.display.HTML object>"
            ],
            "text/html": [
              "Find logs at: <code>./wandb/run-20240524_121049-x17wg6ud/logs</code>"
            ]
          },
          "metadata": {}
        },
        {
          "output_type": "display_data",
          "data": {
            "text/plain": [
              "<IPython.core.display.HTML object>"
            ],
            "text/html": [
              "Successfully finished last run (ID:x17wg6ud). Initializing new run:<br/>"
            ]
          },
          "metadata": {}
        },
        {
          "output_type": "display_data",
          "data": {
            "text/plain": [
              "<IPython.core.display.HTML object>"
            ],
            "text/html": [
              "Tracking run with wandb version 0.17.0"
            ]
          },
          "metadata": {}
        },
        {
          "output_type": "display_data",
          "data": {
            "text/plain": [
              "<IPython.core.display.HTML object>"
            ],
            "text/html": [
              "Run data is saved locally in <code>/content/wandb/run-20240524_121101-g9puboqo</code>"
            ]
          },
          "metadata": {}
        },
        {
          "output_type": "display_data",
          "data": {
            "text/plain": [
              "<IPython.core.display.HTML object>"
            ],
            "text/html": [
              "Syncing run <strong><a href='https://wandb.ai/parallax_inc/dl_hw2_wandb_log_2/runs/g9puboqo' target=\"_blank\">tuned_model_run_4</a></strong> to <a href='https://wandb.ai/parallax_inc/dl_hw2_wandb_log_2' target=\"_blank\">Weights & Biases</a> (<a href='https://wandb.me/run' target=\"_blank\">docs</a>)<br/>"
            ]
          },
          "metadata": {}
        },
        {
          "output_type": "display_data",
          "data": {
            "text/plain": [
              "<IPython.core.display.HTML object>"
            ],
            "text/html": [
              " View project at <a href='https://wandb.ai/parallax_inc/dl_hw2_wandb_log_2' target=\"_blank\">https://wandb.ai/parallax_inc/dl_hw2_wandb_log_2</a>"
            ]
          },
          "metadata": {}
        },
        {
          "output_type": "display_data",
          "data": {
            "text/plain": [
              "<IPython.core.display.HTML object>"
            ],
            "text/html": [
              " View run at <a href='https://wandb.ai/parallax_inc/dl_hw2_wandb_log_2/runs/g9puboqo' target=\"_blank\">https://wandb.ai/parallax_inc/dl_hw2_wandb_log_2/runs/g9puboqo</a>"
            ]
          },
          "metadata": {}
        },
        {
          "output_type": "stream",
          "name": "stdout",
          "text": [
            "Epoch 0\n",
            " train loss: 1.431148316520844, train acc: 0.5166473867249315\n",
            " val loss: 1.1180052115755565, val acc: 0.5987155720338984\n",
            "\n",
            "Epoch 1\n",
            " train loss: 0.9435216677884986, train acc: 0.6731051226166913\n",
            " val loss: 0.9139781099254802, val acc: 0.6809454449152542\n",
            "\n",
            "Epoch 2\n",
            " train loss: 0.8010085399133445, train acc: 0.7211002672675753\n",
            " val loss: 0.8298746665655556, val acc: 0.7108712923728814\n",
            "\n",
            "Epoch 3\n",
            " train loss: 0.7196933018030042, train acc: 0.7496374806348425\n",
            " val loss: 0.7526134227292013, val acc: 0.7376191737288136\n",
            "\n",
            "Epoch 4\n",
            " train loss: 0.6456135043697636, train acc: 0.7780647160363023\n",
            " val loss: 0.7644705353146892, val acc: 0.7401129946870318\n",
            "\n",
            "Epoch 5\n",
            " train loss: 0.595451318760858, train acc: 0.7962843784450615\n",
            " val loss: 0.6778169026819326, val acc: 0.7656912076271186\n",
            "\n",
            "Epoch 6\n",
            " train loss: 0.5483955454869862, train acc: 0.8118890121470402\n",
            " val loss: 0.7319238271753666, val acc: 0.748146186440678\n",
            "\n",
            "Epoch 7\n",
            " train loss: 0.5005834151576035, train acc: 0.8289152111885322\n",
            " val loss: 0.6376460111242229, val acc: 0.7835893363265668\n",
            "\n",
            "Epoch 8\n",
            " train loss: 0.4692898434008995, train acc: 0.8389557808855154\n",
            " val loss: 0.6960853636264801, val acc: 0.7693546964960584\n",
            "\n",
            "Epoch 9\n",
            " train loss: 0.43934668954053935, train acc: 0.8505401134926037\n",
            " val loss: 0.6640382131277505, val acc: 0.7782485879073708\n",
            "\n",
            "Epoch 10\n",
            " train loss: 0.4079322868781368, train acc: 0.8620837137211849\n",
            " val loss: 0.6437182330479057, val acc: 0.784538312483642\n",
            "\n",
            "Epoch 11\n",
            " train loss: 0.3821849706072877, train acc: 0.8712363140861483\n",
            " val loss: 0.619230120363882, val acc: 0.7944253177966102\n",
            "\n",
            "Epoch 12\n",
            " train loss: 0.3628644262895967, train acc: 0.8781812110521497\n",
            " val loss: 0.6042417002431417, val acc: 0.7989715751955064\n",
            "\n",
            "Epoch 13\n",
            " train loss: 0.3362533518106398, train acc: 0.8874804486323448\n",
            " val loss: 0.6207570004261146, val acc: 0.8014212573988962\n",
            "\n",
            "Epoch 14\n",
            " train loss: 0.31478437030837486, train acc: 0.8937491855047045\n",
            " val loss: 0.5890634759502896, val acc: 0.8084171964960584\n",
            "\n",
            "Epoch 15\n",
            " train loss: 0.29170456697253416, train acc: 0.9025596325849965\n",
            " val loss: 0.5911162998211585, val acc: 0.8077992584745762\n",
            "\n",
            "Epoch 16\n",
            " train loss: 0.27278358739440456, train acc: 0.9110768054523607\n",
            " val loss: 0.6501310414682, val acc: 0.7974267303943634\n",
            "\n",
            "Epoch 17\n",
            " train loss: 0.2516338865469842, train acc: 0.9160665408538206\n",
            " val loss: 0.5929605738591339, val acc: 0.8128751768904218\n",
            "\n",
            "Epoch 18\n",
            " train loss: 0.2392316545992002, train acc: 0.9215857991336907\n",
            " val loss: 0.5808569210565696, val acc: 0.8149276133310996\n",
            "\n",
            "Epoch 19\n",
            " train loss: 0.2192617999593707, train acc: 0.9306406413551664\n",
            " val loss: 0.6067712933330213, val acc: 0.8147731286994482\n",
            "\n",
            "Epoch 20\n",
            " train loss: 0.20473557895552502, train acc: 0.9352434177468293\n",
            " val loss: 0.620090798806336, val acc: 0.8069164904497438\n",
            "\n",
            "Epoch 21\n",
            " train loss: 0.19236186758553894, train acc: 0.9394999675072022\n",
            " val loss: 0.6105303269321636, val acc: 0.8124117235005912\n",
            "\n",
            "Epoch 22\n",
            " train loss: 0.17640018414189346, train acc: 0.9450803246811359\n",
            " val loss: 0.5812629898220806, val acc: 0.822254590563855\n",
            "\n",
            "Epoch 23\n",
            " train loss: 0.15925485912683238, train acc: 0.9517360207808279\n",
            " val loss: 0.6003429140832465, val acc: 0.8212835455344896\n",
            "\n",
            "Epoch 24\n",
            " train loss: 0.14942938557071409, train acc: 0.9559518379451585\n",
            " val loss: 0.5879844558441033, val acc: 0.8216807912972014\n",
            "\n",
            "Epoch 25\n",
            " train loss: 0.14087071492724176, train acc: 0.9592226604475592\n",
            " val loss: 0.6032872880666943, val acc: 0.8197828389830508\n",
            "\n",
            "Epoch 26\n",
            " train loss: 0.12715223443823576, train acc: 0.9649985336909329\n",
            " val loss: 0.5885701516674737, val acc: 0.8240642658734726\n",
            "\n",
            "Epoch 27\n",
            " train loss: 0.11584829626074672, train acc: 0.9696664821057424\n",
            " val loss: 0.5947023193209858, val acc: 0.8258739406779662\n",
            "\n",
            "Epoch 28\n",
            " train loss: 0.10907547398857827, train acc: 0.9719067716250455\n",
            " val loss: 0.5900118878837359, val acc: 0.8279925847457628\n",
            "\n",
            "Epoch 29\n",
            " train loss: 0.10000999167180845, train acc: 0.9757641423357665\n",
            " val loss: 0.588080976221521, val acc: 0.8279705158734726\n",
            "\n",
            "Epoch 30\n",
            " train loss: 0.0885046286793956, train acc: 0.9797762971724907\n",
            " val loss: 0.5844016613091453, val acc: 0.8325829803943634\n",
            "\n",
            "Epoch 31\n",
            " train loss: 0.08539646195016638, train acc: 0.9809168081213958\n",
            " val loss: 0.6084409179323811, val acc: 0.826999470338983\n",
            "\n",
            "Epoch 32\n",
            " train loss: 0.07626620731758375, train acc: 0.985649928559352\n",
            " val loss: 0.6081225440158682, val acc: 0.827087747343516\n",
            "\n",
            "Epoch 33\n",
            " train loss: 0.07123820523112795, train acc: 0.9877680200729927\n",
            " val loss: 0.5955182931433289, val acc: 0.8297360524282618\n",
            "\n",
            "Epoch 34\n",
            " train loss: 0.06706282919286376, train acc: 0.989120340260276\n",
            " val loss: 0.5960645390264059, val acc: 0.8343705863265668\n",
            "\n",
            "Epoch 35\n",
            " train loss: 0.061568535925534955, train acc: 0.9908107406031477\n",
            " val loss: 0.6086911675283464, val acc: 0.828831215026015\n",
            "\n",
            "Epoch 36\n",
            " train loss: 0.05834013123038041, train acc: 0.9923015510948905\n",
            " val loss: 0.5973020642995834, val acc: 0.8327153956486006\n",
            "\n",
            "Epoch 37\n",
            " train loss: 0.05532472660887416, train acc: 0.993185447080292\n",
            " val loss: 0.5995497946011819, val acc: 0.833156779661017\n",
            "\n",
            "Epoch 38\n",
            " train loss: 0.053702985636726784, train acc: 0.9937760690703009\n",
            " val loss: 0.6014095562494407, val acc: 0.8313471048565234\n",
            "\n",
            "Epoch 39\n",
            " train loss: 0.05149870387611598, train acc: 0.9947536496350365\n",
            " val loss: 0.6084354115744769, val acc: 0.8322519422587702\n",
            "\n",
            "Epoch 40\n",
            " train loss: 0.04927792144517829, train acc: 0.9953809306569343\n",
            " val loss: 0.6011052502919052, val acc: 0.8331126414113126\n",
            "\n",
            "Epoch 41\n",
            " train loss: 0.04738535484584579, train acc: 0.9960367244525548\n",
            " val loss: 0.6079605464207924, val acc: 0.8347457627118644\n",
            "\n",
            "Epoch 42\n",
            " train loss: 0.046416529066806295, train acc: 0.9962933394160584\n",
            " val loss: 0.598114778808618, val acc: 0.8345692092079228\n",
            "\n",
            "Epoch 43\n",
            " train loss: 0.04405804593659883, train acc: 0.9965499543795621\n",
            " val loss: 0.6021523992136374, val acc: 0.8366216456486006\n",
            "\n",
            "Epoch 44\n",
            " train loss: 0.043513593821358075, train acc: 0.9968635948905109\n",
            " val loss: 0.6004743620248164, val acc: 0.8356726694915254\n",
            "\n",
            "Epoch 45\n",
            " train loss: 0.0431498546683549, train acc: 0.9972912864963503\n",
            " val loss: 0.6057479543200994, val acc: 0.8351430084745762\n",
            "\n",
            "Epoch 46\n",
            " train loss: 0.042958504248437654, train acc: 0.9969776459854015\n",
            " val loss: 0.6068922303995844, val acc: 0.8365333686440678\n",
            "\n",
            "Epoch 47\n",
            " train loss: 0.042622023173709854, train acc: 0.9974623631386861\n",
            " val loss: 0.59864632381221, val acc: 0.836754060902838\n",
            "\n",
            "Epoch 48\n",
            " train loss: 0.04230110950251348, train acc: 0.9975479014598541\n",
            " val loss: 0.6010935799045077, val acc: 0.8349885243480488\n",
            "\n",
            "Epoch 49\n",
            " train loss: 0.04247352434662137, train acc: 0.996932840260276\n",
            " val loss: 0.6042505227408167, val acc: 0.8348561090938116\n",
            "\n"
          ]
        },
        {
          "output_type": "display_data",
          "data": {
            "text/plain": [
              "VBox(children=(Label(value='0.003 MB of 0.003 MB uploaded\\r'), FloatProgress(value=1.0, max=1.0)))"
            ],
            "application/vnd.jupyter.widget-view+json": {
              "version_major": 2,
              "version_minor": 0,
              "model_id": "149f0bb59ee44ccb93242205a9c43049"
            }
          },
          "metadata": {}
        },
        {
          "output_type": "display_data",
          "data": {
            "text/plain": [
              "<IPython.core.display.HTML object>"
            ],
            "text/html": [
              "<style>\n",
              "    table.wandb td:nth-child(1) { padding: 0 10px; text-align: left ; width: auto;} td:nth-child(2) {text-align: left ; width: 100%}\n",
              "    .wandb-row { display: flex; flex-direction: row; flex-wrap: wrap; justify-content: flex-start; width: 100% }\n",
              "    .wandb-col { display: flex; flex-direction: column; flex-basis: 100%; flex: 1; padding: 10px; }\n",
              "    </style>\n",
              "<div class=\"wandb-row\"><div class=\"wandb-col\"><h3>Run history:</h3><br/><table class=\"wandb\"><tr><td>train_acc</td><td>▁▃▄▄▅▅▆▆▆▆▆▆▇▇▇▇▇▇▇▇▇███████████████████</td></tr><tr><td>train_loss</td><td>█▆▅▄▄▄▃▃▃▃▃▂▂▂▂▂▂▂▂▂▁▁▁▁▁▁▁▁▁▁▁▁▁▁▁▁▁▁▁▁</td></tr><tr><td>val_acc</td><td>▁▃▄▅▆▅▆▆▆▇▇▇▇▇▇▇▇▇██████████████████████</td></tr><tr><td>val_loss</td><td>█▅▄▃▂▃▂▃▂▂▁▂▁▂▁▁▂▁▁▁▁▁▁▁▁▁▁▁▁▁▁▁▁▁▁▁▁▁▁▁</td></tr></table><br/></div><div class=\"wandb-col\"><h3>Run summary:</h3><br/><table class=\"wandb\"><tr><td>train_acc</td><td>0.99693</td></tr><tr><td>train_loss</td><td>0.04247</td></tr><tr><td>val_acc</td><td>0.83486</td></tr><tr><td>val_loss</td><td>0.60425</td></tr></table><br/></div></div>"
            ]
          },
          "metadata": {}
        },
        {
          "output_type": "display_data",
          "data": {
            "text/plain": [
              "<IPython.core.display.HTML object>"
            ],
            "text/html": [
              " View run <strong style=\"color:#cdcd00\">tuned_model_run_4</strong> at: <a href='https://wandb.ai/parallax_inc/dl_hw2_wandb_log_2/runs/g9puboqo' target=\"_blank\">https://wandb.ai/parallax_inc/dl_hw2_wandb_log_2/runs/g9puboqo</a><br/> View project at: <a href='https://wandb.ai/parallax_inc/dl_hw2_wandb_log_2' target=\"_blank\">https://wandb.ai/parallax_inc/dl_hw2_wandb_log_2</a><br/>Synced 5 W&B file(s), 0 media file(s), 0 artifact file(s) and 0 other file(s)"
            ]
          },
          "metadata": {}
        },
        {
          "output_type": "display_data",
          "data": {
            "text/plain": [
              "<IPython.core.display.HTML object>"
            ],
            "text/html": [
              "Find logs at: <code>./wandb/run-20240524_121101-g9puboqo/logs</code>"
            ]
          },
          "metadata": {}
        }
      ]
    },
    {
      "cell_type": "code",
      "source": [
        "# Тут я использовал 3 блока\n",
        "\n",
        "n_classes = 10\n",
        "\n",
        "class Tuned_3_BlockNet(nn.Module):\n",
        "    def __init__(self):\n",
        "        super().__init__()\n",
        "        self.conv_block = nn.Sequential(\n",
        "            nn.Conv2d(in_channels=3, out_channels=32, kernel_size=3, padding=1),\n",
        "            nn.BatchNorm2d(32),\n",
        "            nn.ReLU6(inplace=True),\n",
        "            nn.Conv2d(in_channels=32, out_channels=64, kernel_size=3, padding=1),\n",
        "            nn.BatchNorm2d(64),\n",
        "            nn.ReLU6(inplace=True),\n",
        "        )\n",
        "\n",
        "        self.conv_block_2 = nn.Sequential(\n",
        "            nn.Conv2d(in_channels=64, out_channels=128, kernel_size=3, padding=1),\n",
        "            nn.BatchNorm2d(128),\n",
        "            nn.ReLU6(inplace=True),\n",
        "            nn.Conv2d(in_channels=128, out_channels=256, kernel_size=3, padding=1),\n",
        "            nn.Dropout(p=0.2),\n",
        "            nn.BatchNorm2d(256),\n",
        "            nn.ReLU6(inplace=True),\n",
        "        )\n",
        "\n",
        "        self.conv_block_3 = nn.Sequential(\n",
        "            nn.Conv2d(in_channels=256, out_channels=512, kernel_size=3, padding=1),\n",
        "            nn.BatchNorm2d(512),\n",
        "            nn.ReLU6(inplace=True),\n",
        "            nn.Conv2d(in_channels=512, out_channels=1024, kernel_size=3, padding=1),\n",
        "            nn.Dropout(p=0.2),\n",
        "            nn.BatchNorm2d(1024),\n",
        "            nn.ReLU6(inplace=True),\n",
        "        )\n",
        "\n",
        "        self.pooling = nn.Sequential(\n",
        "            nn.AvgPool2d(2),\n",
        "            nn.ReLU6(inplace=True)\n",
        "        )\n",
        "\n",
        "        self.conv_1 = nn.Conv2d(in_channels=3, out_channels=64, kernel_size=1)\n",
        "\n",
        "        self.conv_2 = nn.Conv2d(in_channels=64, out_channels=256, kernel_size=1)\n",
        "\n",
        "        self.conv_3 = nn.Conv2d(in_channels=256, out_channels=1024, kernel_size=1)\n",
        "\n",
        "        self.classifier = nn.Linear(in_features=16384, out_features=n_classes)\n",
        "\n",
        "    def forward(self, x):\n",
        "        conv_output = self.conv_1(x)\n",
        "        feature_map_1 = self.conv_block(x)\n",
        "        block_1_out = feature_map_1 + conv_output\n",
        "        block_1_pooling = self.pooling(block_1_out)\n",
        "\n",
        "        conv_2_output = self.conv_2(block_1_pooling)\n",
        "        feature_map_2 = self.conv_block_2(block_1_pooling)\n",
        "        block_2_out = feature_map_2 + conv_2_output\n",
        "        block_2_pooling = self.pooling(block_2_out)\n",
        "\n",
        "        conv_3_output = self.conv_3(block_2_pooling)\n",
        "        feature_map_3 = self.conv_block_3(block_2_pooling)\n",
        "        block_3_out = feature_map_3 + conv_3_output\n",
        "        block_3_pooling = self.pooling(block_3_out)\n",
        "\n",
        "        flat = torch.flatten(block_3_pooling, start_dim=1)\n",
        "\n",
        "        out = self.classifier(flat)\n",
        "        return out"
      ],
      "metadata": {
        "id": "0X9Cr0X_iV9d"
      },
      "execution_count": 19,
      "outputs": []
    },
    {
      "cell_type": "code",
      "source": [
        "net = Tuned_3_BlockNet().to(device)\n",
        "optimizer = optim.SGD(net.parameters(), lr=0.005, momentum=0.9)\n",
        "scheduler = optim.lr_scheduler.CosineAnnealingLR(optimizer, T_max=30)\n",
        "tr_loss_log, tr_acc_log, val_loss_log, val_acc_log = train(net, optimizer, 30, train_loader, val_loader, scheduler, \"3_block_tuned_model_5_final\")"
      ],
      "metadata": {
        "colab": {
          "base_uri": "https://localhost:8080/",
          "height": 1000,
          "referenced_widgets": [
            "97f27eb3dc594fa1bea860b41898c986",
            "6d45f4f1b285488e989096b67a406fe0",
            "79eda8e5fd4f4cbcb635514029ef8171",
            "cda6da7dc68843a5839715686126b3be",
            "76315f4d9110493e8a6d5c6175d73aa9",
            "84be58b584a245d8872efa3e698be74b",
            "63a486b824d644dbad8011763a17580e",
            "a97033dbf8a94e60ac1703a2908ee950",
            "36a95a522b794b9c8baaf30aeb8c52fb",
            "3c36279f2f79421ba59ca574e820662d",
            "4662f344b91c40c6bd102e45cdf4ea88",
            "8e892785fa5540f988a5c7717c8ee797",
            "542b1532908b4810819cbb4bdd1bf378",
            "1588a51eac074e34b88aeafc4c24062d",
            "bd84f7bb4b4e4339a70b40f7115a9fd0",
            "944211cebeda4827a404b1a96620ebb0"
          ]
        },
        "id": "u7MnIc-Ojf6d",
        "outputId": "e9200626-7ce9-4be2-b4af-5e5eb8a85dcb"
      },
      "execution_count": null,
      "outputs": [
        {
          "output_type": "display_data",
          "data": {
            "text/plain": [
              "<IPython.core.display.HTML object>"
            ],
            "text/html": [
              "Finishing last run (ID:dtkf0nrk) before initializing another..."
            ]
          },
          "metadata": {}
        },
        {
          "output_type": "display_data",
          "data": {
            "text/plain": [
              "VBox(children=(Label(value='0.012 MB of 0.012 MB uploaded\\r'), FloatProgress(value=1.0, max=1.0)))"
            ],
            "application/vnd.jupyter.widget-view+json": {
              "version_major": 2,
              "version_minor": 0,
              "model_id": "97f27eb3dc594fa1bea860b41898c986"
            }
          },
          "metadata": {}
        },
        {
          "output_type": "display_data",
          "data": {
            "text/plain": [
              "<IPython.core.display.HTML object>"
            ],
            "text/html": [
              "<style>\n",
              "    table.wandb td:nth-child(1) { padding: 0 10px; text-align: left ; width: auto;} td:nth-child(2) {text-align: left ; width: 100%}\n",
              "    .wandb-row { display: flex; flex-direction: row; flex-wrap: wrap; justify-content: flex-start; width: 100% }\n",
              "    .wandb-col { display: flex; flex-direction: column; flex-basis: 100%; flex: 1; padding: 10px; }\n",
              "    </style>\n",
              "<div class=\"wandb-row\"><div class=\"wandb-col\"><h3>Run history:</h3><br/><table class=\"wandb\"><tr><td>train_acc</td><td>▁</td></tr><tr><td>train_loss</td><td>▁</td></tr><tr><td>val_acc</td><td>▁</td></tr><tr><td>val_loss</td><td>▁</td></tr></table><br/></div><div class=\"wandb-col\"><h3>Run summary:</h3><br/><table class=\"wandb\"><tr><td>train_acc</td><td>0.54651</td></tr><tr><td>train_loss</td><td>1.32761</td></tr><tr><td>val_acc</td><td>0.65082</td></tr><tr><td>val_loss</td><td>1.02838</td></tr></table><br/></div></div>"
            ]
          },
          "metadata": {}
        },
        {
          "output_type": "display_data",
          "data": {
            "text/plain": [
              "<IPython.core.display.HTML object>"
            ],
            "text/html": [
              " View run <strong style=\"color:#cdcd00\">3_block_tuned_model_5_final</strong> at: <a href='https://wandb.ai/parallax_inc/dl_hw2_wandb_log_2/runs/dtkf0nrk' target=\"_blank\">https://wandb.ai/parallax_inc/dl_hw2_wandb_log_2/runs/dtkf0nrk</a><br/> View project at: <a href='https://wandb.ai/parallax_inc/dl_hw2_wandb_log_2' target=\"_blank\">https://wandb.ai/parallax_inc/dl_hw2_wandb_log_2</a><br/>Synced 5 W&B file(s), 0 media file(s), 0 artifact file(s) and 0 other file(s)"
            ]
          },
          "metadata": {}
        },
        {
          "output_type": "display_data",
          "data": {
            "text/plain": [
              "<IPython.core.display.HTML object>"
            ],
            "text/html": [
              "Find logs at: <code>./wandb/run-20240524_130716-dtkf0nrk/logs</code>"
            ]
          },
          "metadata": {}
        },
        {
          "output_type": "display_data",
          "data": {
            "text/plain": [
              "<IPython.core.display.HTML object>"
            ],
            "text/html": [
              "Successfully finished last run (ID:dtkf0nrk). Initializing new run:<br/>"
            ]
          },
          "metadata": {}
        },
        {
          "output_type": "display_data",
          "data": {
            "text/plain": [
              "<IPython.core.display.HTML object>"
            ],
            "text/html": [
              "Tracking run with wandb version 0.17.0"
            ]
          },
          "metadata": {}
        },
        {
          "output_type": "display_data",
          "data": {
            "text/plain": [
              "<IPython.core.display.HTML object>"
            ],
            "text/html": [
              "Run data is saved locally in <code>/content/wandb/run-20240524_130823-dop6xn2e</code>"
            ]
          },
          "metadata": {}
        },
        {
          "output_type": "display_data",
          "data": {
            "text/plain": [
              "<IPython.core.display.HTML object>"
            ],
            "text/html": [
              "Syncing run <strong><a href='https://wandb.ai/parallax_inc/dl_hw2_wandb_log_2/runs/dop6xn2e' target=\"_blank\">3_block_tuned_model_5_final</a></strong> to <a href='https://wandb.ai/parallax_inc/dl_hw2_wandb_log_2' target=\"_blank\">Weights & Biases</a> (<a href='https://wandb.me/run' target=\"_blank\">docs</a>)<br/>"
            ]
          },
          "metadata": {}
        },
        {
          "output_type": "display_data",
          "data": {
            "text/plain": [
              "<IPython.core.display.HTML object>"
            ],
            "text/html": [
              " View project at <a href='https://wandb.ai/parallax_inc/dl_hw2_wandb_log_2' target=\"_blank\">https://wandb.ai/parallax_inc/dl_hw2_wandb_log_2</a>"
            ]
          },
          "metadata": {}
        },
        {
          "output_type": "display_data",
          "data": {
            "text/plain": [
              "<IPython.core.display.HTML object>"
            ],
            "text/html": [
              " View run at <a href='https://wandb.ai/parallax_inc/dl_hw2_wandb_log_2/runs/dop6xn2e' target=\"_blank\">https://wandb.ai/parallax_inc/dl_hw2_wandb_log_2/runs/dop6xn2e</a>"
            ]
          },
          "metadata": {}
        },
        {
          "output_type": "stream",
          "name": "stdout",
          "text": [
            "Epoch 0\n",
            " train loss: 1.5036568928809062, train acc: 0.49898168683922206\n",
            " val loss: 1.076542195627245, val acc: 0.6242055084745762\n",
            "\n",
            "Epoch 1\n",
            " train loss: 0.8963303137434661, train acc: 0.6829909086227417\n",
            " val loss: 1.2391253505217827, val acc: 0.6092867235005912\n",
            "\n",
            "Epoch 2\n",
            " train loss: 0.6986042192600069, train acc: 0.7557921664123117\n",
            " val loss: 0.80525642128314, val acc: 0.7265845693774142\n",
            "\n",
            "Epoch 3\n",
            " train loss: 0.5838926066882419, train acc: 0.7958851996129447\n",
            " val loss: 0.7220586336265176, val acc: 0.762226342144659\n",
            "\n",
            "Epoch 4\n",
            " train loss: 0.49394495339289196, train acc: 0.8277991398842666\n",
            " val loss: 0.6114572690705121, val acc: 0.7944915254237288\n",
            "\n",
            "Epoch 5\n",
            " train loss: 0.4267403373535532, train acc: 0.8525360076531877\n",
            " val loss: 0.6841012630927361, val acc: 0.7821327685299566\n",
            "\n",
            "Epoch 6\n",
            " train loss: 0.3637941405720954, train acc: 0.8755498893939666\n",
            " val loss: 0.5857476124824104, val acc: 0.805702683784194\n",
            "\n",
            "Epoch 7\n",
            " train loss: 0.3124512300221589, train acc: 0.894282781729733\n",
            " val loss: 0.5852415639970262, val acc: 0.8147289904497438\n",
            "\n",
            "Epoch 8\n",
            " train loss: 0.2682693355383664, train acc: 0.9102621548367242\n",
            " val loss: 0.50889632434158, val acc: 0.8330022955344896\n",
            "\n",
            "Epoch 9\n",
            " train loss: 0.22668288479538728, train acc: 0.925007331980406\n",
            " val loss: 0.6037952766074972, val acc: 0.8155455508474576\n",
            "\n",
            "Epoch 10\n",
            " train loss: 0.19392719916509885, train acc: 0.9376873698112739\n",
            " val loss: 0.5055086966288291, val acc: 0.839115466101695\n",
            "\n",
            "Epoch 11\n",
            " train loss: 0.15501589871888613, train acc: 0.9537930136179402\n",
            " val loss: 0.5344478851657802, val acc: 0.8393140889830508\n",
            "\n",
            "Epoch 12\n",
            " train loss: 0.1288525913128235, train acc: 0.9630392989973082\n",
            " val loss: 0.5402955510101076, val acc: 0.8440368998858888\n",
            "\n",
            "Epoch 13\n",
            " train loss: 0.10496286328637251, train acc: 0.9719067716250455\n",
            " val loss: 0.4920440482891212, val acc: 0.856285310902838\n",
            "\n",
            "Epoch 14\n",
            " train loss: 0.08754900222929725, train acc: 0.9787009580291971\n",
            " val loss: 0.5558126852926562, val acc: 0.8434631006192352\n",
            "\n",
            "Epoch 15\n",
            " train loss: 0.06960830181483588, train acc: 0.9844320255474452\n",
            " val loss: 0.5303011248677464, val acc: 0.8506797319751674\n",
            "\n",
            "Epoch 16\n",
            " train loss: 0.05543244035955328, train acc: 0.9892343913551664\n",
            " val loss: 0.4917832588997938, val acc: 0.8593308617502956\n",
            "\n",
            "Epoch 17\n",
            " train loss: 0.047424954807480976, train acc: 0.9916090982673812\n",
            " val loss: 0.47123206192153994, val acc: 0.8655985169491526\n",
            "\n",
            "Epoch 18\n",
            " train loss: 0.03779545925679977, train acc: 0.9944318628659213\n",
            " val loss: 0.48799758050906455, val acc: 0.8656867939536854\n",
            "\n",
            "Epoch 19\n",
            " train loss: 0.03295327976250844, train acc: 0.9961507755474452\n",
            " val loss: 0.48367777795104655, val acc: 0.8654881710723296\n",
            "\n",
            "Epoch 20\n",
            " train loss: 0.028989611968506863, train acc: 0.9970061587591241\n",
            " val loss: 0.4762198517130593, val acc: 0.8680702685299566\n",
            "\n",
            "Epoch 21\n",
            " train loss: 0.024651724586847924, train acc: 0.9981466697080292\n",
            " val loss: 0.47563974597191405, val acc: 0.8687544141785574\n",
            "\n",
            "Epoch 22\n",
            " train loss: 0.022659580474787385, train acc: 0.9983462591240876\n",
            " val loss: 0.4879128254823766, val acc: 0.8656205863265668\n",
            "\n",
            "Epoch 23\n",
            " train loss: 0.020873442394183064, train acc: 0.9988024635036497\n",
            " val loss: 0.47666254197641955, val acc: 0.871711688021482\n",
            "\n",
            "Epoch 24\n",
            " train loss: 0.01937124347926056, train acc: 0.9993727189781022\n",
            " val loss: 0.4888757601127786, val acc: 0.8699902897163972\n",
            "\n",
            "Epoch 25\n",
            " train loss: 0.018399209028830493, train acc: 0.9994012317518248\n",
            " val loss: 0.4757016368084035, val acc: 0.871711688021482\n",
            "\n",
            "Epoch 26\n",
            " train loss: 0.017900459668904977, train acc: 0.9993442062043796\n",
            " val loss: 0.48260427481037077, val acc: 0.8706302966101694\n",
            "\n",
            "Epoch 27\n",
            " train loss: 0.017679965007968628, train acc: 0.9994012317518248\n",
            " val loss: 0.4894190703408193, val acc: 0.8689971753096176\n",
            "\n",
            "Epoch 28\n",
            " train loss: 0.017877529234197127, train acc: 0.9994297445255474\n",
            " val loss: 0.4828963003168672, val acc: 0.8704537431062278\n",
            "\n",
            "Epoch 29\n",
            " train loss: 0.017316621405337632, train acc: 0.9996008211678832\n",
            " val loss: 0.4799968971539352, val acc: 0.8684013066655498\n",
            "\n"
          ]
        },
        {
          "output_type": "display_data",
          "data": {
            "text/plain": [
              "VBox(children=(Label(value='0.003 MB of 0.003 MB uploaded\\r'), FloatProgress(value=1.0, max=1.0)))"
            ],
            "application/vnd.jupyter.widget-view+json": {
              "version_major": 2,
              "version_minor": 0,
              "model_id": "36a95a522b794b9c8baaf30aeb8c52fb"
            }
          },
          "metadata": {}
        },
        {
          "output_type": "display_data",
          "data": {
            "text/plain": [
              "<IPython.core.display.HTML object>"
            ],
            "text/html": [
              "<style>\n",
              "    table.wandb td:nth-child(1) { padding: 0 10px; text-align: left ; width: auto;} td:nth-child(2) {text-align: left ; width: 100%}\n",
              "    .wandb-row { display: flex; flex-direction: row; flex-wrap: wrap; justify-content: flex-start; width: 100% }\n",
              "    .wandb-col { display: flex; flex-direction: column; flex-basis: 100%; flex: 1; padding: 10px; }\n",
              "    </style>\n",
              "<div class=\"wandb-row\"><div class=\"wandb-col\"><h3>Run history:</h3><br/><table class=\"wandb\"><tr><td>train_acc</td><td>▁▄▅▅▆▆▆▇▇▇▇▇▇█████████████████</td></tr><tr><td>train_loss</td><td>█▅▄▄▃▃▃▂▂▂▂▂▂▁▁▁▁▁▁▁▁▁▁▁▁▁▁▁▁▁</td></tr><tr><td>val_acc</td><td>▁▁▄▅▆▆▆▆▇▇▇▇▇█▇▇██████████████</td></tr><tr><td>val_loss</td><td>▇█▄▃▂▃▂▂▁▂▁▂▂▁▂▂▁▁▁▁▁▁▁▁▁▁▁▁▁▁</td></tr></table><br/></div><div class=\"wandb-col\"><h3>Run summary:</h3><br/><table class=\"wandb\"><tr><td>train_acc</td><td>0.9996</td></tr><tr><td>train_loss</td><td>0.01732</td></tr><tr><td>val_acc</td><td>0.8684</td></tr><tr><td>val_loss</td><td>0.48</td></tr></table><br/></div></div>"
            ]
          },
          "metadata": {}
        },
        {
          "output_type": "display_data",
          "data": {
            "text/plain": [
              "<IPython.core.display.HTML object>"
            ],
            "text/html": [
              " View run <strong style=\"color:#cdcd00\">3_block_tuned_model_5_final</strong> at: <a href='https://wandb.ai/parallax_inc/dl_hw2_wandb_log_2/runs/dop6xn2e' target=\"_blank\">https://wandb.ai/parallax_inc/dl_hw2_wandb_log_2/runs/dop6xn2e</a><br/> View project at: <a href='https://wandb.ai/parallax_inc/dl_hw2_wandb_log_2' target=\"_blank\">https://wandb.ai/parallax_inc/dl_hw2_wandb_log_2</a><br/>Synced 5 W&B file(s), 0 media file(s), 0 artifact file(s) and 0 other file(s)"
            ]
          },
          "metadata": {}
        },
        {
          "output_type": "display_data",
          "data": {
            "text/plain": [
              "<IPython.core.display.HTML object>"
            ],
            "text/html": [
              "Find logs at: <code>./wandb/run-20240524_130823-dop6xn2e/logs</code>"
            ]
          },
          "metadata": {}
        }
      ]
    },
    {
      "cell_type": "code",
      "source": [
        "net = Tuned_3_BlockNet().to(device)\n",
        "optimizer = optim.Adam(net.parameters(), lr=0.001)\n",
        "scheduler = optim.lr_scheduler.CosineAnnealingLR(optimizer, T_max=30)\n",
        "tr_loss_log, tr_acc_log, val_loss_log, val_acc_log = train(net, optimizer, 30, train_loader, val_loader, scheduler, \"final_test_model\")"
      ],
      "metadata": {
        "colab": {
          "base_uri": "https://localhost:8080/",
          "height": 1000,
          "referenced_widgets": [
            "f41d941423594d6ca31e47596086816c",
            "60ba69bd9a764b84aaa5acd24ebd3591",
            "f217afe0da4b43238ce259a10e678442",
            "8859f5698f0e454a9aebd0241daada4e",
            "600142c1034844ffb97ff359fe4e02f1",
            "5ae4f6c6a2044cbbb9506b29724c8b31",
            "dc6a78f953904b7280fed6f9db78973a",
            "6afee675641c4125866dce7ea0329ad8"
          ]
        },
        "id": "hWas8yVgvrNl",
        "outputId": "8ee748db-523d-4797-b0d1-1d5900beaf49"
      },
      "execution_count": 24,
      "outputs": [
        {
          "output_type": "display_data",
          "data": {
            "text/plain": [
              "<IPython.core.display.HTML object>"
            ],
            "text/html": [
              "Tracking run with wandb version 0.17.0"
            ]
          },
          "metadata": {}
        },
        {
          "output_type": "display_data",
          "data": {
            "text/plain": [
              "<IPython.core.display.HTML object>"
            ],
            "text/html": [
              "Run data is saved locally in <code>/content/wandb/run-20240524_190555-g10tg4r2</code>"
            ]
          },
          "metadata": {}
        },
        {
          "output_type": "display_data",
          "data": {
            "text/plain": [
              "<IPython.core.display.HTML object>"
            ],
            "text/html": [
              "Syncing run <strong><a href='https://wandb.ai/parallax_inc/dl_hw2_wandb_log_2/runs/g10tg4r2' target=\"_blank\">final_test_model</a></strong> to <a href='https://wandb.ai/parallax_inc/dl_hw2_wandb_log_2' target=\"_blank\">Weights & Biases</a> (<a href='https://wandb.me/run' target=\"_blank\">docs</a>)<br/>"
            ]
          },
          "metadata": {}
        },
        {
          "output_type": "display_data",
          "data": {
            "text/plain": [
              "<IPython.core.display.HTML object>"
            ],
            "text/html": [
              " View project at <a href='https://wandb.ai/parallax_inc/dl_hw2_wandb_log_2' target=\"_blank\">https://wandb.ai/parallax_inc/dl_hw2_wandb_log_2</a>"
            ]
          },
          "metadata": {}
        },
        {
          "output_type": "display_data",
          "data": {
            "text/plain": [
              "<IPython.core.display.HTML object>"
            ],
            "text/html": [
              " View run at <a href='https://wandb.ai/parallax_inc/dl_hw2_wandb_log_2/runs/g10tg4r2' target=\"_blank\">https://wandb.ai/parallax_inc/dl_hw2_wandb_log_2/runs/g10tg4r2</a>"
            ]
          },
          "metadata": {}
        },
        {
          "output_type": "stream",
          "name": "stdout",
          "text": [
            "Epoch 0\n",
            " train loss: 1.4930909776164583, train acc: 0.4736876469207638\n",
            " val loss: 1.513204106878727, val acc: 0.49997783696397824\n",
            "\n",
            "Epoch 1\n",
            " train loss: 0.9819296374508406, train acc: 0.6506839254002684\n",
            " val loss: 0.9398454904556275, val acc: 0.6714760638297872\n",
            "\n",
            "Epoch 2\n",
            " train loss: 0.7778096579873366, train acc: 0.7293149322216864\n",
            " val loss: 0.8320440816118362, val acc: 0.7228945037151905\n",
            "\n",
            "Epoch 3\n",
            " train loss: 0.6490473532589524, train acc: 0.7723173479493401\n",
            " val loss: 0.8356263891179511, val acc: 0.7313829787234043\n",
            "\n",
            "Epoch 4\n",
            " train loss: 0.5555611394713522, train acc: 0.8040651932930816\n",
            " val loss: 0.6597470086939792, val acc: 0.7776152483960416\n",
            "\n",
            "Epoch 5\n",
            " train loss: 0.48298482041145374, train acc: 0.8327198682363116\n",
            " val loss: 0.577418101214348, val acc: 0.80625\n",
            "\n",
            "Epoch 6\n",
            " train loss: 0.4096871143448723, train acc: 0.85677151357452\n",
            " val loss: 0.5358020443865593, val acc: 0.8212987590343395\n",
            "\n",
            "Epoch 7\n",
            " train loss: 0.35034474817664796, train acc: 0.8784726756800245\n",
            " val loss: 0.5083151616314624, val acc: 0.8289893617021277\n",
            "\n",
            "Epoch 8\n",
            " train loss: 0.2979627992596879, train acc: 0.8969582463095349\n",
            " val loss: 0.511458442217492, val acc: 0.8365913122258288\n",
            "\n",
            "Epoch 9\n",
            " train loss: 0.24706484971251305, train acc: 0.9130484461784363\n",
            " val loss: 0.509292328801561, val acc: 0.8404920212765957\n",
            "\n",
            "Epoch 10\n",
            " train loss: 0.19906598744297593, train acc: 0.9301343367348206\n",
            " val loss: 0.538962309221004, val acc: 0.8365026595744681\n",
            "\n",
            "Epoch 11\n",
            " train loss: 0.1577721398657484, train acc: 0.946808076645818\n",
            " val loss: 0.4874457611999613, val acc: 0.8577792553191489\n",
            "\n",
            "Epoch 12\n",
            " train loss: 0.12679329053439214, train acc: 0.9578014821413449\n",
            " val loss: 0.49139814541694965, val acc: 0.8561613476022761\n",
            "\n",
            "Epoch 13\n",
            " train loss: 0.09795333067775862, train acc: 0.9676278075526794\n",
            " val loss: 0.49920781736678266, val acc: 0.8636746454746165\n",
            "\n",
            "Epoch 14\n",
            " train loss: 0.07864884485131371, train acc: 0.9740589907226005\n",
            " val loss: 0.5633859285331787, val acc: 0.8558732271194458\n",
            "\n",
            "Epoch 15\n",
            " train loss: 0.0601666246964792, train acc: 0.9815674784850377\n",
            " val loss: 0.548456483286746, val acc: 0.8571365249917863\n",
            "\n",
            "Epoch 16\n",
            " train loss: 0.04454705137435953, train acc: 0.9874477670877028\n",
            " val loss: 0.5250231508878951, val acc: 0.864029255319149\n",
            "\n",
            "Epoch 17\n",
            " train loss: 0.03469843159206688, train acc: 0.9902552887116315\n",
            " val loss: 0.5572494962748061, val acc: 0.8671320922831272\n",
            "\n",
            "Epoch 18\n",
            " train loss: 0.024081674220135785, train acc: 0.9934872029250457\n",
            " val loss: 0.5233537862751078, val acc: 0.8738031914893617\n",
            "\n",
            "Epoch 19\n",
            " train loss: 0.018534306627681216, train acc: 0.9955438756855576\n",
            " val loss: 0.5422473521942788, val acc: 0.8752437944107867\n",
            "\n",
            "Epoch 20\n",
            " train loss: 0.013984506320671419, train acc: 0.9966864716636198\n",
            " val loss: 0.5557072719677966, val acc: 0.8765292553191489\n",
            "\n",
            "Epoch 21\n",
            " train loss: 0.009287532034072126, train acc: 0.9982861060329068\n",
            " val loss: 0.5484425001639001, val acc: 0.8764849292471054\n",
            "\n",
            "Epoch 22\n",
            " train loss: 0.007108491204719024, train acc: 0.9986288848263254\n",
            " val loss: 0.5532926653927945, val acc: 0.879410461161999\n",
            "\n",
            "Epoch 23\n",
            " train loss: 0.004889417214796264, train acc: 0.9994287020109689\n",
            " val loss: 0.5516325164665568, val acc: 0.878878546268382\n",
            "\n",
            "Epoch 24\n",
            " train loss: 0.0038913471769614714, train acc: 0.9996000914076782\n",
            " val loss: 0.5454074102513333, val acc: 0.8803413122258288\n",
            "\n",
            "Epoch 25\n",
            " train loss: 0.003729368435673099, train acc: 0.999485831809872\n",
            " val loss: 0.5503779780912272, val acc: 0.8826462765957447\n",
            "\n",
            "Epoch 26\n",
            " train loss: 0.002698577947992707, train acc: 0.999742915904936\n",
            " val loss: 0.5580920768862075, val acc: 0.8815602837724889\n",
            "\n",
            "Epoch 27\n",
            " train loss: 0.0023581608368257925, train acc: 0.9998571755027422\n",
            " val loss: 0.553090615459579, val acc: 0.8828235816448293\n",
            "\n",
            "Epoch 28\n",
            " train loss: 0.002139959724751298, train acc: 0.9998571755027422\n",
            " val loss: 0.54636757457827, val acc: 0.8828679079705096\n",
            "\n",
            "Epoch 29\n",
            " train loss: 0.002148006484997876, train acc: 0.9998571755027422\n",
            " val loss: 0.5525676231276482, val acc: 0.8831338654173181\n",
            "\n",
            "[[1.513204106878727, 0], [0.9398454904556275, 1], [0.8320440816118362, 2], [0.8356263891179511, 3], [0.6597470086939792, 4], [0.577418101214348, 5], [0.5358020443865593, 6], [0.5083151616314624, 7], [0.511458442217492, 8], [0.509292328801561, 9], [0.538962309221004, 10], [0.4874457611999613, 11], [0.49139814541694965, 12], [0.49920781736678266, 13], [0.5633859285331787, 14], [0.548456483286746, 15], [0.5250231508878951, 16], [0.5572494962748061, 17], [0.5233537862751078, 18], [0.5422473521942788, 19], [0.5557072719677966, 20], [0.5484425001639001, 21], [0.5532926653927945, 22], [0.5516325164665568, 23], [0.5454074102513333, 24], [0.5503779780912272, 25], [0.5580920768862075, 26], [0.553090615459579, 27], [0.54636757457827, 28], [0.5525676231276482, 29]]\n",
            "[[0.49997783696397824, 0], [0.6714760638297872, 1], [0.7228945037151905, 2], [0.7313829787234043, 3], [0.7776152483960416, 4], [0.80625, 5], [0.8212987590343395, 6], [0.8289893617021277, 7], [0.8365913122258288, 8], [0.8404920212765957, 9], [0.8365026595744681, 10], [0.8577792553191489, 11], [0.8561613476022761, 12], [0.8636746454746165, 13], [0.8558732271194458, 14], [0.8571365249917863, 15], [0.864029255319149, 16], [0.8671320922831272, 17], [0.8738031914893617, 18], [0.8752437944107867, 19], [0.8765292553191489, 20], [0.8764849292471054, 21], [0.879410461161999, 22], [0.878878546268382, 23], [0.8803413122258288, 24], [0.8826462765957447, 25], [0.8815602837724889, 26], [0.8828235816448293, 27], [0.8828679079705096, 28], [0.8831338654173181, 29]]\n"
          ]
        },
        {
          "output_type": "display_data",
          "data": {
            "text/plain": [
              "VBox(children=(Label(value='0.006 MB of 0.006 MB uploaded\\r'), FloatProgress(value=1.0, max=1.0)))"
            ],
            "application/vnd.jupyter.widget-view+json": {
              "version_major": 2,
              "version_minor": 0,
              "model_id": "f41d941423594d6ca31e47596086816c"
            }
          },
          "metadata": {}
        },
        {
          "output_type": "display_data",
          "data": {
            "text/plain": [
              "<IPython.core.display.HTML object>"
            ],
            "text/html": [
              "<style>\n",
              "    table.wandb td:nth-child(1) { padding: 0 10px; text-align: left ; width: auto;} td:nth-child(2) {text-align: left ; width: 100%}\n",
              "    .wandb-row { display: flex; flex-direction: row; flex-wrap: wrap; justify-content: flex-start; width: 100% }\n",
              "    .wandb-col { display: flex; flex-direction: column; flex-basis: 100%; flex: 1; padding: 10px; }\n",
              "    </style>\n",
              "<div class=\"wandb-row\"><div class=\"wandb-col\"><h3>Run history:</h3><br/><table class=\"wandb\"><tr><td>train_acc</td><td>▁▃▄▅▅▆▆▆▇▇▇▇▇█████████████████</td></tr><tr><td>train_loss</td><td>█▆▅▄▄▃▃▃▂▂▂▂▂▁▁▁▁▁▁▁▁▁▁▁▁▁▁▁▁▁</td></tr><tr><td>val_acc</td><td>▁▄▅▅▆▇▇▇▇▇▇███████████████████</td></tr><tr><td>val_loss</td><td>█▄▃▃▂▂▁▁▁▁▁▁▁▁▂▁▁▁▁▁▁▁▁▁▁▁▁▁▁▁</td></tr></table><br/></div><div class=\"wandb-col\"><h3>Run summary:</h3><br/><table class=\"wandb\"><tr><td>train_acc</td><td>0.99986</td></tr><tr><td>train_loss</td><td>0.00215</td></tr><tr><td>val_acc</td><td>0.88313</td></tr><tr><td>val_loss</td><td>0.55257</td></tr></table><br/></div></div>"
            ]
          },
          "metadata": {}
        },
        {
          "output_type": "display_data",
          "data": {
            "text/plain": [
              "<IPython.core.display.HTML object>"
            ],
            "text/html": [
              " View run <strong style=\"color:#cdcd00\">final_test_model</strong> at: <a href='https://wandb.ai/parallax_inc/dl_hw2_wandb_log_2/runs/g10tg4r2' target=\"_blank\">https://wandb.ai/parallax_inc/dl_hw2_wandb_log_2/runs/g10tg4r2</a><br/> View project at: <a href='https://wandb.ai/parallax_inc/dl_hw2_wandb_log_2' target=\"_blank\">https://wandb.ai/parallax_inc/dl_hw2_wandb_log_2</a><br/>Synced 5 W&B file(s), 2 media file(s), 2 artifact file(s) and 0 other file(s)"
            ]
          },
          "metadata": {}
        },
        {
          "output_type": "display_data",
          "data": {
            "text/plain": [
              "<IPython.core.display.HTML object>"
            ],
            "text/html": [
              "Find logs at: <code>./wandb/run-20240524_190555-g10tg4r2/logs</code>"
            ]
          },
          "metadata": {}
        }
      ]
    }
  ],
  "metadata": {
    "accelerator": "GPU",
    "colab": {
      "gpuType": "L4",
      "provenance": [],
      "machine_shape": "hm"
    },
    "kernelspec": {
      "display_name": "Python 3",
      "name": "python3"
    },
    "language_info": {
      "codemirror_mode": {
        "name": "ipython",
        "version": 3
      },
      "file_extension": ".py",
      "mimetype": "text/x-python",
      "name": "python",
      "nbconvert_exporter": "python",
      "pygments_lexer": "ipython3",
      "version": "3.10.4"
    },
    "widgets": {
      "application/vnd.jupyter.widget-state+json": {
        "26adec3450c54d1da70f51bff33cd296": {
          "model_module": "@jupyter-widgets/controls",
          "model_name": "VBoxModel",
          "model_module_version": "1.5.0",
          "state": {
            "_dom_classes": [],
            "_model_module": "@jupyter-widgets/controls",
            "_model_module_version": "1.5.0",
            "_model_name": "VBoxModel",
            "_view_count": null,
            "_view_module": "@jupyter-widgets/controls",
            "_view_module_version": "1.5.0",
            "_view_name": "VBoxView",
            "box_style": "",
            "children": [
              "IPY_MODEL_eb7bad2491a64f548e559575ff6c7478",
              "IPY_MODEL_bcc760f424914cfba3ac239c55af620c"
            ],
            "layout": "IPY_MODEL_e78ad34588e04b4a9c68d3a5949225c9"
          }
        },
        "eb7bad2491a64f548e559575ff6c7478": {
          "model_module": "@jupyter-widgets/controls",
          "model_name": "LabelModel",
          "model_module_version": "1.5.0",
          "state": {
            "_dom_classes": [],
            "_model_module": "@jupyter-widgets/controls",
            "_model_module_version": "1.5.0",
            "_model_name": "LabelModel",
            "_view_count": null,
            "_view_module": "@jupyter-widgets/controls",
            "_view_module_version": "1.5.0",
            "_view_name": "LabelView",
            "description": "",
            "description_tooltip": null,
            "layout": "IPY_MODEL_830452e7a0ce4b359e37ed89c318a53d",
            "placeholder": "​",
            "style": "IPY_MODEL_0440601ca19343759dbf2c53b4c84294",
            "value": "0.018 MB of 0.018 MB uploaded\r"
          }
        },
        "bcc760f424914cfba3ac239c55af620c": {
          "model_module": "@jupyter-widgets/controls",
          "model_name": "FloatProgressModel",
          "model_module_version": "1.5.0",
          "state": {
            "_dom_classes": [],
            "_model_module": "@jupyter-widgets/controls",
            "_model_module_version": "1.5.0",
            "_model_name": "FloatProgressModel",
            "_view_count": null,
            "_view_module": "@jupyter-widgets/controls",
            "_view_module_version": "1.5.0",
            "_view_name": "ProgressView",
            "bar_style": "",
            "description": "",
            "description_tooltip": null,
            "layout": "IPY_MODEL_4a67d4420db64f418d5c18ed3bd1f987",
            "max": 1,
            "min": 0,
            "orientation": "horizontal",
            "style": "IPY_MODEL_83c78bcf71bb47e4945b522874154e66",
            "value": 1
          }
        },
        "e78ad34588e04b4a9c68d3a5949225c9": {
          "model_module": "@jupyter-widgets/base",
          "model_name": "LayoutModel",
          "model_module_version": "1.2.0",
          "state": {
            "_model_module": "@jupyter-widgets/base",
            "_model_module_version": "1.2.0",
            "_model_name": "LayoutModel",
            "_view_count": null,
            "_view_module": "@jupyter-widgets/base",
            "_view_module_version": "1.2.0",
            "_view_name": "LayoutView",
            "align_content": null,
            "align_items": null,
            "align_self": null,
            "border": null,
            "bottom": null,
            "display": null,
            "flex": null,
            "flex_flow": null,
            "grid_area": null,
            "grid_auto_columns": null,
            "grid_auto_flow": null,
            "grid_auto_rows": null,
            "grid_column": null,
            "grid_gap": null,
            "grid_row": null,
            "grid_template_areas": null,
            "grid_template_columns": null,
            "grid_template_rows": null,
            "height": null,
            "justify_content": null,
            "justify_items": null,
            "left": null,
            "margin": null,
            "max_height": null,
            "max_width": null,
            "min_height": null,
            "min_width": null,
            "object_fit": null,
            "object_position": null,
            "order": null,
            "overflow": null,
            "overflow_x": null,
            "overflow_y": null,
            "padding": null,
            "right": null,
            "top": null,
            "visibility": null,
            "width": null
          }
        },
        "830452e7a0ce4b359e37ed89c318a53d": {
          "model_module": "@jupyter-widgets/base",
          "model_name": "LayoutModel",
          "model_module_version": "1.2.0",
          "state": {
            "_model_module": "@jupyter-widgets/base",
            "_model_module_version": "1.2.0",
            "_model_name": "LayoutModel",
            "_view_count": null,
            "_view_module": "@jupyter-widgets/base",
            "_view_module_version": "1.2.0",
            "_view_name": "LayoutView",
            "align_content": null,
            "align_items": null,
            "align_self": null,
            "border": null,
            "bottom": null,
            "display": null,
            "flex": null,
            "flex_flow": null,
            "grid_area": null,
            "grid_auto_columns": null,
            "grid_auto_flow": null,
            "grid_auto_rows": null,
            "grid_column": null,
            "grid_gap": null,
            "grid_row": null,
            "grid_template_areas": null,
            "grid_template_columns": null,
            "grid_template_rows": null,
            "height": null,
            "justify_content": null,
            "justify_items": null,
            "left": null,
            "margin": null,
            "max_height": null,
            "max_width": null,
            "min_height": null,
            "min_width": null,
            "object_fit": null,
            "object_position": null,
            "order": null,
            "overflow": null,
            "overflow_x": null,
            "overflow_y": null,
            "padding": null,
            "right": null,
            "top": null,
            "visibility": null,
            "width": null
          }
        },
        "0440601ca19343759dbf2c53b4c84294": {
          "model_module": "@jupyter-widgets/controls",
          "model_name": "DescriptionStyleModel",
          "model_module_version": "1.5.0",
          "state": {
            "_model_module": "@jupyter-widgets/controls",
            "_model_module_version": "1.5.0",
            "_model_name": "DescriptionStyleModel",
            "_view_count": null,
            "_view_module": "@jupyter-widgets/base",
            "_view_module_version": "1.2.0",
            "_view_name": "StyleView",
            "description_width": ""
          }
        },
        "4a67d4420db64f418d5c18ed3bd1f987": {
          "model_module": "@jupyter-widgets/base",
          "model_name": "LayoutModel",
          "model_module_version": "1.2.0",
          "state": {
            "_model_module": "@jupyter-widgets/base",
            "_model_module_version": "1.2.0",
            "_model_name": "LayoutModel",
            "_view_count": null,
            "_view_module": "@jupyter-widgets/base",
            "_view_module_version": "1.2.0",
            "_view_name": "LayoutView",
            "align_content": null,
            "align_items": null,
            "align_self": null,
            "border": null,
            "bottom": null,
            "display": null,
            "flex": null,
            "flex_flow": null,
            "grid_area": null,
            "grid_auto_columns": null,
            "grid_auto_flow": null,
            "grid_auto_rows": null,
            "grid_column": null,
            "grid_gap": null,
            "grid_row": null,
            "grid_template_areas": null,
            "grid_template_columns": null,
            "grid_template_rows": null,
            "height": null,
            "justify_content": null,
            "justify_items": null,
            "left": null,
            "margin": null,
            "max_height": null,
            "max_width": null,
            "min_height": null,
            "min_width": null,
            "object_fit": null,
            "object_position": null,
            "order": null,
            "overflow": null,
            "overflow_x": null,
            "overflow_y": null,
            "padding": null,
            "right": null,
            "top": null,
            "visibility": null,
            "width": null
          }
        },
        "83c78bcf71bb47e4945b522874154e66": {
          "model_module": "@jupyter-widgets/controls",
          "model_name": "ProgressStyleModel",
          "model_module_version": "1.5.0",
          "state": {
            "_model_module": "@jupyter-widgets/controls",
            "_model_module_version": "1.5.0",
            "_model_name": "ProgressStyleModel",
            "_view_count": null,
            "_view_module": "@jupyter-widgets/base",
            "_view_module_version": "1.2.0",
            "_view_name": "StyleView",
            "bar_color": null,
            "description_width": ""
          }
        },
        "af6a41bab09f4e169ee864147faafa16": {
          "model_module": "@jupyter-widgets/controls",
          "model_name": "VBoxModel",
          "model_module_version": "1.5.0",
          "state": {
            "_dom_classes": [],
            "_model_module": "@jupyter-widgets/controls",
            "_model_module_version": "1.5.0",
            "_model_name": "VBoxModel",
            "_view_count": null,
            "_view_module": "@jupyter-widgets/controls",
            "_view_module_version": "1.5.0",
            "_view_name": "VBoxView",
            "box_style": "",
            "children": [
              "IPY_MODEL_87adffdcf87e42fab7a96b4634d8fa8b",
              "IPY_MODEL_3f0a42e5ee8f4e058b021aab511e9f20"
            ],
            "layout": "IPY_MODEL_76b3a0d3ab0d49588c06a3c54a1ff2d8"
          }
        },
        "87adffdcf87e42fab7a96b4634d8fa8b": {
          "model_module": "@jupyter-widgets/controls",
          "model_name": "LabelModel",
          "model_module_version": "1.5.0",
          "state": {
            "_dom_classes": [],
            "_model_module": "@jupyter-widgets/controls",
            "_model_module_version": "1.5.0",
            "_model_name": "LabelModel",
            "_view_count": null,
            "_view_module": "@jupyter-widgets/controls",
            "_view_module_version": "1.5.0",
            "_view_name": "LabelView",
            "description": "",
            "description_tooltip": null,
            "layout": "IPY_MODEL_48c03f64904649c0a64002dff987a1f9",
            "placeholder": "​",
            "style": "IPY_MODEL_c5d4f1f172484421bea064486aa5544f",
            "value": "0.014 MB of 0.014 MB uploaded\r"
          }
        },
        "3f0a42e5ee8f4e058b021aab511e9f20": {
          "model_module": "@jupyter-widgets/controls",
          "model_name": "FloatProgressModel",
          "model_module_version": "1.5.0",
          "state": {
            "_dom_classes": [],
            "_model_module": "@jupyter-widgets/controls",
            "_model_module_version": "1.5.0",
            "_model_name": "FloatProgressModel",
            "_view_count": null,
            "_view_module": "@jupyter-widgets/controls",
            "_view_module_version": "1.5.0",
            "_view_name": "ProgressView",
            "bar_style": "",
            "description": "",
            "description_tooltip": null,
            "layout": "IPY_MODEL_216673439f0949829eccb9c276d5e3bc",
            "max": 1,
            "min": 0,
            "orientation": "horizontal",
            "style": "IPY_MODEL_d18b002c6de44b76b281494239de4197",
            "value": 1
          }
        },
        "76b3a0d3ab0d49588c06a3c54a1ff2d8": {
          "model_module": "@jupyter-widgets/base",
          "model_name": "LayoutModel",
          "model_module_version": "1.2.0",
          "state": {
            "_model_module": "@jupyter-widgets/base",
            "_model_module_version": "1.2.0",
            "_model_name": "LayoutModel",
            "_view_count": null,
            "_view_module": "@jupyter-widgets/base",
            "_view_module_version": "1.2.0",
            "_view_name": "LayoutView",
            "align_content": null,
            "align_items": null,
            "align_self": null,
            "border": null,
            "bottom": null,
            "display": null,
            "flex": null,
            "flex_flow": null,
            "grid_area": null,
            "grid_auto_columns": null,
            "grid_auto_flow": null,
            "grid_auto_rows": null,
            "grid_column": null,
            "grid_gap": null,
            "grid_row": null,
            "grid_template_areas": null,
            "grid_template_columns": null,
            "grid_template_rows": null,
            "height": null,
            "justify_content": null,
            "justify_items": null,
            "left": null,
            "margin": null,
            "max_height": null,
            "max_width": null,
            "min_height": null,
            "min_width": null,
            "object_fit": null,
            "object_position": null,
            "order": null,
            "overflow": null,
            "overflow_x": null,
            "overflow_y": null,
            "padding": null,
            "right": null,
            "top": null,
            "visibility": null,
            "width": null
          }
        },
        "48c03f64904649c0a64002dff987a1f9": {
          "model_module": "@jupyter-widgets/base",
          "model_name": "LayoutModel",
          "model_module_version": "1.2.0",
          "state": {
            "_model_module": "@jupyter-widgets/base",
            "_model_module_version": "1.2.0",
            "_model_name": "LayoutModel",
            "_view_count": null,
            "_view_module": "@jupyter-widgets/base",
            "_view_module_version": "1.2.0",
            "_view_name": "LayoutView",
            "align_content": null,
            "align_items": null,
            "align_self": null,
            "border": null,
            "bottom": null,
            "display": null,
            "flex": null,
            "flex_flow": null,
            "grid_area": null,
            "grid_auto_columns": null,
            "grid_auto_flow": null,
            "grid_auto_rows": null,
            "grid_column": null,
            "grid_gap": null,
            "grid_row": null,
            "grid_template_areas": null,
            "grid_template_columns": null,
            "grid_template_rows": null,
            "height": null,
            "justify_content": null,
            "justify_items": null,
            "left": null,
            "margin": null,
            "max_height": null,
            "max_width": null,
            "min_height": null,
            "min_width": null,
            "object_fit": null,
            "object_position": null,
            "order": null,
            "overflow": null,
            "overflow_x": null,
            "overflow_y": null,
            "padding": null,
            "right": null,
            "top": null,
            "visibility": null,
            "width": null
          }
        },
        "c5d4f1f172484421bea064486aa5544f": {
          "model_module": "@jupyter-widgets/controls",
          "model_name": "DescriptionStyleModel",
          "model_module_version": "1.5.0",
          "state": {
            "_model_module": "@jupyter-widgets/controls",
            "_model_module_version": "1.5.0",
            "_model_name": "DescriptionStyleModel",
            "_view_count": null,
            "_view_module": "@jupyter-widgets/base",
            "_view_module_version": "1.2.0",
            "_view_name": "StyleView",
            "description_width": ""
          }
        },
        "216673439f0949829eccb9c276d5e3bc": {
          "model_module": "@jupyter-widgets/base",
          "model_name": "LayoutModel",
          "model_module_version": "1.2.0",
          "state": {
            "_model_module": "@jupyter-widgets/base",
            "_model_module_version": "1.2.0",
            "_model_name": "LayoutModel",
            "_view_count": null,
            "_view_module": "@jupyter-widgets/base",
            "_view_module_version": "1.2.0",
            "_view_name": "LayoutView",
            "align_content": null,
            "align_items": null,
            "align_self": null,
            "border": null,
            "bottom": null,
            "display": null,
            "flex": null,
            "flex_flow": null,
            "grid_area": null,
            "grid_auto_columns": null,
            "grid_auto_flow": null,
            "grid_auto_rows": null,
            "grid_column": null,
            "grid_gap": null,
            "grid_row": null,
            "grid_template_areas": null,
            "grid_template_columns": null,
            "grid_template_rows": null,
            "height": null,
            "justify_content": null,
            "justify_items": null,
            "left": null,
            "margin": null,
            "max_height": null,
            "max_width": null,
            "min_height": null,
            "min_width": null,
            "object_fit": null,
            "object_position": null,
            "order": null,
            "overflow": null,
            "overflow_x": null,
            "overflow_y": null,
            "padding": null,
            "right": null,
            "top": null,
            "visibility": null,
            "width": null
          }
        },
        "d18b002c6de44b76b281494239de4197": {
          "model_module": "@jupyter-widgets/controls",
          "model_name": "ProgressStyleModel",
          "model_module_version": "1.5.0",
          "state": {
            "_model_module": "@jupyter-widgets/controls",
            "_model_module_version": "1.5.0",
            "_model_name": "ProgressStyleModel",
            "_view_count": null,
            "_view_module": "@jupyter-widgets/base",
            "_view_module_version": "1.2.0",
            "_view_name": "StyleView",
            "bar_color": null,
            "description_width": ""
          }
        },
        "f54fb082a0f142db84ef915a2381a11f": {
          "model_module": "@jupyter-widgets/controls",
          "model_name": "VBoxModel",
          "model_module_version": "1.5.0",
          "state": {
            "_dom_classes": [],
            "_model_module": "@jupyter-widgets/controls",
            "_model_module_version": "1.5.0",
            "_model_name": "VBoxModel",
            "_view_count": null,
            "_view_module": "@jupyter-widgets/controls",
            "_view_module_version": "1.5.0",
            "_view_name": "VBoxView",
            "box_style": "",
            "children": [
              "IPY_MODEL_d94a598d63114bdfac3295d1298e2d2b",
              "IPY_MODEL_978e649dfeb0496f82947b6ffef43a0e"
            ],
            "layout": "IPY_MODEL_3b80190283384d29a07d4df0a914c4f8"
          }
        },
        "d94a598d63114bdfac3295d1298e2d2b": {
          "model_module": "@jupyter-widgets/controls",
          "model_name": "LabelModel",
          "model_module_version": "1.5.0",
          "state": {
            "_dom_classes": [],
            "_model_module": "@jupyter-widgets/controls",
            "_model_module_version": "1.5.0",
            "_model_name": "LabelModel",
            "_view_count": null,
            "_view_module": "@jupyter-widgets/controls",
            "_view_module_version": "1.5.0",
            "_view_name": "LabelView",
            "description": "",
            "description_tooltip": null,
            "layout": "IPY_MODEL_dd37ce796bea4ec18edbfa9c1dfb17db",
            "placeholder": "​",
            "style": "IPY_MODEL_d56ae2475d9741ddaa06346dd2d2bd87",
            "value": "0.018 MB of 0.018 MB uploaded\r"
          }
        },
        "978e649dfeb0496f82947b6ffef43a0e": {
          "model_module": "@jupyter-widgets/controls",
          "model_name": "FloatProgressModel",
          "model_module_version": "1.5.0",
          "state": {
            "_dom_classes": [],
            "_model_module": "@jupyter-widgets/controls",
            "_model_module_version": "1.5.0",
            "_model_name": "FloatProgressModel",
            "_view_count": null,
            "_view_module": "@jupyter-widgets/controls",
            "_view_module_version": "1.5.0",
            "_view_name": "ProgressView",
            "bar_style": "",
            "description": "",
            "description_tooltip": null,
            "layout": "IPY_MODEL_6fb68e5ae0ea4f4f98b724ba812e7932",
            "max": 1,
            "min": 0,
            "orientation": "horizontal",
            "style": "IPY_MODEL_13b2714a171b481a9b2f729ebc08d1c9",
            "value": 1
          }
        },
        "3b80190283384d29a07d4df0a914c4f8": {
          "model_module": "@jupyter-widgets/base",
          "model_name": "LayoutModel",
          "model_module_version": "1.2.0",
          "state": {
            "_model_module": "@jupyter-widgets/base",
            "_model_module_version": "1.2.0",
            "_model_name": "LayoutModel",
            "_view_count": null,
            "_view_module": "@jupyter-widgets/base",
            "_view_module_version": "1.2.0",
            "_view_name": "LayoutView",
            "align_content": null,
            "align_items": null,
            "align_self": null,
            "border": null,
            "bottom": null,
            "display": null,
            "flex": null,
            "flex_flow": null,
            "grid_area": null,
            "grid_auto_columns": null,
            "grid_auto_flow": null,
            "grid_auto_rows": null,
            "grid_column": null,
            "grid_gap": null,
            "grid_row": null,
            "grid_template_areas": null,
            "grid_template_columns": null,
            "grid_template_rows": null,
            "height": null,
            "justify_content": null,
            "justify_items": null,
            "left": null,
            "margin": null,
            "max_height": null,
            "max_width": null,
            "min_height": null,
            "min_width": null,
            "object_fit": null,
            "object_position": null,
            "order": null,
            "overflow": null,
            "overflow_x": null,
            "overflow_y": null,
            "padding": null,
            "right": null,
            "top": null,
            "visibility": null,
            "width": null
          }
        },
        "dd37ce796bea4ec18edbfa9c1dfb17db": {
          "model_module": "@jupyter-widgets/base",
          "model_name": "LayoutModel",
          "model_module_version": "1.2.0",
          "state": {
            "_model_module": "@jupyter-widgets/base",
            "_model_module_version": "1.2.0",
            "_model_name": "LayoutModel",
            "_view_count": null,
            "_view_module": "@jupyter-widgets/base",
            "_view_module_version": "1.2.0",
            "_view_name": "LayoutView",
            "align_content": null,
            "align_items": null,
            "align_self": null,
            "border": null,
            "bottom": null,
            "display": null,
            "flex": null,
            "flex_flow": null,
            "grid_area": null,
            "grid_auto_columns": null,
            "grid_auto_flow": null,
            "grid_auto_rows": null,
            "grid_column": null,
            "grid_gap": null,
            "grid_row": null,
            "grid_template_areas": null,
            "grid_template_columns": null,
            "grid_template_rows": null,
            "height": null,
            "justify_content": null,
            "justify_items": null,
            "left": null,
            "margin": null,
            "max_height": null,
            "max_width": null,
            "min_height": null,
            "min_width": null,
            "object_fit": null,
            "object_position": null,
            "order": null,
            "overflow": null,
            "overflow_x": null,
            "overflow_y": null,
            "padding": null,
            "right": null,
            "top": null,
            "visibility": null,
            "width": null
          }
        },
        "d56ae2475d9741ddaa06346dd2d2bd87": {
          "model_module": "@jupyter-widgets/controls",
          "model_name": "DescriptionStyleModel",
          "model_module_version": "1.5.0",
          "state": {
            "_model_module": "@jupyter-widgets/controls",
            "_model_module_version": "1.5.0",
            "_model_name": "DescriptionStyleModel",
            "_view_count": null,
            "_view_module": "@jupyter-widgets/base",
            "_view_module_version": "1.2.0",
            "_view_name": "StyleView",
            "description_width": ""
          }
        },
        "6fb68e5ae0ea4f4f98b724ba812e7932": {
          "model_module": "@jupyter-widgets/base",
          "model_name": "LayoutModel",
          "model_module_version": "1.2.0",
          "state": {
            "_model_module": "@jupyter-widgets/base",
            "_model_module_version": "1.2.0",
            "_model_name": "LayoutModel",
            "_view_count": null,
            "_view_module": "@jupyter-widgets/base",
            "_view_module_version": "1.2.0",
            "_view_name": "LayoutView",
            "align_content": null,
            "align_items": null,
            "align_self": null,
            "border": null,
            "bottom": null,
            "display": null,
            "flex": null,
            "flex_flow": null,
            "grid_area": null,
            "grid_auto_columns": null,
            "grid_auto_flow": null,
            "grid_auto_rows": null,
            "grid_column": null,
            "grid_gap": null,
            "grid_row": null,
            "grid_template_areas": null,
            "grid_template_columns": null,
            "grid_template_rows": null,
            "height": null,
            "justify_content": null,
            "justify_items": null,
            "left": null,
            "margin": null,
            "max_height": null,
            "max_width": null,
            "min_height": null,
            "min_width": null,
            "object_fit": null,
            "object_position": null,
            "order": null,
            "overflow": null,
            "overflow_x": null,
            "overflow_y": null,
            "padding": null,
            "right": null,
            "top": null,
            "visibility": null,
            "width": null
          }
        },
        "13b2714a171b481a9b2f729ebc08d1c9": {
          "model_module": "@jupyter-widgets/controls",
          "model_name": "ProgressStyleModel",
          "model_module_version": "1.5.0",
          "state": {
            "_model_module": "@jupyter-widgets/controls",
            "_model_module_version": "1.5.0",
            "_model_name": "ProgressStyleModel",
            "_view_count": null,
            "_view_module": "@jupyter-widgets/base",
            "_view_module_version": "1.2.0",
            "_view_name": "StyleView",
            "bar_color": null,
            "description_width": ""
          }
        },
        "c0ebd6d70d1f4a68af7bc784cf084ddf": {
          "model_module": "@jupyter-widgets/controls",
          "model_name": "VBoxModel",
          "model_module_version": "1.5.0",
          "state": {
            "_dom_classes": [],
            "_model_module": "@jupyter-widgets/controls",
            "_model_module_version": "1.5.0",
            "_model_name": "VBoxModel",
            "_view_count": null,
            "_view_module": "@jupyter-widgets/controls",
            "_view_module_version": "1.5.0",
            "_view_name": "VBoxView",
            "box_style": "",
            "children": [
              "IPY_MODEL_cc920e38a0da491bb4d28d6df3784427",
              "IPY_MODEL_bc93f839c11d4b268e958f2fd090bb94"
            ],
            "layout": "IPY_MODEL_1f8e5d64eac34d1ea596bfc74fe8e8b1"
          }
        },
        "cc920e38a0da491bb4d28d6df3784427": {
          "model_module": "@jupyter-widgets/controls",
          "model_name": "LabelModel",
          "model_module_version": "1.5.0",
          "state": {
            "_dom_classes": [],
            "_model_module": "@jupyter-widgets/controls",
            "_model_module_version": "1.5.0",
            "_model_name": "LabelModel",
            "_view_count": null,
            "_view_module": "@jupyter-widgets/controls",
            "_view_module_version": "1.5.0",
            "_view_name": "LabelView",
            "description": "",
            "description_tooltip": null,
            "layout": "IPY_MODEL_4e2cbba5242d43a8a463b0d9f12db1f4",
            "placeholder": "​",
            "style": "IPY_MODEL_02a9ddaddd8641d1ae80287a50abe270",
            "value": "0.018 MB of 0.018 MB uploaded\r"
          }
        },
        "bc93f839c11d4b268e958f2fd090bb94": {
          "model_module": "@jupyter-widgets/controls",
          "model_name": "FloatProgressModel",
          "model_module_version": "1.5.0",
          "state": {
            "_dom_classes": [],
            "_model_module": "@jupyter-widgets/controls",
            "_model_module_version": "1.5.0",
            "_model_name": "FloatProgressModel",
            "_view_count": null,
            "_view_module": "@jupyter-widgets/controls",
            "_view_module_version": "1.5.0",
            "_view_name": "ProgressView",
            "bar_style": "",
            "description": "",
            "description_tooltip": null,
            "layout": "IPY_MODEL_79afaf99c8874df5a968d2453aa95944",
            "max": 1,
            "min": 0,
            "orientation": "horizontal",
            "style": "IPY_MODEL_80de7d9688124c95b4977fd18434c0a2",
            "value": 1
          }
        },
        "1f8e5d64eac34d1ea596bfc74fe8e8b1": {
          "model_module": "@jupyter-widgets/base",
          "model_name": "LayoutModel",
          "model_module_version": "1.2.0",
          "state": {
            "_model_module": "@jupyter-widgets/base",
            "_model_module_version": "1.2.0",
            "_model_name": "LayoutModel",
            "_view_count": null,
            "_view_module": "@jupyter-widgets/base",
            "_view_module_version": "1.2.0",
            "_view_name": "LayoutView",
            "align_content": null,
            "align_items": null,
            "align_self": null,
            "border": null,
            "bottom": null,
            "display": null,
            "flex": null,
            "flex_flow": null,
            "grid_area": null,
            "grid_auto_columns": null,
            "grid_auto_flow": null,
            "grid_auto_rows": null,
            "grid_column": null,
            "grid_gap": null,
            "grid_row": null,
            "grid_template_areas": null,
            "grid_template_columns": null,
            "grid_template_rows": null,
            "height": null,
            "justify_content": null,
            "justify_items": null,
            "left": null,
            "margin": null,
            "max_height": null,
            "max_width": null,
            "min_height": null,
            "min_width": null,
            "object_fit": null,
            "object_position": null,
            "order": null,
            "overflow": null,
            "overflow_x": null,
            "overflow_y": null,
            "padding": null,
            "right": null,
            "top": null,
            "visibility": null,
            "width": null
          }
        },
        "4e2cbba5242d43a8a463b0d9f12db1f4": {
          "model_module": "@jupyter-widgets/base",
          "model_name": "LayoutModel",
          "model_module_version": "1.2.0",
          "state": {
            "_model_module": "@jupyter-widgets/base",
            "_model_module_version": "1.2.0",
            "_model_name": "LayoutModel",
            "_view_count": null,
            "_view_module": "@jupyter-widgets/base",
            "_view_module_version": "1.2.0",
            "_view_name": "LayoutView",
            "align_content": null,
            "align_items": null,
            "align_self": null,
            "border": null,
            "bottom": null,
            "display": null,
            "flex": null,
            "flex_flow": null,
            "grid_area": null,
            "grid_auto_columns": null,
            "grid_auto_flow": null,
            "grid_auto_rows": null,
            "grid_column": null,
            "grid_gap": null,
            "grid_row": null,
            "grid_template_areas": null,
            "grid_template_columns": null,
            "grid_template_rows": null,
            "height": null,
            "justify_content": null,
            "justify_items": null,
            "left": null,
            "margin": null,
            "max_height": null,
            "max_width": null,
            "min_height": null,
            "min_width": null,
            "object_fit": null,
            "object_position": null,
            "order": null,
            "overflow": null,
            "overflow_x": null,
            "overflow_y": null,
            "padding": null,
            "right": null,
            "top": null,
            "visibility": null,
            "width": null
          }
        },
        "02a9ddaddd8641d1ae80287a50abe270": {
          "model_module": "@jupyter-widgets/controls",
          "model_name": "DescriptionStyleModel",
          "model_module_version": "1.5.0",
          "state": {
            "_model_module": "@jupyter-widgets/controls",
            "_model_module_version": "1.5.0",
            "_model_name": "DescriptionStyleModel",
            "_view_count": null,
            "_view_module": "@jupyter-widgets/base",
            "_view_module_version": "1.2.0",
            "_view_name": "StyleView",
            "description_width": ""
          }
        },
        "79afaf99c8874df5a968d2453aa95944": {
          "model_module": "@jupyter-widgets/base",
          "model_name": "LayoutModel",
          "model_module_version": "1.2.0",
          "state": {
            "_model_module": "@jupyter-widgets/base",
            "_model_module_version": "1.2.0",
            "_model_name": "LayoutModel",
            "_view_count": null,
            "_view_module": "@jupyter-widgets/base",
            "_view_module_version": "1.2.0",
            "_view_name": "LayoutView",
            "align_content": null,
            "align_items": null,
            "align_self": null,
            "border": null,
            "bottom": null,
            "display": null,
            "flex": null,
            "flex_flow": null,
            "grid_area": null,
            "grid_auto_columns": null,
            "grid_auto_flow": null,
            "grid_auto_rows": null,
            "grid_column": null,
            "grid_gap": null,
            "grid_row": null,
            "grid_template_areas": null,
            "grid_template_columns": null,
            "grid_template_rows": null,
            "height": null,
            "justify_content": null,
            "justify_items": null,
            "left": null,
            "margin": null,
            "max_height": null,
            "max_width": null,
            "min_height": null,
            "min_width": null,
            "object_fit": null,
            "object_position": null,
            "order": null,
            "overflow": null,
            "overflow_x": null,
            "overflow_y": null,
            "padding": null,
            "right": null,
            "top": null,
            "visibility": null,
            "width": null
          }
        },
        "80de7d9688124c95b4977fd18434c0a2": {
          "model_module": "@jupyter-widgets/controls",
          "model_name": "ProgressStyleModel",
          "model_module_version": "1.5.0",
          "state": {
            "_model_module": "@jupyter-widgets/controls",
            "_model_module_version": "1.5.0",
            "_model_name": "ProgressStyleModel",
            "_view_count": null,
            "_view_module": "@jupyter-widgets/base",
            "_view_module_version": "1.2.0",
            "_view_name": "StyleView",
            "bar_color": null,
            "description_width": ""
          }
        },
        "0af79d18a06e49eba5d0141ff885023a": {
          "model_module": "@jupyter-widgets/controls",
          "model_name": "VBoxModel",
          "model_module_version": "1.5.0",
          "state": {
            "_dom_classes": [],
            "_model_module": "@jupyter-widgets/controls",
            "_model_module_version": "1.5.0",
            "_model_name": "VBoxModel",
            "_view_count": null,
            "_view_module": "@jupyter-widgets/controls",
            "_view_module_version": "1.5.0",
            "_view_name": "VBoxView",
            "box_style": "",
            "children": [
              "IPY_MODEL_f7bea210df0f4771afc44a4fa60f627c",
              "IPY_MODEL_7036743326764aae9730e0f7e47a0c29"
            ],
            "layout": "IPY_MODEL_5fea8f02d32e4559b9315960a6cef678"
          }
        },
        "f7bea210df0f4771afc44a4fa60f627c": {
          "model_module": "@jupyter-widgets/controls",
          "model_name": "LabelModel",
          "model_module_version": "1.5.0",
          "state": {
            "_dom_classes": [],
            "_model_module": "@jupyter-widgets/controls",
            "_model_module_version": "1.5.0",
            "_model_name": "LabelModel",
            "_view_count": null,
            "_view_module": "@jupyter-widgets/controls",
            "_view_module_version": "1.5.0",
            "_view_name": "LabelView",
            "description": "",
            "description_tooltip": null,
            "layout": "IPY_MODEL_e6b0472566754e45b2425968bf391a1c",
            "placeholder": "​",
            "style": "IPY_MODEL_b39f672f044b42a391754445956524d4",
            "value": "0.012 MB of 0.012 MB uploaded\r"
          }
        },
        "7036743326764aae9730e0f7e47a0c29": {
          "model_module": "@jupyter-widgets/controls",
          "model_name": "FloatProgressModel",
          "model_module_version": "1.5.0",
          "state": {
            "_dom_classes": [],
            "_model_module": "@jupyter-widgets/controls",
            "_model_module_version": "1.5.0",
            "_model_name": "FloatProgressModel",
            "_view_count": null,
            "_view_module": "@jupyter-widgets/controls",
            "_view_module_version": "1.5.0",
            "_view_name": "ProgressView",
            "bar_style": "",
            "description": "",
            "description_tooltip": null,
            "layout": "IPY_MODEL_c7a551f1ab9a4a468286f00fb782a7f6",
            "max": 1,
            "min": 0,
            "orientation": "horizontal",
            "style": "IPY_MODEL_123c9c8963a04686a99c91d6bf224ffb",
            "value": 1
          }
        },
        "5fea8f02d32e4559b9315960a6cef678": {
          "model_module": "@jupyter-widgets/base",
          "model_name": "LayoutModel",
          "model_module_version": "1.2.0",
          "state": {
            "_model_module": "@jupyter-widgets/base",
            "_model_module_version": "1.2.0",
            "_model_name": "LayoutModel",
            "_view_count": null,
            "_view_module": "@jupyter-widgets/base",
            "_view_module_version": "1.2.0",
            "_view_name": "LayoutView",
            "align_content": null,
            "align_items": null,
            "align_self": null,
            "border": null,
            "bottom": null,
            "display": null,
            "flex": null,
            "flex_flow": null,
            "grid_area": null,
            "grid_auto_columns": null,
            "grid_auto_flow": null,
            "grid_auto_rows": null,
            "grid_column": null,
            "grid_gap": null,
            "grid_row": null,
            "grid_template_areas": null,
            "grid_template_columns": null,
            "grid_template_rows": null,
            "height": null,
            "justify_content": null,
            "justify_items": null,
            "left": null,
            "margin": null,
            "max_height": null,
            "max_width": null,
            "min_height": null,
            "min_width": null,
            "object_fit": null,
            "object_position": null,
            "order": null,
            "overflow": null,
            "overflow_x": null,
            "overflow_y": null,
            "padding": null,
            "right": null,
            "top": null,
            "visibility": null,
            "width": null
          }
        },
        "e6b0472566754e45b2425968bf391a1c": {
          "model_module": "@jupyter-widgets/base",
          "model_name": "LayoutModel",
          "model_module_version": "1.2.0",
          "state": {
            "_model_module": "@jupyter-widgets/base",
            "_model_module_version": "1.2.0",
            "_model_name": "LayoutModel",
            "_view_count": null,
            "_view_module": "@jupyter-widgets/base",
            "_view_module_version": "1.2.0",
            "_view_name": "LayoutView",
            "align_content": null,
            "align_items": null,
            "align_self": null,
            "border": null,
            "bottom": null,
            "display": null,
            "flex": null,
            "flex_flow": null,
            "grid_area": null,
            "grid_auto_columns": null,
            "grid_auto_flow": null,
            "grid_auto_rows": null,
            "grid_column": null,
            "grid_gap": null,
            "grid_row": null,
            "grid_template_areas": null,
            "grid_template_columns": null,
            "grid_template_rows": null,
            "height": null,
            "justify_content": null,
            "justify_items": null,
            "left": null,
            "margin": null,
            "max_height": null,
            "max_width": null,
            "min_height": null,
            "min_width": null,
            "object_fit": null,
            "object_position": null,
            "order": null,
            "overflow": null,
            "overflow_x": null,
            "overflow_y": null,
            "padding": null,
            "right": null,
            "top": null,
            "visibility": null,
            "width": null
          }
        },
        "b39f672f044b42a391754445956524d4": {
          "model_module": "@jupyter-widgets/controls",
          "model_name": "DescriptionStyleModel",
          "model_module_version": "1.5.0",
          "state": {
            "_model_module": "@jupyter-widgets/controls",
            "_model_module_version": "1.5.0",
            "_model_name": "DescriptionStyleModel",
            "_view_count": null,
            "_view_module": "@jupyter-widgets/base",
            "_view_module_version": "1.2.0",
            "_view_name": "StyleView",
            "description_width": ""
          }
        },
        "c7a551f1ab9a4a468286f00fb782a7f6": {
          "model_module": "@jupyter-widgets/base",
          "model_name": "LayoutModel",
          "model_module_version": "1.2.0",
          "state": {
            "_model_module": "@jupyter-widgets/base",
            "_model_module_version": "1.2.0",
            "_model_name": "LayoutModel",
            "_view_count": null,
            "_view_module": "@jupyter-widgets/base",
            "_view_module_version": "1.2.0",
            "_view_name": "LayoutView",
            "align_content": null,
            "align_items": null,
            "align_self": null,
            "border": null,
            "bottom": null,
            "display": null,
            "flex": null,
            "flex_flow": null,
            "grid_area": null,
            "grid_auto_columns": null,
            "grid_auto_flow": null,
            "grid_auto_rows": null,
            "grid_column": null,
            "grid_gap": null,
            "grid_row": null,
            "grid_template_areas": null,
            "grid_template_columns": null,
            "grid_template_rows": null,
            "height": null,
            "justify_content": null,
            "justify_items": null,
            "left": null,
            "margin": null,
            "max_height": null,
            "max_width": null,
            "min_height": null,
            "min_width": null,
            "object_fit": null,
            "object_position": null,
            "order": null,
            "overflow": null,
            "overflow_x": null,
            "overflow_y": null,
            "padding": null,
            "right": null,
            "top": null,
            "visibility": null,
            "width": null
          }
        },
        "123c9c8963a04686a99c91d6bf224ffb": {
          "model_module": "@jupyter-widgets/controls",
          "model_name": "ProgressStyleModel",
          "model_module_version": "1.5.0",
          "state": {
            "_model_module": "@jupyter-widgets/controls",
            "_model_module_version": "1.5.0",
            "_model_name": "ProgressStyleModel",
            "_view_count": null,
            "_view_module": "@jupyter-widgets/base",
            "_view_module_version": "1.2.0",
            "_view_name": "StyleView",
            "bar_color": null,
            "description_width": ""
          }
        },
        "149f0bb59ee44ccb93242205a9c43049": {
          "model_module": "@jupyter-widgets/controls",
          "model_name": "VBoxModel",
          "model_module_version": "1.5.0",
          "state": {
            "_dom_classes": [],
            "_model_module": "@jupyter-widgets/controls",
            "_model_module_version": "1.5.0",
            "_model_name": "VBoxModel",
            "_view_count": null,
            "_view_module": "@jupyter-widgets/controls",
            "_view_module_version": "1.5.0",
            "_view_name": "VBoxView",
            "box_style": "",
            "children": [
              "IPY_MODEL_ef4380307971495d9b8826ba927df480",
              "IPY_MODEL_7f0d94c5630d4863985dc1b59c5d7ec9"
            ],
            "layout": "IPY_MODEL_889d9382579d4361b8fdb151c8270ef2"
          }
        },
        "ef4380307971495d9b8826ba927df480": {
          "model_module": "@jupyter-widgets/controls",
          "model_name": "LabelModel",
          "model_module_version": "1.5.0",
          "state": {
            "_dom_classes": [],
            "_model_module": "@jupyter-widgets/controls",
            "_model_module_version": "1.5.0",
            "_model_name": "LabelModel",
            "_view_count": null,
            "_view_module": "@jupyter-widgets/controls",
            "_view_module_version": "1.5.0",
            "_view_name": "LabelView",
            "description": "",
            "description_tooltip": null,
            "layout": "IPY_MODEL_2b511ddf19b34991a76ef12c4519c035",
            "placeholder": "​",
            "style": "IPY_MODEL_bdf95bc5724a44d4b3df61563aa6de6c",
            "value": "0.018 MB of 0.018 MB uploaded\r"
          }
        },
        "7f0d94c5630d4863985dc1b59c5d7ec9": {
          "model_module": "@jupyter-widgets/controls",
          "model_name": "FloatProgressModel",
          "model_module_version": "1.5.0",
          "state": {
            "_dom_classes": [],
            "_model_module": "@jupyter-widgets/controls",
            "_model_module_version": "1.5.0",
            "_model_name": "FloatProgressModel",
            "_view_count": null,
            "_view_module": "@jupyter-widgets/controls",
            "_view_module_version": "1.5.0",
            "_view_name": "ProgressView",
            "bar_style": "",
            "description": "",
            "description_tooltip": null,
            "layout": "IPY_MODEL_2c5c38278af3408eae1271f5d9852055",
            "max": 1,
            "min": 0,
            "orientation": "horizontal",
            "style": "IPY_MODEL_04f31d3827334668bf19218af97a9f9b",
            "value": 1
          }
        },
        "889d9382579d4361b8fdb151c8270ef2": {
          "model_module": "@jupyter-widgets/base",
          "model_name": "LayoutModel",
          "model_module_version": "1.2.0",
          "state": {
            "_model_module": "@jupyter-widgets/base",
            "_model_module_version": "1.2.0",
            "_model_name": "LayoutModel",
            "_view_count": null,
            "_view_module": "@jupyter-widgets/base",
            "_view_module_version": "1.2.0",
            "_view_name": "LayoutView",
            "align_content": null,
            "align_items": null,
            "align_self": null,
            "border": null,
            "bottom": null,
            "display": null,
            "flex": null,
            "flex_flow": null,
            "grid_area": null,
            "grid_auto_columns": null,
            "grid_auto_flow": null,
            "grid_auto_rows": null,
            "grid_column": null,
            "grid_gap": null,
            "grid_row": null,
            "grid_template_areas": null,
            "grid_template_columns": null,
            "grid_template_rows": null,
            "height": null,
            "justify_content": null,
            "justify_items": null,
            "left": null,
            "margin": null,
            "max_height": null,
            "max_width": null,
            "min_height": null,
            "min_width": null,
            "object_fit": null,
            "object_position": null,
            "order": null,
            "overflow": null,
            "overflow_x": null,
            "overflow_y": null,
            "padding": null,
            "right": null,
            "top": null,
            "visibility": null,
            "width": null
          }
        },
        "2b511ddf19b34991a76ef12c4519c035": {
          "model_module": "@jupyter-widgets/base",
          "model_name": "LayoutModel",
          "model_module_version": "1.2.0",
          "state": {
            "_model_module": "@jupyter-widgets/base",
            "_model_module_version": "1.2.0",
            "_model_name": "LayoutModel",
            "_view_count": null,
            "_view_module": "@jupyter-widgets/base",
            "_view_module_version": "1.2.0",
            "_view_name": "LayoutView",
            "align_content": null,
            "align_items": null,
            "align_self": null,
            "border": null,
            "bottom": null,
            "display": null,
            "flex": null,
            "flex_flow": null,
            "grid_area": null,
            "grid_auto_columns": null,
            "grid_auto_flow": null,
            "grid_auto_rows": null,
            "grid_column": null,
            "grid_gap": null,
            "grid_row": null,
            "grid_template_areas": null,
            "grid_template_columns": null,
            "grid_template_rows": null,
            "height": null,
            "justify_content": null,
            "justify_items": null,
            "left": null,
            "margin": null,
            "max_height": null,
            "max_width": null,
            "min_height": null,
            "min_width": null,
            "object_fit": null,
            "object_position": null,
            "order": null,
            "overflow": null,
            "overflow_x": null,
            "overflow_y": null,
            "padding": null,
            "right": null,
            "top": null,
            "visibility": null,
            "width": null
          }
        },
        "bdf95bc5724a44d4b3df61563aa6de6c": {
          "model_module": "@jupyter-widgets/controls",
          "model_name": "DescriptionStyleModel",
          "model_module_version": "1.5.0",
          "state": {
            "_model_module": "@jupyter-widgets/controls",
            "_model_module_version": "1.5.0",
            "_model_name": "DescriptionStyleModel",
            "_view_count": null,
            "_view_module": "@jupyter-widgets/base",
            "_view_module_version": "1.2.0",
            "_view_name": "StyleView",
            "description_width": ""
          }
        },
        "2c5c38278af3408eae1271f5d9852055": {
          "model_module": "@jupyter-widgets/base",
          "model_name": "LayoutModel",
          "model_module_version": "1.2.0",
          "state": {
            "_model_module": "@jupyter-widgets/base",
            "_model_module_version": "1.2.0",
            "_model_name": "LayoutModel",
            "_view_count": null,
            "_view_module": "@jupyter-widgets/base",
            "_view_module_version": "1.2.0",
            "_view_name": "LayoutView",
            "align_content": null,
            "align_items": null,
            "align_self": null,
            "border": null,
            "bottom": null,
            "display": null,
            "flex": null,
            "flex_flow": null,
            "grid_area": null,
            "grid_auto_columns": null,
            "grid_auto_flow": null,
            "grid_auto_rows": null,
            "grid_column": null,
            "grid_gap": null,
            "grid_row": null,
            "grid_template_areas": null,
            "grid_template_columns": null,
            "grid_template_rows": null,
            "height": null,
            "justify_content": null,
            "justify_items": null,
            "left": null,
            "margin": null,
            "max_height": null,
            "max_width": null,
            "min_height": null,
            "min_width": null,
            "object_fit": null,
            "object_position": null,
            "order": null,
            "overflow": null,
            "overflow_x": null,
            "overflow_y": null,
            "padding": null,
            "right": null,
            "top": null,
            "visibility": null,
            "width": null
          }
        },
        "04f31d3827334668bf19218af97a9f9b": {
          "model_module": "@jupyter-widgets/controls",
          "model_name": "ProgressStyleModel",
          "model_module_version": "1.5.0",
          "state": {
            "_model_module": "@jupyter-widgets/controls",
            "_model_module_version": "1.5.0",
            "_model_name": "ProgressStyleModel",
            "_view_count": null,
            "_view_module": "@jupyter-widgets/base",
            "_view_module_version": "1.2.0",
            "_view_name": "StyleView",
            "bar_color": null,
            "description_width": ""
          }
        },
        "97f27eb3dc594fa1bea860b41898c986": {
          "model_module": "@jupyter-widgets/controls",
          "model_name": "VBoxModel",
          "model_module_version": "1.5.0",
          "state": {
            "_dom_classes": [],
            "_model_module": "@jupyter-widgets/controls",
            "_model_module_version": "1.5.0",
            "_model_name": "VBoxModel",
            "_view_count": null,
            "_view_module": "@jupyter-widgets/controls",
            "_view_module_version": "1.5.0",
            "_view_name": "VBoxView",
            "box_style": "",
            "children": [
              "IPY_MODEL_6d45f4f1b285488e989096b67a406fe0",
              "IPY_MODEL_79eda8e5fd4f4cbcb635514029ef8171"
            ],
            "layout": "IPY_MODEL_cda6da7dc68843a5839715686126b3be"
          }
        },
        "6d45f4f1b285488e989096b67a406fe0": {
          "model_module": "@jupyter-widgets/controls",
          "model_name": "LabelModel",
          "model_module_version": "1.5.0",
          "state": {
            "_dom_classes": [],
            "_model_module": "@jupyter-widgets/controls",
            "_model_module_version": "1.5.0",
            "_model_name": "LabelModel",
            "_view_count": null,
            "_view_module": "@jupyter-widgets/controls",
            "_view_module_version": "1.5.0",
            "_view_name": "LabelView",
            "description": "",
            "description_tooltip": null,
            "layout": "IPY_MODEL_76315f4d9110493e8a6d5c6175d73aa9",
            "placeholder": "​",
            "style": "IPY_MODEL_84be58b584a245d8872efa3e698be74b",
            "value": "0.012 MB of 0.012 MB uploaded\r"
          }
        },
        "79eda8e5fd4f4cbcb635514029ef8171": {
          "model_module": "@jupyter-widgets/controls",
          "model_name": "FloatProgressModel",
          "model_module_version": "1.5.0",
          "state": {
            "_dom_classes": [],
            "_model_module": "@jupyter-widgets/controls",
            "_model_module_version": "1.5.0",
            "_model_name": "FloatProgressModel",
            "_view_count": null,
            "_view_module": "@jupyter-widgets/controls",
            "_view_module_version": "1.5.0",
            "_view_name": "ProgressView",
            "bar_style": "",
            "description": "",
            "description_tooltip": null,
            "layout": "IPY_MODEL_63a486b824d644dbad8011763a17580e",
            "max": 1,
            "min": 0,
            "orientation": "horizontal",
            "style": "IPY_MODEL_a97033dbf8a94e60ac1703a2908ee950",
            "value": 1
          }
        },
        "cda6da7dc68843a5839715686126b3be": {
          "model_module": "@jupyter-widgets/base",
          "model_name": "LayoutModel",
          "model_module_version": "1.2.0",
          "state": {
            "_model_module": "@jupyter-widgets/base",
            "_model_module_version": "1.2.0",
            "_model_name": "LayoutModel",
            "_view_count": null,
            "_view_module": "@jupyter-widgets/base",
            "_view_module_version": "1.2.0",
            "_view_name": "LayoutView",
            "align_content": null,
            "align_items": null,
            "align_self": null,
            "border": null,
            "bottom": null,
            "display": null,
            "flex": null,
            "flex_flow": null,
            "grid_area": null,
            "grid_auto_columns": null,
            "grid_auto_flow": null,
            "grid_auto_rows": null,
            "grid_column": null,
            "grid_gap": null,
            "grid_row": null,
            "grid_template_areas": null,
            "grid_template_columns": null,
            "grid_template_rows": null,
            "height": null,
            "justify_content": null,
            "justify_items": null,
            "left": null,
            "margin": null,
            "max_height": null,
            "max_width": null,
            "min_height": null,
            "min_width": null,
            "object_fit": null,
            "object_position": null,
            "order": null,
            "overflow": null,
            "overflow_x": null,
            "overflow_y": null,
            "padding": null,
            "right": null,
            "top": null,
            "visibility": null,
            "width": null
          }
        },
        "76315f4d9110493e8a6d5c6175d73aa9": {
          "model_module": "@jupyter-widgets/base",
          "model_name": "LayoutModel",
          "model_module_version": "1.2.0",
          "state": {
            "_model_module": "@jupyter-widgets/base",
            "_model_module_version": "1.2.0",
            "_model_name": "LayoutModel",
            "_view_count": null,
            "_view_module": "@jupyter-widgets/base",
            "_view_module_version": "1.2.0",
            "_view_name": "LayoutView",
            "align_content": null,
            "align_items": null,
            "align_self": null,
            "border": null,
            "bottom": null,
            "display": null,
            "flex": null,
            "flex_flow": null,
            "grid_area": null,
            "grid_auto_columns": null,
            "grid_auto_flow": null,
            "grid_auto_rows": null,
            "grid_column": null,
            "grid_gap": null,
            "grid_row": null,
            "grid_template_areas": null,
            "grid_template_columns": null,
            "grid_template_rows": null,
            "height": null,
            "justify_content": null,
            "justify_items": null,
            "left": null,
            "margin": null,
            "max_height": null,
            "max_width": null,
            "min_height": null,
            "min_width": null,
            "object_fit": null,
            "object_position": null,
            "order": null,
            "overflow": null,
            "overflow_x": null,
            "overflow_y": null,
            "padding": null,
            "right": null,
            "top": null,
            "visibility": null,
            "width": null
          }
        },
        "84be58b584a245d8872efa3e698be74b": {
          "model_module": "@jupyter-widgets/controls",
          "model_name": "DescriptionStyleModel",
          "model_module_version": "1.5.0",
          "state": {
            "_model_module": "@jupyter-widgets/controls",
            "_model_module_version": "1.5.0",
            "_model_name": "DescriptionStyleModel",
            "_view_count": null,
            "_view_module": "@jupyter-widgets/base",
            "_view_module_version": "1.2.0",
            "_view_name": "StyleView",
            "description_width": ""
          }
        },
        "63a486b824d644dbad8011763a17580e": {
          "model_module": "@jupyter-widgets/base",
          "model_name": "LayoutModel",
          "model_module_version": "1.2.0",
          "state": {
            "_model_module": "@jupyter-widgets/base",
            "_model_module_version": "1.2.0",
            "_model_name": "LayoutModel",
            "_view_count": null,
            "_view_module": "@jupyter-widgets/base",
            "_view_module_version": "1.2.0",
            "_view_name": "LayoutView",
            "align_content": null,
            "align_items": null,
            "align_self": null,
            "border": null,
            "bottom": null,
            "display": null,
            "flex": null,
            "flex_flow": null,
            "grid_area": null,
            "grid_auto_columns": null,
            "grid_auto_flow": null,
            "grid_auto_rows": null,
            "grid_column": null,
            "grid_gap": null,
            "grid_row": null,
            "grid_template_areas": null,
            "grid_template_columns": null,
            "grid_template_rows": null,
            "height": null,
            "justify_content": null,
            "justify_items": null,
            "left": null,
            "margin": null,
            "max_height": null,
            "max_width": null,
            "min_height": null,
            "min_width": null,
            "object_fit": null,
            "object_position": null,
            "order": null,
            "overflow": null,
            "overflow_x": null,
            "overflow_y": null,
            "padding": null,
            "right": null,
            "top": null,
            "visibility": null,
            "width": null
          }
        },
        "a97033dbf8a94e60ac1703a2908ee950": {
          "model_module": "@jupyter-widgets/controls",
          "model_name": "ProgressStyleModel",
          "model_module_version": "1.5.0",
          "state": {
            "_model_module": "@jupyter-widgets/controls",
            "_model_module_version": "1.5.0",
            "_model_name": "ProgressStyleModel",
            "_view_count": null,
            "_view_module": "@jupyter-widgets/base",
            "_view_module_version": "1.2.0",
            "_view_name": "StyleView",
            "bar_color": null,
            "description_width": ""
          }
        },
        "36a95a522b794b9c8baaf30aeb8c52fb": {
          "model_module": "@jupyter-widgets/controls",
          "model_name": "VBoxModel",
          "model_module_version": "1.5.0",
          "state": {
            "_dom_classes": [],
            "_model_module": "@jupyter-widgets/controls",
            "_model_module_version": "1.5.0",
            "_model_name": "VBoxModel",
            "_view_count": null,
            "_view_module": "@jupyter-widgets/controls",
            "_view_module_version": "1.5.0",
            "_view_name": "VBoxView",
            "box_style": "",
            "children": [
              "IPY_MODEL_3c36279f2f79421ba59ca574e820662d",
              "IPY_MODEL_4662f344b91c40c6bd102e45cdf4ea88"
            ],
            "layout": "IPY_MODEL_8e892785fa5540f988a5c7717c8ee797"
          }
        },
        "3c36279f2f79421ba59ca574e820662d": {
          "model_module": "@jupyter-widgets/controls",
          "model_name": "LabelModel",
          "model_module_version": "1.5.0",
          "state": {
            "_dom_classes": [],
            "_model_module": "@jupyter-widgets/controls",
            "_model_module_version": "1.5.0",
            "_model_name": "LabelModel",
            "_view_count": null,
            "_view_module": "@jupyter-widgets/controls",
            "_view_module_version": "1.5.0",
            "_view_name": "LabelView",
            "description": "",
            "description_tooltip": null,
            "layout": "IPY_MODEL_542b1532908b4810819cbb4bdd1bf378",
            "placeholder": "​",
            "style": "IPY_MODEL_1588a51eac074e34b88aeafc4c24062d",
            "value": "0.016 MB of 0.016 MB uploaded\r"
          }
        },
        "4662f344b91c40c6bd102e45cdf4ea88": {
          "model_module": "@jupyter-widgets/controls",
          "model_name": "FloatProgressModel",
          "model_module_version": "1.5.0",
          "state": {
            "_dom_classes": [],
            "_model_module": "@jupyter-widgets/controls",
            "_model_module_version": "1.5.0",
            "_model_name": "FloatProgressModel",
            "_view_count": null,
            "_view_module": "@jupyter-widgets/controls",
            "_view_module_version": "1.5.0",
            "_view_name": "ProgressView",
            "bar_style": "",
            "description": "",
            "description_tooltip": null,
            "layout": "IPY_MODEL_bd84f7bb4b4e4339a70b40f7115a9fd0",
            "max": 1,
            "min": 0,
            "orientation": "horizontal",
            "style": "IPY_MODEL_944211cebeda4827a404b1a96620ebb0",
            "value": 1
          }
        },
        "8e892785fa5540f988a5c7717c8ee797": {
          "model_module": "@jupyter-widgets/base",
          "model_name": "LayoutModel",
          "model_module_version": "1.2.0",
          "state": {
            "_model_module": "@jupyter-widgets/base",
            "_model_module_version": "1.2.0",
            "_model_name": "LayoutModel",
            "_view_count": null,
            "_view_module": "@jupyter-widgets/base",
            "_view_module_version": "1.2.0",
            "_view_name": "LayoutView",
            "align_content": null,
            "align_items": null,
            "align_self": null,
            "border": null,
            "bottom": null,
            "display": null,
            "flex": null,
            "flex_flow": null,
            "grid_area": null,
            "grid_auto_columns": null,
            "grid_auto_flow": null,
            "grid_auto_rows": null,
            "grid_column": null,
            "grid_gap": null,
            "grid_row": null,
            "grid_template_areas": null,
            "grid_template_columns": null,
            "grid_template_rows": null,
            "height": null,
            "justify_content": null,
            "justify_items": null,
            "left": null,
            "margin": null,
            "max_height": null,
            "max_width": null,
            "min_height": null,
            "min_width": null,
            "object_fit": null,
            "object_position": null,
            "order": null,
            "overflow": null,
            "overflow_x": null,
            "overflow_y": null,
            "padding": null,
            "right": null,
            "top": null,
            "visibility": null,
            "width": null
          }
        },
        "542b1532908b4810819cbb4bdd1bf378": {
          "model_module": "@jupyter-widgets/base",
          "model_name": "LayoutModel",
          "model_module_version": "1.2.0",
          "state": {
            "_model_module": "@jupyter-widgets/base",
            "_model_module_version": "1.2.0",
            "_model_name": "LayoutModel",
            "_view_count": null,
            "_view_module": "@jupyter-widgets/base",
            "_view_module_version": "1.2.0",
            "_view_name": "LayoutView",
            "align_content": null,
            "align_items": null,
            "align_self": null,
            "border": null,
            "bottom": null,
            "display": null,
            "flex": null,
            "flex_flow": null,
            "grid_area": null,
            "grid_auto_columns": null,
            "grid_auto_flow": null,
            "grid_auto_rows": null,
            "grid_column": null,
            "grid_gap": null,
            "grid_row": null,
            "grid_template_areas": null,
            "grid_template_columns": null,
            "grid_template_rows": null,
            "height": null,
            "justify_content": null,
            "justify_items": null,
            "left": null,
            "margin": null,
            "max_height": null,
            "max_width": null,
            "min_height": null,
            "min_width": null,
            "object_fit": null,
            "object_position": null,
            "order": null,
            "overflow": null,
            "overflow_x": null,
            "overflow_y": null,
            "padding": null,
            "right": null,
            "top": null,
            "visibility": null,
            "width": null
          }
        },
        "1588a51eac074e34b88aeafc4c24062d": {
          "model_module": "@jupyter-widgets/controls",
          "model_name": "DescriptionStyleModel",
          "model_module_version": "1.5.0",
          "state": {
            "_model_module": "@jupyter-widgets/controls",
            "_model_module_version": "1.5.0",
            "_model_name": "DescriptionStyleModel",
            "_view_count": null,
            "_view_module": "@jupyter-widgets/base",
            "_view_module_version": "1.2.0",
            "_view_name": "StyleView",
            "description_width": ""
          }
        },
        "bd84f7bb4b4e4339a70b40f7115a9fd0": {
          "model_module": "@jupyter-widgets/base",
          "model_name": "LayoutModel",
          "model_module_version": "1.2.0",
          "state": {
            "_model_module": "@jupyter-widgets/base",
            "_model_module_version": "1.2.0",
            "_model_name": "LayoutModel",
            "_view_count": null,
            "_view_module": "@jupyter-widgets/base",
            "_view_module_version": "1.2.0",
            "_view_name": "LayoutView",
            "align_content": null,
            "align_items": null,
            "align_self": null,
            "border": null,
            "bottom": null,
            "display": null,
            "flex": null,
            "flex_flow": null,
            "grid_area": null,
            "grid_auto_columns": null,
            "grid_auto_flow": null,
            "grid_auto_rows": null,
            "grid_column": null,
            "grid_gap": null,
            "grid_row": null,
            "grid_template_areas": null,
            "grid_template_columns": null,
            "grid_template_rows": null,
            "height": null,
            "justify_content": null,
            "justify_items": null,
            "left": null,
            "margin": null,
            "max_height": null,
            "max_width": null,
            "min_height": null,
            "min_width": null,
            "object_fit": null,
            "object_position": null,
            "order": null,
            "overflow": null,
            "overflow_x": null,
            "overflow_y": null,
            "padding": null,
            "right": null,
            "top": null,
            "visibility": null,
            "width": null
          }
        },
        "944211cebeda4827a404b1a96620ebb0": {
          "model_module": "@jupyter-widgets/controls",
          "model_name": "ProgressStyleModel",
          "model_module_version": "1.5.0",
          "state": {
            "_model_module": "@jupyter-widgets/controls",
            "_model_module_version": "1.5.0",
            "_model_name": "ProgressStyleModel",
            "_view_count": null,
            "_view_module": "@jupyter-widgets/base",
            "_view_module_version": "1.2.0",
            "_view_name": "StyleView",
            "bar_color": null,
            "description_width": ""
          }
        },
        "f41d941423594d6ca31e47596086816c": {
          "model_module": "@jupyter-widgets/controls",
          "model_name": "VBoxModel",
          "model_module_version": "1.5.0",
          "state": {
            "_dom_classes": [],
            "_model_module": "@jupyter-widgets/controls",
            "_model_module_version": "1.5.0",
            "_model_name": "VBoxModel",
            "_view_count": null,
            "_view_module": "@jupyter-widgets/controls",
            "_view_module_version": "1.5.0",
            "_view_name": "VBoxView",
            "box_style": "",
            "children": [
              "IPY_MODEL_60ba69bd9a764b84aaa5acd24ebd3591",
              "IPY_MODEL_f217afe0da4b43238ce259a10e678442"
            ],
            "layout": "IPY_MODEL_8859f5698f0e454a9aebd0241daada4e"
          }
        },
        "60ba69bd9a764b84aaa5acd24ebd3591": {
          "model_module": "@jupyter-widgets/controls",
          "model_name": "LabelModel",
          "model_module_version": "1.5.0",
          "state": {
            "_dom_classes": [],
            "_model_module": "@jupyter-widgets/controls",
            "_model_module_version": "1.5.0",
            "_model_name": "LabelModel",
            "_view_count": null,
            "_view_module": "@jupyter-widgets/controls",
            "_view_module_version": "1.5.0",
            "_view_name": "LabelView",
            "description": "",
            "description_tooltip": null,
            "layout": "IPY_MODEL_600142c1034844ffb97ff359fe4e02f1",
            "placeholder": "​",
            "style": "IPY_MODEL_5ae4f6c6a2044cbbb9506b29724c8b31",
            "value": "0.024 MB of 0.024 MB uploaded\r"
          }
        },
        "f217afe0da4b43238ce259a10e678442": {
          "model_module": "@jupyter-widgets/controls",
          "model_name": "FloatProgressModel",
          "model_module_version": "1.5.0",
          "state": {
            "_dom_classes": [],
            "_model_module": "@jupyter-widgets/controls",
            "_model_module_version": "1.5.0",
            "_model_name": "FloatProgressModel",
            "_view_count": null,
            "_view_module": "@jupyter-widgets/controls",
            "_view_module_version": "1.5.0",
            "_view_name": "ProgressView",
            "bar_style": "",
            "description": "",
            "description_tooltip": null,
            "layout": "IPY_MODEL_dc6a78f953904b7280fed6f9db78973a",
            "max": 1,
            "min": 0,
            "orientation": "horizontal",
            "style": "IPY_MODEL_6afee675641c4125866dce7ea0329ad8",
            "value": 1
          }
        },
        "8859f5698f0e454a9aebd0241daada4e": {
          "model_module": "@jupyter-widgets/base",
          "model_name": "LayoutModel",
          "model_module_version": "1.2.0",
          "state": {
            "_model_module": "@jupyter-widgets/base",
            "_model_module_version": "1.2.0",
            "_model_name": "LayoutModel",
            "_view_count": null,
            "_view_module": "@jupyter-widgets/base",
            "_view_module_version": "1.2.0",
            "_view_name": "LayoutView",
            "align_content": null,
            "align_items": null,
            "align_self": null,
            "border": null,
            "bottom": null,
            "display": null,
            "flex": null,
            "flex_flow": null,
            "grid_area": null,
            "grid_auto_columns": null,
            "grid_auto_flow": null,
            "grid_auto_rows": null,
            "grid_column": null,
            "grid_gap": null,
            "grid_row": null,
            "grid_template_areas": null,
            "grid_template_columns": null,
            "grid_template_rows": null,
            "height": null,
            "justify_content": null,
            "justify_items": null,
            "left": null,
            "margin": null,
            "max_height": null,
            "max_width": null,
            "min_height": null,
            "min_width": null,
            "object_fit": null,
            "object_position": null,
            "order": null,
            "overflow": null,
            "overflow_x": null,
            "overflow_y": null,
            "padding": null,
            "right": null,
            "top": null,
            "visibility": null,
            "width": null
          }
        },
        "600142c1034844ffb97ff359fe4e02f1": {
          "model_module": "@jupyter-widgets/base",
          "model_name": "LayoutModel",
          "model_module_version": "1.2.0",
          "state": {
            "_model_module": "@jupyter-widgets/base",
            "_model_module_version": "1.2.0",
            "_model_name": "LayoutModel",
            "_view_count": null,
            "_view_module": "@jupyter-widgets/base",
            "_view_module_version": "1.2.0",
            "_view_name": "LayoutView",
            "align_content": null,
            "align_items": null,
            "align_self": null,
            "border": null,
            "bottom": null,
            "display": null,
            "flex": null,
            "flex_flow": null,
            "grid_area": null,
            "grid_auto_columns": null,
            "grid_auto_flow": null,
            "grid_auto_rows": null,
            "grid_column": null,
            "grid_gap": null,
            "grid_row": null,
            "grid_template_areas": null,
            "grid_template_columns": null,
            "grid_template_rows": null,
            "height": null,
            "justify_content": null,
            "justify_items": null,
            "left": null,
            "margin": null,
            "max_height": null,
            "max_width": null,
            "min_height": null,
            "min_width": null,
            "object_fit": null,
            "object_position": null,
            "order": null,
            "overflow": null,
            "overflow_x": null,
            "overflow_y": null,
            "padding": null,
            "right": null,
            "top": null,
            "visibility": null,
            "width": null
          }
        },
        "5ae4f6c6a2044cbbb9506b29724c8b31": {
          "model_module": "@jupyter-widgets/controls",
          "model_name": "DescriptionStyleModel",
          "model_module_version": "1.5.0",
          "state": {
            "_model_module": "@jupyter-widgets/controls",
            "_model_module_version": "1.5.0",
            "_model_name": "DescriptionStyleModel",
            "_view_count": null,
            "_view_module": "@jupyter-widgets/base",
            "_view_module_version": "1.2.0",
            "_view_name": "StyleView",
            "description_width": ""
          }
        },
        "dc6a78f953904b7280fed6f9db78973a": {
          "model_module": "@jupyter-widgets/base",
          "model_name": "LayoutModel",
          "model_module_version": "1.2.0",
          "state": {
            "_model_module": "@jupyter-widgets/base",
            "_model_module_version": "1.2.0",
            "_model_name": "LayoutModel",
            "_view_count": null,
            "_view_module": "@jupyter-widgets/base",
            "_view_module_version": "1.2.0",
            "_view_name": "LayoutView",
            "align_content": null,
            "align_items": null,
            "align_self": null,
            "border": null,
            "bottom": null,
            "display": null,
            "flex": null,
            "flex_flow": null,
            "grid_area": null,
            "grid_auto_columns": null,
            "grid_auto_flow": null,
            "grid_auto_rows": null,
            "grid_column": null,
            "grid_gap": null,
            "grid_row": null,
            "grid_template_areas": null,
            "grid_template_columns": null,
            "grid_template_rows": null,
            "height": null,
            "justify_content": null,
            "justify_items": null,
            "left": null,
            "margin": null,
            "max_height": null,
            "max_width": null,
            "min_height": null,
            "min_width": null,
            "object_fit": null,
            "object_position": null,
            "order": null,
            "overflow": null,
            "overflow_x": null,
            "overflow_y": null,
            "padding": null,
            "right": null,
            "top": null,
            "visibility": null,
            "width": null
          }
        },
        "6afee675641c4125866dce7ea0329ad8": {
          "model_module": "@jupyter-widgets/controls",
          "model_name": "ProgressStyleModel",
          "model_module_version": "1.5.0",
          "state": {
            "_model_module": "@jupyter-widgets/controls",
            "_model_module_version": "1.5.0",
            "_model_name": "ProgressStyleModel",
            "_view_count": null,
            "_view_module": "@jupyter-widgets/base",
            "_view_module_version": "1.2.0",
            "_view_name": "StyleView",
            "bar_color": null,
            "description_width": ""
          }
        }
      }
    }
  },
  "nbformat": 4,
  "nbformat_minor": 0
}